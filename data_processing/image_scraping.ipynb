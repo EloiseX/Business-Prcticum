{
 "cells": [
  {
   "cell_type": "markdown",
   "source": [
    "## Initialize API."
   ],
   "metadata": {
    "collapsed": false,
    "pycharm": {
     "name": "#%% md\n"
    }
   }
  },
  {
   "cell_type": "code",
   "execution_count": 1,
   "metadata": {
    "collapsed": true
   },
   "outputs": [],
   "source": [
    "import config\n",
    "import tweepy\n",
    "import pandas as pd\n",
    "\n",
    "api_key = ''\n",
    "api_key_secret = ''\n",
    "\n",
    "access_token = ''\n",
    "access_secret_token = ''\n",
    "\n",
    "auth = tweepy.OAuthHandler(config.api_key, config.api_key_secret)\n",
    "auth.set_access_token(config.access_token, config.access_secret_token)\n",
    "\n",
    "api = tweepy.API(auth, wait_on_rate_limit=True)"
   ]
  },
  {
   "cell_type": "markdown",
   "source": [
    "## Define function to fetch user tweets with appropriate parameters."
   ],
   "metadata": {
    "collapsed": false,
    "pycharm": {
     "name": "#%% md\n"
    }
   }
  },
  {
   "cell_type": "code",
   "execution_count": 2,
   "outputs": [],
   "source": [
    "def getUserTweets(screen_name, count):\n",
    "\n",
    "\n",
    "    # get tweets from the API\n",
    "    tweets = tweepy.Cursor(api.user_timeline, screen_name=screen_name).items(count)\n",
    "\n",
    "    # store the API responses in a list\n",
    "    tweets_copy = []\n",
    "    for tweet in tweets:\n",
    "        if 'media' in tweet.entities: # and 'RT @' not in tweet.text:\n",
    "            tweets_copy.append(tweet)\n",
    "\n",
    "    # initialize the dataframe\n",
    "    tweets_df = pd.DataFrame()\n",
    "    # populate the dataframe\n",
    "    for tweet in tweets_copy:\n",
    "        hashtags = []\n",
    "        media_url = []\n",
    "        try:\n",
    "            for hashtag in tweet.entities[\"hashtags\"]:\n",
    "                hashtags.append(hashtag[\"text\"])\n",
    "            for media in tweet.entities['media']:\n",
    "                media_url.append(media[\"media_url_https\"])\n",
    "        except:\n",
    "            pass\n",
    "        tweets_df = pd.concat([tweets_df, pd.DataFrame({'created_at': tweet.created_at,\n",
    "                                                        'user_name': tweet.user.name,\n",
    "                                                        'screen_name': tweet.user.screen_name,\n",
    "                                                        'description': tweet.user.description,\n",
    "                                                        'user_location': tweet.user.location,\n",
    "                                                        'text': tweet.text,\n",
    "                                                        'language': tweet.lang,\n",
    "                                                        'hashtags': [hashtags if hashtags else None],\n",
    "                                                        'media_url': [media_url if media_url else None],\n",
    "                                                        'source': tweet.source,\n",
    "                                                        'coordinates': tweet.coordinates,\n",
    "                                                        'place': tweet.place,\n",
    "                                                        'time_zone': tweet.user.time_zone,\n",
    "                                                        })])\n",
    "        tweets_df = tweets_df.reset_index(drop=True)\n",
    "\n",
    "    return tweets_df"
   ],
   "metadata": {
    "collapsed": false,
    "pycharm": {
     "name": "#%%\n"
    }
   }
  },
  {
   "cell_type": "markdown",
   "source": [
    "## Define function to fetch query tweets with appropriate parameters."
   ],
   "metadata": {
    "collapsed": false,
    "pycharm": {
     "name": "#%% md\n"
    }
   }
  },
  {
   "cell_type": "code",
   "execution_count": 3,
   "outputs": [],
   "source": [
    "def getQueryTweets(search_query, count):\n",
    "\n",
    "    # get tweets from the API\n",
    "    tweets = tweepy.Cursor(api.search_tweets, q=search_query).items(count)\n",
    "\n",
    "    # store the API responses in a list\n",
    "    tweets_copy = []\n",
    "    for tweet in tweets:\n",
    "        if 'media' in tweet.entities:\n",
    "            tweets_copy.append(tweet)\n",
    "\n",
    "    # initialize the dataframe\n",
    "    tweets_df = pd.DataFrame()\n",
    "    # populate the dataframe\n",
    "    for tweet in tweets_copy:\n",
    "        hashtags = []\n",
    "        media_url = []\n",
    "        try:\n",
    "            for hashtag in tweet.entities[\"hashtags\"]:\n",
    "                hashtags.append(hashtag[\"text\"])\n",
    "            for media in tweet.entities['media']:\n",
    "                media_url.append(media[\"media_url_https\"])\n",
    "        except:\n",
    "            pass\n",
    "        tweets_df = pd.concat([tweets_df, pd.DataFrame({'created_at': tweet.created_at,\n",
    "                                                        'user_name': tweet.user.name,\n",
    "                                                        'screen_name': tweet.user.screen_name,\n",
    "                                                        'description': tweet.user.description,\n",
    "                                                        'user_location': tweet.user.location,\n",
    "                                                        'text': tweet.text,\n",
    "                                                        'language': tweet.lang,\n",
    "                                                        'hashtags': [hashtags if hashtags else None],\n",
    "                                                        'media_url':[media_url if media_url else None],\n",
    "                                                        'source': tweet.source,\n",
    "                                                        'coordinates': tweet.coordinates,\n",
    "                                                        'place': tweet.place,\n",
    "                                                        'time_zone': tweet.user.time_zone,\n",
    "                                                        })])\n",
    "        tweets_df = tweets_df.reset_index(drop=True)\n",
    "\n",
    "    return tweets_df"
   ],
   "metadata": {
    "collapsed": false,
    "pycharm": {
     "name": "#%%\n"
    }
   }
  },
  {
   "cell_type": "markdown",
   "source": [
    "## User Tweets\n",
    "Use getUserTweets() function to fetch user tweets"
   ],
   "metadata": {
    "collapsed": false,
    "pycharm": {
     "name": "#%% md\n"
    }
   }
  },
  {
   "cell_type": "markdown",
   "source": [
    "### user1\n",
    "screen_name = @PilotHarbour"
   ],
   "metadata": {
    "collapsed": false,
    "pycharm": {
     "name": "#%% md\n"
    }
   }
  },
  {
   "cell_type": "code",
   "execution_count": 4,
   "outputs": [
    {
     "name": "stdout",
     "output_type": "stream",
     "text": [
      "Total Tweets fetched: 785\n"
     ]
    },
    {
     "data": {
      "text/plain": "                 created_at      user_name   screen_name  \\\n0 2022-03-06 19:10:12+00:00  Harbour Pilot  PilotHarbour   \n1 2022-03-06 18:56:33+00:00  Harbour Pilot  PilotHarbour   \n2 2022-03-06 18:34:37+00:00  Harbour Pilot  PilotHarbour   \n3 2022-03-06 18:10:46+00:00  Harbour Pilot  PilotHarbour   \n4 2022-03-06 17:57:26+00:00  Harbour Pilot  PilotHarbour   \n\n                            description    user_location  \\\n0  Ports and pilots maritime photograpy  Valencia, Spain   \n1  Ports and pilots maritime photograpy  Valencia, Spain   \n2  Ports and pilots maritime photograpy  Valencia, Spain   \n3  Ports and pilots maritime photograpy  Valencia, Spain   \n4  Ports and pilots maritime photograpy  Valencia, Spain   \n\n                                                text language hashtags  \\\n0  Occitan Pauillac inbound Valencia port. \\nhttp...       en     None   \n1  Clarke Quay berthed Temagra Terminal Sur dock,...       en     None   \n2  MSC Sofia Paz berthed CSP Iberian Terminal, Va...       pt     None   \n3  CMA CGM Homere outbound, Valencia port. \\nhttp...       en     None   \n4  Maersk Puelo berthed APM Terminal, Valencia po...       cy     None   \n\n                                           media_url           source  \\\n0  [https://pbs.twimg.com/media/FNMFpsbX0AkNCx9.jpg]  Twitter Web App   \n1  [https://pbs.twimg.com/media/FNMChlAXsAE1Mt4.jpg]  Twitter Web App   \n2  [https://pbs.twimg.com/media/FNL9gpoXsAUr8nJ.jpg]  Twitter Web App   \n3  [https://pbs.twimg.com/media/FNL4DPLWYAQPP4A.jpg]  Twitter Web App   \n4  [https://pbs.twimg.com/media/FNL0_4uXoAI6fWa.jpg]  Twitter Web App   \n\n  coordinates place time_zone  \n0        None  None      None  \n1        None  None      None  \n2        None  None      None  \n3        None  None      None  \n4        None  None      None  ",
      "text/html": "<div>\n<style scoped>\n    .dataframe tbody tr th:only-of-type {\n        vertical-align: middle;\n    }\n\n    .dataframe tbody tr th {\n        vertical-align: top;\n    }\n\n    .dataframe thead th {\n        text-align: right;\n    }\n</style>\n<table border=\"1\" class=\"dataframe\">\n  <thead>\n    <tr style=\"text-align: right;\">\n      <th></th>\n      <th>created_at</th>\n      <th>user_name</th>\n      <th>screen_name</th>\n      <th>description</th>\n      <th>user_location</th>\n      <th>text</th>\n      <th>language</th>\n      <th>hashtags</th>\n      <th>media_url</th>\n      <th>source</th>\n      <th>coordinates</th>\n      <th>place</th>\n      <th>time_zone</th>\n    </tr>\n  </thead>\n  <tbody>\n    <tr>\n      <th>0</th>\n      <td>2022-03-06 19:10:12+00:00</td>\n      <td>Harbour Pilot</td>\n      <td>PilotHarbour</td>\n      <td>Ports and pilots maritime photograpy</td>\n      <td>Valencia, Spain</td>\n      <td>Occitan Pauillac inbound Valencia port. \\nhttp...</td>\n      <td>en</td>\n      <td>None</td>\n      <td>[https://pbs.twimg.com/media/FNMFpsbX0AkNCx9.jpg]</td>\n      <td>Twitter Web App</td>\n      <td>None</td>\n      <td>None</td>\n      <td>None</td>\n    </tr>\n    <tr>\n      <th>1</th>\n      <td>2022-03-06 18:56:33+00:00</td>\n      <td>Harbour Pilot</td>\n      <td>PilotHarbour</td>\n      <td>Ports and pilots maritime photograpy</td>\n      <td>Valencia, Spain</td>\n      <td>Clarke Quay berthed Temagra Terminal Sur dock,...</td>\n      <td>en</td>\n      <td>None</td>\n      <td>[https://pbs.twimg.com/media/FNMChlAXsAE1Mt4.jpg]</td>\n      <td>Twitter Web App</td>\n      <td>None</td>\n      <td>None</td>\n      <td>None</td>\n    </tr>\n    <tr>\n      <th>2</th>\n      <td>2022-03-06 18:34:37+00:00</td>\n      <td>Harbour Pilot</td>\n      <td>PilotHarbour</td>\n      <td>Ports and pilots maritime photograpy</td>\n      <td>Valencia, Spain</td>\n      <td>MSC Sofia Paz berthed CSP Iberian Terminal, Va...</td>\n      <td>pt</td>\n      <td>None</td>\n      <td>[https://pbs.twimg.com/media/FNL9gpoXsAUr8nJ.jpg]</td>\n      <td>Twitter Web App</td>\n      <td>None</td>\n      <td>None</td>\n      <td>None</td>\n    </tr>\n    <tr>\n      <th>3</th>\n      <td>2022-03-06 18:10:46+00:00</td>\n      <td>Harbour Pilot</td>\n      <td>PilotHarbour</td>\n      <td>Ports and pilots maritime photograpy</td>\n      <td>Valencia, Spain</td>\n      <td>CMA CGM Homere outbound, Valencia port. \\nhttp...</td>\n      <td>en</td>\n      <td>None</td>\n      <td>[https://pbs.twimg.com/media/FNL4DPLWYAQPP4A.jpg]</td>\n      <td>Twitter Web App</td>\n      <td>None</td>\n      <td>None</td>\n      <td>None</td>\n    </tr>\n    <tr>\n      <th>4</th>\n      <td>2022-03-06 17:57:26+00:00</td>\n      <td>Harbour Pilot</td>\n      <td>PilotHarbour</td>\n      <td>Ports and pilots maritime photograpy</td>\n      <td>Valencia, Spain</td>\n      <td>Maersk Puelo berthed APM Terminal, Valencia po...</td>\n      <td>cy</td>\n      <td>None</td>\n      <td>[https://pbs.twimg.com/media/FNL0_4uXoAI6fWa.jpg]</td>\n      <td>Twitter Web App</td>\n      <td>None</td>\n      <td>None</td>\n      <td>None</td>\n    </tr>\n  </tbody>\n</table>\n</div>"
     },
     "execution_count": 4,
     "metadata": {},
     "output_type": "execute_result"
    }
   ],
   "source": [
    "# Use getUserTweets function (screen_name = 'PilotHarbour', count = 1000)\n",
    "user1 = getUserTweets('PilotHarbour', 1000)\n",
    "\n",
    "# show total number of tweets\n",
    "print(\"Total Tweets fetched:\", len(user1))\n",
    "\n",
    "# show the dataframe\n",
    "user1.head()"
   ],
   "metadata": {
    "collapsed": false,
    "pycharm": {
     "name": "#%%\n"
    }
   }
  },
  {
   "cell_type": "code",
   "execution_count": 36,
   "outputs": [],
   "source": [
    "# export dataframe to csv file\n",
    "user1.to_csv('C:/Users/tivon/projects/twitter_project/data/user_tweets_pilotharbour.csv')"
   ],
   "metadata": {
    "collapsed": false,
    "pycharm": {
     "name": "#%%\n"
    }
   }
  },
  {
   "cell_type": "markdown",
   "source": [
    "### user2\n",
    "screen_name = @ShippingMag"
   ],
   "metadata": {
    "collapsed": false,
    "pycharm": {
     "name": "#%% md\n"
    }
   }
  },
  {
   "cell_type": "code",
   "execution_count": 5,
   "outputs": [
    {
     "name": "stdout",
     "output_type": "stream",
     "text": [
      "Total Tweets fetched: 202\n"
     ]
    },
    {
     "data": {
      "text/plain": "                 created_at     user_name  screen_name  \\\n0 2022-03-06 20:33:14+00:00  Shipping Mag  ShippingMag   \n1 2022-03-06 06:11:37+00:00  Shipping Mag  ShippingMag   \n2 2022-03-05 13:33:01+00:00  Shipping Mag  ShippingMag   \n3 2022-03-03 05:40:50+00:00  Shipping Mag  ShippingMag   \n4 2022-03-01 05:47:57+00:00  Shipping Mag  ShippingMag   \n\n                                         description   user_location  \\\n0  Shipping Today & Yesterday - the monthly magaz...  United Kingdom   \n1  Shipping Today & Yesterday - the monthly magaz...  United Kingdom   \n2  Shipping Today & Yesterday - the monthly magaz...  United Kingdom   \n3  Shipping Today & Yesterday - the monthly magaz...  United Kingdom   \n4  Shipping Today & Yesterday - the monthly magaz...  United Kingdom   \n\n                                                text language  \\\n0  RT @capt_haitham: #Repost\\n\\nThere goes a #Pil...       en   \n1  RT @GaloMonge: Trabajando en equipo @boludacm ...       es   \n2  RT @donships1: No.1632 New Camellia 2004 19,96...       en   \n3  RT @JuanGMata: Ferry \"Bahama Mama\" saliendo de...       es   \n4  RT @BShipspotting: Container ship Lori and bul...       en   \n\n          hashtags                                          media_url  \\\n0  [Repost, Pilot]  [https://pbs.twimg.com/ext_tw_video_thumb/1500...   \n1             None  [https://pbs.twimg.com/media/FNHBO7tXIAcX-9u.jpg]   \n2             None  [https://pbs.twimg.com/media/FNEnbzyXMAUosR4.jpg]   \n3             None  [https://pbs.twimg.com/media/FM4CiZiWQAMtiUO.jpg]   \n4             None  [https://pbs.twimg.com/media/FMuAYQqXMAUqqrm.jpg]   \n\n                source coordinates place time_zone  \n0  Twitter for Android        None  None      None  \n1  Twitter for Android        None  None      None  \n2  Twitter for Android        None  None      None  \n3  Twitter for Android        None  None      None  \n4  Twitter for Android        None  None      None  ",
      "text/html": "<div>\n<style scoped>\n    .dataframe tbody tr th:only-of-type {\n        vertical-align: middle;\n    }\n\n    .dataframe tbody tr th {\n        vertical-align: top;\n    }\n\n    .dataframe thead th {\n        text-align: right;\n    }\n</style>\n<table border=\"1\" class=\"dataframe\">\n  <thead>\n    <tr style=\"text-align: right;\">\n      <th></th>\n      <th>created_at</th>\n      <th>user_name</th>\n      <th>screen_name</th>\n      <th>description</th>\n      <th>user_location</th>\n      <th>text</th>\n      <th>language</th>\n      <th>hashtags</th>\n      <th>media_url</th>\n      <th>source</th>\n      <th>coordinates</th>\n      <th>place</th>\n      <th>time_zone</th>\n    </tr>\n  </thead>\n  <tbody>\n    <tr>\n      <th>0</th>\n      <td>2022-03-06 20:33:14+00:00</td>\n      <td>Shipping Mag</td>\n      <td>ShippingMag</td>\n      <td>Shipping Today &amp; Yesterday - the monthly magaz...</td>\n      <td>United Kingdom</td>\n      <td>RT @capt_haitham: #Repost\\n\\nThere goes a #Pil...</td>\n      <td>en</td>\n      <td>[Repost, Pilot]</td>\n      <td>[https://pbs.twimg.com/ext_tw_video_thumb/1500...</td>\n      <td>Twitter for Android</td>\n      <td>None</td>\n      <td>None</td>\n      <td>None</td>\n    </tr>\n    <tr>\n      <th>1</th>\n      <td>2022-03-06 06:11:37+00:00</td>\n      <td>Shipping Mag</td>\n      <td>ShippingMag</td>\n      <td>Shipping Today &amp; Yesterday - the monthly magaz...</td>\n      <td>United Kingdom</td>\n      <td>RT @GaloMonge: Trabajando en equipo @boludacm ...</td>\n      <td>es</td>\n      <td>None</td>\n      <td>[https://pbs.twimg.com/media/FNHBO7tXIAcX-9u.jpg]</td>\n      <td>Twitter for Android</td>\n      <td>None</td>\n      <td>None</td>\n      <td>None</td>\n    </tr>\n    <tr>\n      <th>2</th>\n      <td>2022-03-05 13:33:01+00:00</td>\n      <td>Shipping Mag</td>\n      <td>ShippingMag</td>\n      <td>Shipping Today &amp; Yesterday - the monthly magaz...</td>\n      <td>United Kingdom</td>\n      <td>RT @donships1: No.1632 New Camellia 2004 19,96...</td>\n      <td>en</td>\n      <td>None</td>\n      <td>[https://pbs.twimg.com/media/FNEnbzyXMAUosR4.jpg]</td>\n      <td>Twitter for Android</td>\n      <td>None</td>\n      <td>None</td>\n      <td>None</td>\n    </tr>\n    <tr>\n      <th>3</th>\n      <td>2022-03-03 05:40:50+00:00</td>\n      <td>Shipping Mag</td>\n      <td>ShippingMag</td>\n      <td>Shipping Today &amp; Yesterday - the monthly magaz...</td>\n      <td>United Kingdom</td>\n      <td>RT @JuanGMata: Ferry \"Bahama Mama\" saliendo de...</td>\n      <td>es</td>\n      <td>None</td>\n      <td>[https://pbs.twimg.com/media/FM4CiZiWQAMtiUO.jpg]</td>\n      <td>Twitter for Android</td>\n      <td>None</td>\n      <td>None</td>\n      <td>None</td>\n    </tr>\n    <tr>\n      <th>4</th>\n      <td>2022-03-01 05:47:57+00:00</td>\n      <td>Shipping Mag</td>\n      <td>ShippingMag</td>\n      <td>Shipping Today &amp; Yesterday - the monthly magaz...</td>\n      <td>United Kingdom</td>\n      <td>RT @BShipspotting: Container ship Lori and bul...</td>\n      <td>en</td>\n      <td>None</td>\n      <td>[https://pbs.twimg.com/media/FMuAYQqXMAUqqrm.jpg]</td>\n      <td>Twitter for Android</td>\n      <td>None</td>\n      <td>None</td>\n      <td>None</td>\n    </tr>\n  </tbody>\n</table>\n</div>"
     },
     "execution_count": 5,
     "metadata": {},
     "output_type": "execute_result"
    }
   ],
   "source": [
    "# Use getUserTweets function (screen_name = 'ShippingMag', count = 1000)\n",
    "user2 = getUserTweets('ShippingMag', 1000)\n",
    "\n",
    "# show total number of tweets\n",
    "print(\"Total Tweets fetched:\", len(user2))\n",
    "\n",
    "# show the dataframe\n",
    "user2.head()"
   ],
   "metadata": {
    "collapsed": false,
    "pycharm": {
     "name": "#%%\n"
    }
   }
  },
  {
   "cell_type": "code",
   "execution_count": 39,
   "outputs": [],
   "source": [
    "# export dataframe to csv file\n",
    "user2.to_csv('C:/Users/tivon/projects/twitter_project/data/user_tweets_shippingmag.csv')"
   ],
   "metadata": {
    "collapsed": false,
    "pycharm": {
     "name": "#%%\n"
    }
   }
  },
  {
   "cell_type": "markdown",
   "source": [
    "### user3\n",
    "screen_name = @ShipsInPics"
   ],
   "metadata": {
    "collapsed": false,
    "pycharm": {
     "name": "#%% md\n"
    }
   }
  },
  {
   "cell_type": "code",
   "execution_count": 6,
   "outputs": [
    {
     "name": "stdout",
     "output_type": "stream",
     "text": [
      "Total Tweets fetched: 116\n"
     ]
    },
    {
     "data": {
      "text/plain": "                 created_at             user_name  screen_name  \\\n0 2022-03-05 19:10:35+00:00  Ships In Pictures ⚓️  ShipsInPics   \n1 2022-03-05 13:10:35+00:00  Ships In Pictures ⚓️  ShipsInPics   \n2 2022-03-04 18:10:45+00:00  Ships In Pictures ⚓️  ShipsInPics   \n3 2022-03-04 18:10:39+00:00  Ships In Pictures ⚓️  ShipsInPics   \n4 2022-03-03 18:10:38+00:00  Ships In Pictures ⚓️  ShipsInPics   \n\n                                         description  \\\n0  Sharing the best ship photos 📷 around. Tweets ...   \n1  Sharing the best ship photos 📷 around. Tweets ...   \n2  Sharing the best ship photos 📷 around. Tweets ...   \n3  Sharing the best ship photos 📷 around. Tweets ...   \n4  Sharing the best ship photos 📷 around. Tweets ...   \n\n                  user_location  \\\n0  Email: shipsinpics@gmail.com   \n1  Email: shipsinpics@gmail.com   \n2  Email: shipsinpics@gmail.com   \n3  Email: shipsinpics@gmail.com   \n4  Email: shipsinpics@gmail.com   \n\n                                                text language  \\\n0  RT @AfricaUya: FREESIA at⚓️  #Ship #port #ship...       in   \n1  RT @Apez140: #Instantes\\nCon los que me identi...       es   \n2  RT @johnmorgan726: The #RAM15 MMSI:366878290 o...       en   \n3  RT @AfricaUya: FT PORTORIA at⚓️  #Ship #port #...       cs   \n4  RT @AfricaUya: KARIM ALLAH anchored⚓️  #Ship #...       in   \n\n                                            hashtags  \\\n0  [Ship, port, shipsinpics, maritime, VTS, ships...   \n1                           [Instantes, ShipsInPics]   \n2                               [RAM15, ShipsInPics]   \n3  [Ship, port, shipsinpics, maritime, VTS, ships...   \n4  [Ship, port, shipsinpics, maritime, VTS, ships...   \n\n                                           media_url          source  \\\n0  [https://pbs.twimg.com/media/FNGy-yCXwAIkBr9.jpg]  RT #shipinpics   \n1  [https://pbs.twimg.com/media/FNFhIx7XoAEoKkW.jpg]  RT #shipinpics   \n2  [https://pbs.twimg.com/media/FNBjT7GX0AMkkjb.jpg]  RT #shipinpics   \n3  [https://pbs.twimg.com/media/FNBiq-wXsAc-sp9.jpg]  RT #shipinpics   \n4  [https://pbs.twimg.com/media/FM8Z3YkX0AM4vW4.jpg]  RT #shipinpics   \n\n  coordinates place time_zone  \n0        None  None      None  \n1        None  None      None  \n2        None  None      None  \n3        None  None      None  \n4        None  None      None  ",
      "text/html": "<div>\n<style scoped>\n    .dataframe tbody tr th:only-of-type {\n        vertical-align: middle;\n    }\n\n    .dataframe tbody tr th {\n        vertical-align: top;\n    }\n\n    .dataframe thead th {\n        text-align: right;\n    }\n</style>\n<table border=\"1\" class=\"dataframe\">\n  <thead>\n    <tr style=\"text-align: right;\">\n      <th></th>\n      <th>created_at</th>\n      <th>user_name</th>\n      <th>screen_name</th>\n      <th>description</th>\n      <th>user_location</th>\n      <th>text</th>\n      <th>language</th>\n      <th>hashtags</th>\n      <th>media_url</th>\n      <th>source</th>\n      <th>coordinates</th>\n      <th>place</th>\n      <th>time_zone</th>\n    </tr>\n  </thead>\n  <tbody>\n    <tr>\n      <th>0</th>\n      <td>2022-03-05 19:10:35+00:00</td>\n      <td>Ships In Pictures ⚓️</td>\n      <td>ShipsInPics</td>\n      <td>Sharing the best ship photos 📷 around. Tweets ...</td>\n      <td>Email: shipsinpics@gmail.com</td>\n      <td>RT @AfricaUya: FREESIA at⚓️  #Ship #port #ship...</td>\n      <td>in</td>\n      <td>[Ship, port, shipsinpics, maritime, VTS, ships...</td>\n      <td>[https://pbs.twimg.com/media/FNGy-yCXwAIkBr9.jpg]</td>\n      <td>RT #shipinpics</td>\n      <td>None</td>\n      <td>None</td>\n      <td>None</td>\n    </tr>\n    <tr>\n      <th>1</th>\n      <td>2022-03-05 13:10:35+00:00</td>\n      <td>Ships In Pictures ⚓️</td>\n      <td>ShipsInPics</td>\n      <td>Sharing the best ship photos 📷 around. Tweets ...</td>\n      <td>Email: shipsinpics@gmail.com</td>\n      <td>RT @Apez140: #Instantes\\nCon los que me identi...</td>\n      <td>es</td>\n      <td>[Instantes, ShipsInPics]</td>\n      <td>[https://pbs.twimg.com/media/FNFhIx7XoAEoKkW.jpg]</td>\n      <td>RT #shipinpics</td>\n      <td>None</td>\n      <td>None</td>\n      <td>None</td>\n    </tr>\n    <tr>\n      <th>2</th>\n      <td>2022-03-04 18:10:45+00:00</td>\n      <td>Ships In Pictures ⚓️</td>\n      <td>ShipsInPics</td>\n      <td>Sharing the best ship photos 📷 around. Tweets ...</td>\n      <td>Email: shipsinpics@gmail.com</td>\n      <td>RT @johnmorgan726: The #RAM15 MMSI:366878290 o...</td>\n      <td>en</td>\n      <td>[RAM15, ShipsInPics]</td>\n      <td>[https://pbs.twimg.com/media/FNBjT7GX0AMkkjb.jpg]</td>\n      <td>RT #shipinpics</td>\n      <td>None</td>\n      <td>None</td>\n      <td>None</td>\n    </tr>\n    <tr>\n      <th>3</th>\n      <td>2022-03-04 18:10:39+00:00</td>\n      <td>Ships In Pictures ⚓️</td>\n      <td>ShipsInPics</td>\n      <td>Sharing the best ship photos 📷 around. Tweets ...</td>\n      <td>Email: shipsinpics@gmail.com</td>\n      <td>RT @AfricaUya: FT PORTORIA at⚓️  #Ship #port #...</td>\n      <td>cs</td>\n      <td>[Ship, port, shipsinpics, maritime, VTS, ships...</td>\n      <td>[https://pbs.twimg.com/media/FNBiq-wXsAc-sp9.jpg]</td>\n      <td>RT #shipinpics</td>\n      <td>None</td>\n      <td>None</td>\n      <td>None</td>\n    </tr>\n    <tr>\n      <th>4</th>\n      <td>2022-03-03 18:10:38+00:00</td>\n      <td>Ships In Pictures ⚓️</td>\n      <td>ShipsInPics</td>\n      <td>Sharing the best ship photos 📷 around. Tweets ...</td>\n      <td>Email: shipsinpics@gmail.com</td>\n      <td>RT @AfricaUya: KARIM ALLAH anchored⚓️  #Ship #...</td>\n      <td>in</td>\n      <td>[Ship, port, shipsinpics, maritime, VTS, ships...</td>\n      <td>[https://pbs.twimg.com/media/FM8Z3YkX0AM4vW4.jpg]</td>\n      <td>RT #shipinpics</td>\n      <td>None</td>\n      <td>None</td>\n      <td>None</td>\n    </tr>\n  </tbody>\n</table>\n</div>"
     },
     "execution_count": 6,
     "metadata": {},
     "output_type": "execute_result"
    }
   ],
   "source": [
    "# Use getUserTweets function (screen_name = 'ShipsInPics', count = 1000)\n",
    "user3 = getUserTweets('ShipsInPics', 1000)\n",
    "\n",
    "# show total number of tweets\n",
    "print(\"Total Tweets fetched:\", len(user3))\n",
    "\n",
    "# show the dataframe\n",
    "user3.head()"
   ],
   "metadata": {
    "collapsed": false,
    "pycharm": {
     "name": "#%%\n"
    }
   }
  },
  {
   "cell_type": "code",
   "execution_count": 41,
   "outputs": [],
   "source": [
    "# export dataframe to csv file\n",
    "user3.to_csv('C:/Users/tivon/projects/twitter_project/data/user_tweets_shipsinpics.csv')"
   ],
   "metadata": {
    "collapsed": false,
    "pycharm": {
     "name": "#%%\n"
    }
   }
  },
  {
   "cell_type": "markdown",
   "source": [
    "### user4\n",
    "screen_name = @MarineInsight"
   ],
   "metadata": {
    "collapsed": false,
    "pycharm": {
     "name": "#%% md\n"
    }
   }
  },
  {
   "cell_type": "code",
   "execution_count": 13,
   "outputs": [
    {
     "name": "stdout",
     "output_type": "stream",
     "text": [
      "Total Tweets fetched: 130\n"
     ]
    },
    {
     "data": {
      "text/plain": "                 created_at                      user_name    screen_name  \\\n0 2022-03-06 18:45:17+00:00  Manuel Hernández Lafuente ⚓🌱📷  ManuelHdezLaf   \n1 2022-03-06 09:59:23+00:00  Manuel Hernández Lafuente ⚓🌱📷  ManuelHdezLaf   \n2 2022-03-01 17:10:18+00:00  Manuel Hernández Lafuente ⚓🌱📷  ManuelHdezLaf   \n3 2022-03-01 12:55:15+00:00  Manuel Hernández Lafuente ⚓🌱📷  ManuelHdezLaf   \n4 2022-03-01 12:24:34+00:00  Manuel Hernández Lafuente ⚓🌱📷  ManuelHdezLaf   \n\n                                         description     user_location  \\\n0  Capitán de la Marina Mercante, jubilado. Fotog...  Valencia, España   \n1  Capitán de la Marina Mercante, jubilado. Fotog...  Valencia, España   \n2  Capitán de la Marina Mercante, jubilado. Fotog...  Valencia, España   \n3  Capitán de la Marina Mercante, jubilado. Fotog...  Valencia, España   \n4  Capitán de la Marina Mercante, jubilado. Fotog...  Valencia, España   \n\n                                                text language  \\\n0  #Onagraceae\\n#Oenothera rosea L'Hér. ex Aiton ...       ro   \n1  Antiguo Faro de Valencia - @FarosLos @FarosdeE...       es   \n2  Besalú \\nhttps://t.co/8qkkPQmDtp https://t.co/...       es   \n3  #Oleaceae\\n#Olea europaea L. / Olivo. Olive. O...       et   \n4  #Oleaceae\\n#Ligustrum ovalifolium Hassk. / Ali...       ca   \n\n                  hashtags                                          media_url  \\\n0  [Onagraceae, Oenothera]  [https://pbs.twimg.com/media/FNL_8jRWQAklyDe.jpg]   \n1                     None  [https://pbs.twimg.com/media/FNKHjG1XMAcgIQo.jpg]   \n2                     None  [https://pbs.twimg.com/media/FMx6PtIXwAUBFdJ.jpg]   \n3         [Oleaceae, Olea]  [https://pbs.twimg.com/media/FMw_4VQXMAIMMf_.jpg]   \n4    [Oleaceae, Ligustrum]  [https://pbs.twimg.com/media/FMw42nrX0A0Eet9.jpg]   \n\n            source coordinates place time_zone  \n0  Twitter Web App        None  None      None  \n1  Twitter Web App        None  None      None  \n2  Twitter Web App        None  None      None  \n3  Twitter Web App        None  None      None  \n4  Twitter Web App        None  None      None  ",
      "text/html": "<div>\n<style scoped>\n    .dataframe tbody tr th:only-of-type {\n        vertical-align: middle;\n    }\n\n    .dataframe tbody tr th {\n        vertical-align: top;\n    }\n\n    .dataframe thead th {\n        text-align: right;\n    }\n</style>\n<table border=\"1\" class=\"dataframe\">\n  <thead>\n    <tr style=\"text-align: right;\">\n      <th></th>\n      <th>created_at</th>\n      <th>user_name</th>\n      <th>screen_name</th>\n      <th>description</th>\n      <th>user_location</th>\n      <th>text</th>\n      <th>language</th>\n      <th>hashtags</th>\n      <th>media_url</th>\n      <th>source</th>\n      <th>coordinates</th>\n      <th>place</th>\n      <th>time_zone</th>\n    </tr>\n  </thead>\n  <tbody>\n    <tr>\n      <th>0</th>\n      <td>2022-03-06 18:45:17+00:00</td>\n      <td>Manuel Hernández Lafuente ⚓🌱📷</td>\n      <td>ManuelHdezLaf</td>\n      <td>Capitán de la Marina Mercante, jubilado. Fotog...</td>\n      <td>Valencia, España</td>\n      <td>#Onagraceae\\n#Oenothera rosea L'Hér. ex Aiton ...</td>\n      <td>ro</td>\n      <td>[Onagraceae, Oenothera]</td>\n      <td>[https://pbs.twimg.com/media/FNL_8jRWQAklyDe.jpg]</td>\n      <td>Twitter Web App</td>\n      <td>None</td>\n      <td>None</td>\n      <td>None</td>\n    </tr>\n    <tr>\n      <th>1</th>\n      <td>2022-03-06 09:59:23+00:00</td>\n      <td>Manuel Hernández Lafuente ⚓🌱📷</td>\n      <td>ManuelHdezLaf</td>\n      <td>Capitán de la Marina Mercante, jubilado. Fotog...</td>\n      <td>Valencia, España</td>\n      <td>Antiguo Faro de Valencia - @FarosLos @FarosdeE...</td>\n      <td>es</td>\n      <td>None</td>\n      <td>[https://pbs.twimg.com/media/FNKHjG1XMAcgIQo.jpg]</td>\n      <td>Twitter Web App</td>\n      <td>None</td>\n      <td>None</td>\n      <td>None</td>\n    </tr>\n    <tr>\n      <th>2</th>\n      <td>2022-03-01 17:10:18+00:00</td>\n      <td>Manuel Hernández Lafuente ⚓🌱📷</td>\n      <td>ManuelHdezLaf</td>\n      <td>Capitán de la Marina Mercante, jubilado. Fotog...</td>\n      <td>Valencia, España</td>\n      <td>Besalú \\nhttps://t.co/8qkkPQmDtp https://t.co/...</td>\n      <td>es</td>\n      <td>None</td>\n      <td>[https://pbs.twimg.com/media/FMx6PtIXwAUBFdJ.jpg]</td>\n      <td>Twitter Web App</td>\n      <td>None</td>\n      <td>None</td>\n      <td>None</td>\n    </tr>\n    <tr>\n      <th>3</th>\n      <td>2022-03-01 12:55:15+00:00</td>\n      <td>Manuel Hernández Lafuente ⚓🌱📷</td>\n      <td>ManuelHdezLaf</td>\n      <td>Capitán de la Marina Mercante, jubilado. Fotog...</td>\n      <td>Valencia, España</td>\n      <td>#Oleaceae\\n#Olea europaea L. / Olivo. Olive. O...</td>\n      <td>et</td>\n      <td>[Oleaceae, Olea]</td>\n      <td>[https://pbs.twimg.com/media/FMw_4VQXMAIMMf_.jpg]</td>\n      <td>Twitter Web App</td>\n      <td>None</td>\n      <td>None</td>\n      <td>None</td>\n    </tr>\n    <tr>\n      <th>4</th>\n      <td>2022-03-01 12:24:34+00:00</td>\n      <td>Manuel Hernández Lafuente ⚓🌱📷</td>\n      <td>ManuelHdezLaf</td>\n      <td>Capitán de la Marina Mercante, jubilado. Fotog...</td>\n      <td>Valencia, España</td>\n      <td>#Oleaceae\\n#Ligustrum ovalifolium Hassk. / Ali...</td>\n      <td>ca</td>\n      <td>[Oleaceae, Ligustrum]</td>\n      <td>[https://pbs.twimg.com/media/FMw42nrX0A0Eet9.jpg]</td>\n      <td>Twitter Web App</td>\n      <td>None</td>\n      <td>None</td>\n      <td>None</td>\n    </tr>\n  </tbody>\n</table>\n</div>"
     },
     "execution_count": 13,
     "metadata": {},
     "output_type": "execute_result"
    }
   ],
   "source": [
    "# Use getUserTweets function (screen_name = 'MarineInsight', count = 1000)\n",
    "user4 = getUserTweets('ManuelHdezLaf', 1000)\n",
    "\n",
    "# show total number of tweets\n",
    "print(\"Total Tweets fetched:\", len(user4))\n",
    "\n",
    "# show the dataframe\n",
    "user4.head()"
   ],
   "metadata": {
    "collapsed": false,
    "pycharm": {
     "name": "#%%\n"
    }
   }
  },
  {
   "cell_type": "code",
   "execution_count": 17,
   "outputs": [],
   "source": [
    "# export dataframe to csv file\n",
    "user4.to_csv('C:/Users/tivon/projects/twitter_project/data/user_tweets_manuelhdezlaf.csv')"
   ],
   "metadata": {
    "collapsed": false,
    "pycharm": {
     "name": "#%%\n"
    }
   }
  },
  {
   "cell_type": "markdown",
   "source": [
    "### user4\n",
    "screen_name = @WarshipCam"
   ],
   "metadata": {
    "collapsed": false,
    "pycharm": {
     "name": "#%% md\n"
    }
   }
  },
  {
   "cell_type": "code",
   "execution_count": 15,
   "outputs": [
    {
     "name": "stdout",
     "output_type": "stream",
     "text": [
      "Total Tweets fetched: 66\n"
     ]
    },
    {
     "data": {
      "text/plain": "                 created_at   user_name screen_name  \\\n0 2022-03-05 12:49:35+00:00  WarshipCam  WarshipCam   \n1 2022-03-05 12:17:57+00:00  WarshipCam  WarshipCam   \n2 2022-03-04 13:30:05+00:00  WarshipCam  WarshipCam   \n3 2022-03-04 13:08:42+00:00  WarshipCam  WarshipCam   \n4 2022-03-03 13:57:21+00:00  WarshipCam  WarshipCam   \n\n                                         description  user_location  \\\n0  *-* Watching webcams & social media for views ...  Virginia, USA   \n1  *-* Watching webcams & social media for views ...  Virginia, USA   \n2  *-* Watching webcams & social media for views ...  Virginia, USA   \n3  *-* Watching webcams & social media for views ...  Virginia, USA   \n4  *-* Watching webcams & social media for views ...  Virginia, USA   \n\n                                                text language  \\\n0  HMCS Halifax (FFH 330) Halifax-class frigate l...       fi   \n1  German Navy Elbe-class tender FGS Main (A515) ...       en   \n2  Standing NATO Mine Countermeasures Group 1 (SN...       en   \n3  Helicopters Coming Into San Diego - March 3, 2...       en   \n4  USS Bataan (LHD 5) Wasp-class amphibious assau...       en   \n\n                hashtags                                          media_url  \\\n0  [hmcshalifax, ffh330]  [https://pbs.twimg.com/media/FNFk84JXEAYHm_Q.jpg]   \n1        [fgsmain, a515]  [https://pbs.twimg.com/media/FNFdtcgXwAA0Pyy.jpg]   \n2              [snmcmg1]  [https://pbs.twimg.com/media/FNAkoh7WUAYpI7j.jpg]   \n3                   None  [https://pbs.twimg.com/media/FNAfvMRXoAUZTsK.jpg]   \n4      [ussbataan, lhd5]  [https://pbs.twimg.com/media/FM7hSGZXoAECgmD.jpg]   \n\n             source coordinates place time_zone  \n0  Twitter for iPad        None  None      None  \n1  Twitter for iPad        None  None      None  \n2  Twitter for iPad        None  None      None  \n3  Twitter for iPad        None  None      None  \n4  Twitter for iPad        None  None      None  ",
      "text/html": "<div>\n<style scoped>\n    .dataframe tbody tr th:only-of-type {\n        vertical-align: middle;\n    }\n\n    .dataframe tbody tr th {\n        vertical-align: top;\n    }\n\n    .dataframe thead th {\n        text-align: right;\n    }\n</style>\n<table border=\"1\" class=\"dataframe\">\n  <thead>\n    <tr style=\"text-align: right;\">\n      <th></th>\n      <th>created_at</th>\n      <th>user_name</th>\n      <th>screen_name</th>\n      <th>description</th>\n      <th>user_location</th>\n      <th>text</th>\n      <th>language</th>\n      <th>hashtags</th>\n      <th>media_url</th>\n      <th>source</th>\n      <th>coordinates</th>\n      <th>place</th>\n      <th>time_zone</th>\n    </tr>\n  </thead>\n  <tbody>\n    <tr>\n      <th>0</th>\n      <td>2022-03-05 12:49:35+00:00</td>\n      <td>WarshipCam</td>\n      <td>WarshipCam</td>\n      <td>*-* Watching webcams &amp; social media for views ...</td>\n      <td>Virginia, USA</td>\n      <td>HMCS Halifax (FFH 330) Halifax-class frigate l...</td>\n      <td>fi</td>\n      <td>[hmcshalifax, ffh330]</td>\n      <td>[https://pbs.twimg.com/media/FNFk84JXEAYHm_Q.jpg]</td>\n      <td>Twitter for iPad</td>\n      <td>None</td>\n      <td>None</td>\n      <td>None</td>\n    </tr>\n    <tr>\n      <th>1</th>\n      <td>2022-03-05 12:17:57+00:00</td>\n      <td>WarshipCam</td>\n      <td>WarshipCam</td>\n      <td>*-* Watching webcams &amp; social media for views ...</td>\n      <td>Virginia, USA</td>\n      <td>German Navy Elbe-class tender FGS Main (A515) ...</td>\n      <td>en</td>\n      <td>[fgsmain, a515]</td>\n      <td>[https://pbs.twimg.com/media/FNFdtcgXwAA0Pyy.jpg]</td>\n      <td>Twitter for iPad</td>\n      <td>None</td>\n      <td>None</td>\n      <td>None</td>\n    </tr>\n    <tr>\n      <th>2</th>\n      <td>2022-03-04 13:30:05+00:00</td>\n      <td>WarshipCam</td>\n      <td>WarshipCam</td>\n      <td>*-* Watching webcams &amp; social media for views ...</td>\n      <td>Virginia, USA</td>\n      <td>Standing NATO Mine Countermeasures Group 1 (SN...</td>\n      <td>en</td>\n      <td>[snmcmg1]</td>\n      <td>[https://pbs.twimg.com/media/FNAkoh7WUAYpI7j.jpg]</td>\n      <td>Twitter for iPad</td>\n      <td>None</td>\n      <td>None</td>\n      <td>None</td>\n    </tr>\n    <tr>\n      <th>3</th>\n      <td>2022-03-04 13:08:42+00:00</td>\n      <td>WarshipCam</td>\n      <td>WarshipCam</td>\n      <td>*-* Watching webcams &amp; social media for views ...</td>\n      <td>Virginia, USA</td>\n      <td>Helicopters Coming Into San Diego - March 3, 2...</td>\n      <td>en</td>\n      <td>None</td>\n      <td>[https://pbs.twimg.com/media/FNAfvMRXoAUZTsK.jpg]</td>\n      <td>Twitter for iPad</td>\n      <td>None</td>\n      <td>None</td>\n      <td>None</td>\n    </tr>\n    <tr>\n      <th>4</th>\n      <td>2022-03-03 13:57:21+00:00</td>\n      <td>WarshipCam</td>\n      <td>WarshipCam</td>\n      <td>*-* Watching webcams &amp; social media for views ...</td>\n      <td>Virginia, USA</td>\n      <td>USS Bataan (LHD 5) Wasp-class amphibious assau...</td>\n      <td>en</td>\n      <td>[ussbataan, lhd5]</td>\n      <td>[https://pbs.twimg.com/media/FM7hSGZXoAECgmD.jpg]</td>\n      <td>Twitter for iPad</td>\n      <td>None</td>\n      <td>None</td>\n      <td>None</td>\n    </tr>\n  </tbody>\n</table>\n</div>"
     },
     "execution_count": 15,
     "metadata": {},
     "output_type": "execute_result"
    }
   ],
   "source": [
    "# Use getUserTweets function (screen_name = 'WarshipCam', count = 1000)\n",
    "user5 = getUserTweets('WarshipCam', 1000)\n",
    "\n",
    "# show total number of tweets\n",
    "print(\"Total Tweets fetched:\", len(user5))\n",
    "\n",
    "# show the dataframe\n",
    "user5.head()"
   ],
   "metadata": {
    "collapsed": false,
    "pycharm": {
     "name": "#%%\n"
    }
   }
  },
  {
   "cell_type": "code",
   "execution_count": 18,
   "outputs": [],
   "source": [
    "# export dataframe to csv file\n",
    "user5.to_csv('C:/Users/tivon/projects/twitter_project/data/user_tweets_warshipcam.csv')"
   ],
   "metadata": {
    "collapsed": false,
    "pycharm": {
     "name": "#%%\n"
    }
   }
  },
  {
   "cell_type": "markdown",
   "source": [
    "### user6\n",
    "screen_name = @NavyLookout"
   ],
   "metadata": {
    "collapsed": false,
    "pycharm": {
     "name": "#%% md\n"
    }
   }
  },
  {
   "cell_type": "code",
   "execution_count": 26,
   "outputs": [
    {
     "name": "stdout",
     "output_type": "stream",
     "text": [
      "Total Tweets fetched: 325\n"
     ]
    },
    {
     "data": {
      "text/plain": "                 created_at     user_name  screen_name  \\\n0 2022-03-06 15:09:07+00:00  Navy Lookout  NavyLookout   \n1 2022-03-06 14:13:54+00:00  Navy Lookout  NavyLookout   \n2 2022-03-06 08:34:02+00:00  Navy Lookout  NavyLookout   \n3 2022-03-05 19:44:03+00:00  Navy Lookout  NavyLookout   \n4 2022-03-05 19:36:01+00:00  Navy Lookout  NavyLookout   \n\n                                description user_location  \\\n0  Independent Royal Navy news and analysis            UK   \n1  Independent Royal Navy news and analysis            UK   \n2  Independent Royal Navy news and analysis            UK   \n3  Independent Royal Navy news and analysis            UK   \n4  Independent Royal Navy news and analysis            UK   \n\n                                                text language hashtags  \\\n0  Stunning view of @hmssevern outbound on the Fi...       en     None   \n1  .@hms_argyll leaving Liverpool today.\\n\\nVia @...       en     None   \n2  .@hmsdiamond arrived in Augusta, 🇮🇹Sicily yest...       en     None   \n3  From Sea Wolf to Sea Ceptor – the Royal Navy’s...       en     None   \n4  .@RFACardiganBay and @RFATideforce alongside i...       en     None   \n\n                                           media_url     source coordinates  \\\n0  [https://pbs.twimg.com/media/FNLObCbXoAQtW0P.jpg]  TweetDeck        None   \n1  [https://pbs.twimg.com/media/FNLBwhVWUAAaPXQ.jpg]  TweetDeck        None   \n2  [https://pbs.twimg.com/media/FNJz9-NWYAMgfey.jpg]  TweetDeck        None   \n3  [https://pbs.twimg.com/media/FNHDy9RXsAEARJ8.jpg]  TweetDeck        None   \n4  [https://pbs.twimg.com/media/FNHB9BgXsAE84FY.jpg]  TweetDeck        None   \n\n  place time_zone  \n0  None      None  \n1  None      None  \n2  None      None  \n3  None      None  \n4  None      None  ",
      "text/html": "<div>\n<style scoped>\n    .dataframe tbody tr th:only-of-type {\n        vertical-align: middle;\n    }\n\n    .dataframe tbody tr th {\n        vertical-align: top;\n    }\n\n    .dataframe thead th {\n        text-align: right;\n    }\n</style>\n<table border=\"1\" class=\"dataframe\">\n  <thead>\n    <tr style=\"text-align: right;\">\n      <th></th>\n      <th>created_at</th>\n      <th>user_name</th>\n      <th>screen_name</th>\n      <th>description</th>\n      <th>user_location</th>\n      <th>text</th>\n      <th>language</th>\n      <th>hashtags</th>\n      <th>media_url</th>\n      <th>source</th>\n      <th>coordinates</th>\n      <th>place</th>\n      <th>time_zone</th>\n    </tr>\n  </thead>\n  <tbody>\n    <tr>\n      <th>0</th>\n      <td>2022-03-06 15:09:07+00:00</td>\n      <td>Navy Lookout</td>\n      <td>NavyLookout</td>\n      <td>Independent Royal Navy news and analysis</td>\n      <td>UK</td>\n      <td>Stunning view of @hmssevern outbound on the Fi...</td>\n      <td>en</td>\n      <td>None</td>\n      <td>[https://pbs.twimg.com/media/FNLObCbXoAQtW0P.jpg]</td>\n      <td>TweetDeck</td>\n      <td>None</td>\n      <td>None</td>\n      <td>None</td>\n    </tr>\n    <tr>\n      <th>1</th>\n      <td>2022-03-06 14:13:54+00:00</td>\n      <td>Navy Lookout</td>\n      <td>NavyLookout</td>\n      <td>Independent Royal Navy news and analysis</td>\n      <td>UK</td>\n      <td>.@hms_argyll leaving Liverpool today.\\n\\nVia @...</td>\n      <td>en</td>\n      <td>None</td>\n      <td>[https://pbs.twimg.com/media/FNLBwhVWUAAaPXQ.jpg]</td>\n      <td>TweetDeck</td>\n      <td>None</td>\n      <td>None</td>\n      <td>None</td>\n    </tr>\n    <tr>\n      <th>2</th>\n      <td>2022-03-06 08:34:02+00:00</td>\n      <td>Navy Lookout</td>\n      <td>NavyLookout</td>\n      <td>Independent Royal Navy news and analysis</td>\n      <td>UK</td>\n      <td>.@hmsdiamond arrived in Augusta, 🇮🇹Sicily yest...</td>\n      <td>en</td>\n      <td>None</td>\n      <td>[https://pbs.twimg.com/media/FNJz9-NWYAMgfey.jpg]</td>\n      <td>TweetDeck</td>\n      <td>None</td>\n      <td>None</td>\n      <td>None</td>\n    </tr>\n    <tr>\n      <th>3</th>\n      <td>2022-03-05 19:44:03+00:00</td>\n      <td>Navy Lookout</td>\n      <td>NavyLookout</td>\n      <td>Independent Royal Navy news and analysis</td>\n      <td>UK</td>\n      <td>From Sea Wolf to Sea Ceptor – the Royal Navy’s...</td>\n      <td>en</td>\n      <td>None</td>\n      <td>[https://pbs.twimg.com/media/FNHDy9RXsAEARJ8.jpg]</td>\n      <td>TweetDeck</td>\n      <td>None</td>\n      <td>None</td>\n      <td>None</td>\n    </tr>\n    <tr>\n      <th>4</th>\n      <td>2022-03-05 19:36:01+00:00</td>\n      <td>Navy Lookout</td>\n      <td>NavyLookout</td>\n      <td>Independent Royal Navy news and analysis</td>\n      <td>UK</td>\n      <td>.@RFACardiganBay and @RFATideforce alongside i...</td>\n      <td>en</td>\n      <td>None</td>\n      <td>[https://pbs.twimg.com/media/FNHB9BgXsAE84FY.jpg]</td>\n      <td>TweetDeck</td>\n      <td>None</td>\n      <td>None</td>\n      <td>None</td>\n    </tr>\n  </tbody>\n</table>\n</div>"
     },
     "execution_count": 26,
     "metadata": {},
     "output_type": "execute_result"
    }
   ],
   "source": [
    "# Use getUserTweets function (screen_name = 'NavyLookout', count = 1000)\n",
    "user6 = getUserTweets('NavyLookout', 1000)\n",
    "\n",
    "# show total number of tweets\n",
    "print(\"Total Tweets fetched:\", len(user6))\n",
    "\n",
    "# show the dataframe\n",
    "user6.head()"
   ],
   "metadata": {
    "collapsed": false,
    "pycharm": {
     "name": "#%%\n"
    }
   }
  },
  {
   "cell_type": "code",
   "execution_count": 27,
   "outputs": [],
   "source": [
    "# export dataframe to csv file\n",
    "user6.to_csv('C:/Users/tivon/projects/twitter_project/data/user_tweets_navylookout.csv')"
   ],
   "metadata": {
    "collapsed": false,
    "pycharm": {
     "name": "#%%\n"
    }
   }
  },
  {
   "cell_type": "markdown",
   "source": [
    "### user7\n",
    "screen_name = @FraserG32883664"
   ],
   "metadata": {
    "collapsed": false,
    "pycharm": {
     "name": "#%% md\n"
    }
   }
  },
  {
   "cell_type": "code",
   "execution_count": 25,
   "outputs": [
    {
     "name": "stdout",
     "output_type": "stream",
     "text": [
      "Total Tweets fetched: 188\n"
     ]
    },
    {
     "data": {
      "text/plain": "                 created_at    user_name      screen_name description  \\\n0 2022-03-05 07:12:37+00:00  Fraser Gray  FraserG32883664               \n1 2022-02-24 08:46:20+00:00  Fraser Gray  FraserG32883664               \n2 2022-02-23 09:16:46+00:00  Fraser Gray  FraserG32883664               \n3 2022-02-14 09:24:37+00:00  Fraser Gray  FraserG32883664               \n4 2022-01-31 08:54:29+00:00  Fraser Gray  FraserG32883664               \n\n  user_location                                               text language  \\\n0                Bulk carrier Moleson heading into Gravesend Re...       en   \n1                Panama flagged Teal Bulker has been  trading o...       en   \n2                “Full steam ahead” tanker Hellas Avatar in Gra...       en   \n3                Cobelfret’s ro-ro cargo vessel Valentine on th...       en   \n4                Bulk carrier Maccoa transits the Essex shores ...       en   \n\n                                  hashtags  \\\n0  [ShipsInPics, BulkCarrier, RiverThames]   \n1    [ShipsInPics, Gravesend, RiverThames]   \n2    [ShipsInPics, Gravesend, RiverThames]   \n3               [ShipsInPics, RiverThames]   \n4               [ShipsInPics, RiverThames]   \n\n                                           media_url           source  \\\n0  [https://pbs.twimg.com/media/FNEXxv4XEAYyChv.jpg]  Twitter Web App   \n1  [https://pbs.twimg.com/media/FMWW4XCXsAAOluf.jpg]  Twitter Web App   \n2  [https://pbs.twimg.com/media/FMRUG_WX0AEVPLL.jpg]  Twitter Web App   \n3  [https://pbs.twimg.com/media/FLi_js_WUAIk33U.jpg]  Twitter Web App   \n4  [https://pbs.twimg.com/media/FKaymQ_XoAQiscv.jpg]  Twitter Web App   \n\n  coordinates place time_zone  \n0        None  None      None  \n1        None  None      None  \n2        None  None      None  \n3        None  None      None  \n4        None  None      None  ",
      "text/html": "<div>\n<style scoped>\n    .dataframe tbody tr th:only-of-type {\n        vertical-align: middle;\n    }\n\n    .dataframe tbody tr th {\n        vertical-align: top;\n    }\n\n    .dataframe thead th {\n        text-align: right;\n    }\n</style>\n<table border=\"1\" class=\"dataframe\">\n  <thead>\n    <tr style=\"text-align: right;\">\n      <th></th>\n      <th>created_at</th>\n      <th>user_name</th>\n      <th>screen_name</th>\n      <th>description</th>\n      <th>user_location</th>\n      <th>text</th>\n      <th>language</th>\n      <th>hashtags</th>\n      <th>media_url</th>\n      <th>source</th>\n      <th>coordinates</th>\n      <th>place</th>\n      <th>time_zone</th>\n    </tr>\n  </thead>\n  <tbody>\n    <tr>\n      <th>0</th>\n      <td>2022-03-05 07:12:37+00:00</td>\n      <td>Fraser Gray</td>\n      <td>FraserG32883664</td>\n      <td></td>\n      <td></td>\n      <td>Bulk carrier Moleson heading into Gravesend Re...</td>\n      <td>en</td>\n      <td>[ShipsInPics, BulkCarrier, RiverThames]</td>\n      <td>[https://pbs.twimg.com/media/FNEXxv4XEAYyChv.jpg]</td>\n      <td>Twitter Web App</td>\n      <td>None</td>\n      <td>None</td>\n      <td>None</td>\n    </tr>\n    <tr>\n      <th>1</th>\n      <td>2022-02-24 08:46:20+00:00</td>\n      <td>Fraser Gray</td>\n      <td>FraserG32883664</td>\n      <td></td>\n      <td></td>\n      <td>Panama flagged Teal Bulker has been  trading o...</td>\n      <td>en</td>\n      <td>[ShipsInPics, Gravesend, RiverThames]</td>\n      <td>[https://pbs.twimg.com/media/FMWW4XCXsAAOluf.jpg]</td>\n      <td>Twitter Web App</td>\n      <td>None</td>\n      <td>None</td>\n      <td>None</td>\n    </tr>\n    <tr>\n      <th>2</th>\n      <td>2022-02-23 09:16:46+00:00</td>\n      <td>Fraser Gray</td>\n      <td>FraserG32883664</td>\n      <td></td>\n      <td></td>\n      <td>“Full steam ahead” tanker Hellas Avatar in Gra...</td>\n      <td>en</td>\n      <td>[ShipsInPics, Gravesend, RiverThames]</td>\n      <td>[https://pbs.twimg.com/media/FMRUG_WX0AEVPLL.jpg]</td>\n      <td>Twitter Web App</td>\n      <td>None</td>\n      <td>None</td>\n      <td>None</td>\n    </tr>\n    <tr>\n      <th>3</th>\n      <td>2022-02-14 09:24:37+00:00</td>\n      <td>Fraser Gray</td>\n      <td>FraserG32883664</td>\n      <td></td>\n      <td></td>\n      <td>Cobelfret’s ro-ro cargo vessel Valentine on th...</td>\n      <td>en</td>\n      <td>[ShipsInPics, RiverThames]</td>\n      <td>[https://pbs.twimg.com/media/FLi_js_WUAIk33U.jpg]</td>\n      <td>Twitter Web App</td>\n      <td>None</td>\n      <td>None</td>\n      <td>None</td>\n    </tr>\n    <tr>\n      <th>4</th>\n      <td>2022-01-31 08:54:29+00:00</td>\n      <td>Fraser Gray</td>\n      <td>FraserG32883664</td>\n      <td></td>\n      <td></td>\n      <td>Bulk carrier Maccoa transits the Essex shores ...</td>\n      <td>en</td>\n      <td>[ShipsInPics, RiverThames]</td>\n      <td>[https://pbs.twimg.com/media/FKaymQ_XoAQiscv.jpg]</td>\n      <td>Twitter Web App</td>\n      <td>None</td>\n      <td>None</td>\n      <td>None</td>\n    </tr>\n  </tbody>\n</table>\n</div>"
     },
     "execution_count": 25,
     "metadata": {},
     "output_type": "execute_result"
    }
   ],
   "source": [
    "# Use getUserTweets function (screen_name = 'FraserG32883664', count = 1000)\n",
    "user7 = getUserTweets('FraserG32883664', 1000)\n",
    "\n",
    "# show total number of tweets\n",
    "print(\"Total Tweets fetched:\", len(user7))\n",
    "\n",
    "# show the dataframe\n",
    "user7.head()"
   ],
   "metadata": {
    "collapsed": false,
    "pycharm": {
     "name": "#%%\n"
    }
   }
  },
  {
   "cell_type": "code",
   "execution_count": 21,
   "outputs": [],
   "source": [
    "# export dataframe to csv file\n",
    "user7.to_csv('C:/Users/tivon/projects/twitter_project/data/user_tweets_fraserg32883664.csv')"
   ],
   "metadata": {
    "collapsed": false,
    "pycharm": {
     "name": "#%%\n"
    }
   }
  },
  {
   "cell_type": "markdown",
   "source": [
    "### user8\n",
    "screen_name = @pah1974"
   ],
   "metadata": {
    "collapsed": false,
    "pycharm": {
     "name": "#%% md\n"
    }
   }
  },
  {
   "cell_type": "code",
   "execution_count": 24,
   "outputs": [
    {
     "name": "stdout",
     "output_type": "stream",
     "text": [
      "Total Tweets fetched: 319\n"
     ]
    },
    {
     "data": {
      "text/plain": "                 created_at   user_name screen_name  \\\n0 2022-03-04 14:28:08+00:00  paul hiett     pah1974   \n1 2022-03-04 14:25:52+00:00  paul hiett     pah1974   \n2 2022-02-28 17:00:41+00:00  paul hiett     pah1974   \n3 2022-02-28 16:33:27+00:00  paul hiett     pah1974   \n4 2022-02-28 16:27:30+00:00  paul hiett     pah1974   \n\n                                         description user_location  \\\n0  ship spotter.posting pics and video's of ships...                 \n1  ship spotter.posting pics and video's of ships...                 \n2  ship spotter.posting pics and video's of ships...                 \n3  ship spotter.posting pics and video's of ships...                 \n4  ship spotter.posting pics and video's of ships...                 \n\n                                                text language hashtags  \\\n0  Small tug/workboat ASSASSIN makes her way up t...       en     None   \n1  Dredger SAND FULMAR on approach to the port of...       en     None   \n2  Vehicles carrier RCC ANTWERP heading for Tilbu...       en     None   \n3  Ro-Ro cargo ship VESPERTINE passing Tilbury in...       en     None   \n4  General cargo ship KATE C passing Tilbury inbo...       en     None   \n\n                                           media_url           source  \\\n0  [https://pbs.twimg.com/media/FNAxx_AXoAMyNH2.jpg]  Twitter Web App   \n1  [https://pbs.twimg.com/media/FNAwsF6XoAUKGnP.jpg]  Twitter Web App   \n2  [https://pbs.twimg.com/media/FMsuHvLX0AEiiFV.jpg]  Twitter Web App   \n3  [https://pbs.twimg.com/media/FMsoMKgXMAYgkG1.jpg]  Twitter Web App   \n4  [https://pbs.twimg.com/media/FMsmpCXXIAEvLLR.jpg]  Twitter Web App   \n\n  coordinates place time_zone  \n0        None  None      None  \n1        None  None      None  \n2        None  None      None  \n3        None  None      None  \n4        None  None      None  ",
      "text/html": "<div>\n<style scoped>\n    .dataframe tbody tr th:only-of-type {\n        vertical-align: middle;\n    }\n\n    .dataframe tbody tr th {\n        vertical-align: top;\n    }\n\n    .dataframe thead th {\n        text-align: right;\n    }\n</style>\n<table border=\"1\" class=\"dataframe\">\n  <thead>\n    <tr style=\"text-align: right;\">\n      <th></th>\n      <th>created_at</th>\n      <th>user_name</th>\n      <th>screen_name</th>\n      <th>description</th>\n      <th>user_location</th>\n      <th>text</th>\n      <th>language</th>\n      <th>hashtags</th>\n      <th>media_url</th>\n      <th>source</th>\n      <th>coordinates</th>\n      <th>place</th>\n      <th>time_zone</th>\n    </tr>\n  </thead>\n  <tbody>\n    <tr>\n      <th>0</th>\n      <td>2022-03-04 14:28:08+00:00</td>\n      <td>paul hiett</td>\n      <td>pah1974</td>\n      <td>ship spotter.posting pics and video's of ships...</td>\n      <td></td>\n      <td>Small tug/workboat ASSASSIN makes her way up t...</td>\n      <td>en</td>\n      <td>None</td>\n      <td>[https://pbs.twimg.com/media/FNAxx_AXoAMyNH2.jpg]</td>\n      <td>Twitter Web App</td>\n      <td>None</td>\n      <td>None</td>\n      <td>None</td>\n    </tr>\n    <tr>\n      <th>1</th>\n      <td>2022-03-04 14:25:52+00:00</td>\n      <td>paul hiett</td>\n      <td>pah1974</td>\n      <td>ship spotter.posting pics and video's of ships...</td>\n      <td></td>\n      <td>Dredger SAND FULMAR on approach to the port of...</td>\n      <td>en</td>\n      <td>None</td>\n      <td>[https://pbs.twimg.com/media/FNAwsF6XoAUKGnP.jpg]</td>\n      <td>Twitter Web App</td>\n      <td>None</td>\n      <td>None</td>\n      <td>None</td>\n    </tr>\n    <tr>\n      <th>2</th>\n      <td>2022-02-28 17:00:41+00:00</td>\n      <td>paul hiett</td>\n      <td>pah1974</td>\n      <td>ship spotter.posting pics and video's of ships...</td>\n      <td></td>\n      <td>Vehicles carrier RCC ANTWERP heading for Tilbu...</td>\n      <td>en</td>\n      <td>None</td>\n      <td>[https://pbs.twimg.com/media/FMsuHvLX0AEiiFV.jpg]</td>\n      <td>Twitter Web App</td>\n      <td>None</td>\n      <td>None</td>\n      <td>None</td>\n    </tr>\n    <tr>\n      <th>3</th>\n      <td>2022-02-28 16:33:27+00:00</td>\n      <td>paul hiett</td>\n      <td>pah1974</td>\n      <td>ship spotter.posting pics and video's of ships...</td>\n      <td></td>\n      <td>Ro-Ro cargo ship VESPERTINE passing Tilbury in...</td>\n      <td>en</td>\n      <td>None</td>\n      <td>[https://pbs.twimg.com/media/FMsoMKgXMAYgkG1.jpg]</td>\n      <td>Twitter Web App</td>\n      <td>None</td>\n      <td>None</td>\n      <td>None</td>\n    </tr>\n    <tr>\n      <th>4</th>\n      <td>2022-02-28 16:27:30+00:00</td>\n      <td>paul hiett</td>\n      <td>pah1974</td>\n      <td>ship spotter.posting pics and video's of ships...</td>\n      <td></td>\n      <td>General cargo ship KATE C passing Tilbury inbo...</td>\n      <td>en</td>\n      <td>None</td>\n      <td>[https://pbs.twimg.com/media/FMsmpCXXIAEvLLR.jpg]</td>\n      <td>Twitter Web App</td>\n      <td>None</td>\n      <td>None</td>\n      <td>None</td>\n    </tr>\n  </tbody>\n</table>\n</div>"
     },
     "execution_count": 24,
     "metadata": {},
     "output_type": "execute_result"
    }
   ],
   "source": [
    "# Use getUserTweets function (screen_name = 'pah1974', count = 1000)\n",
    "user8 = getUserTweets('pah1974', 1000)\n",
    "\n",
    "# show total number of tweets\n",
    "print(\"Total Tweets fetched:\", len(user8))\n",
    "\n",
    "# show the dataframe\n",
    "user8.head()"
   ],
   "metadata": {
    "collapsed": false,
    "pycharm": {
     "name": "#%%\n"
    }
   }
  },
  {
   "cell_type": "code",
   "execution_count": 23,
   "outputs": [],
   "source": [
    "# export dataframe to csv file\n",
    "user8.to_csv('C:/Users/tivon/projects/twitter_project/data/user_tweets_pah1974.csv')"
   ],
   "metadata": {
    "collapsed": false,
    "pycharm": {
     "name": "#%%\n"
    }
   }
  },
  {
   "cell_type": "markdown",
   "source": [
    "### user9\n",
    "screen_name = @johnmorgan726"
   ],
   "metadata": {
    "collapsed": false,
    "pycharm": {
     "name": "#%% md\n"
    }
   }
  },
  {
   "cell_type": "code",
   "execution_count": 28,
   "outputs": [
    {
     "name": "stdout",
     "output_type": "stream",
     "text": [
      "Total Tweets fetched: 107\n"
     ]
    },
    {
     "data": {
      "text/plain": "                 created_at    user_name    screen_name  \\\n0 2022-03-06 21:34:01+00:00  John Morgan  johnmorgan726   \n1 2022-03-05 18:20:00+00:00  John Morgan  johnmorgan726   \n2 2022-03-05 16:01:42+00:00  John Morgan  johnmorgan726   \n3 2022-03-04 18:03:56+00:00  John Morgan  johnmorgan726   \n4 2022-03-03 19:13:38+00:00  John Morgan  johnmorgan726   \n\n                                         description       user_location  \\\n0  I enjoy HAM radio, fishing, and maritime traff...  Virginia Beach, VA   \n1  I enjoy HAM radio, fishing, and maritime traff...  Virginia Beach, VA   \n2  I enjoy HAM radio, fishing, and maritime traff...  Virginia Beach, VA   \n3  I enjoy HAM radio, fishing, and maritime traff...  Virginia Beach, VA   \n4  I enjoy HAM radio, fishing, and maritime traff...  Virginia Beach, VA   \n\n                                                text language  \\\n0  With a particularly heavy load the #HopperDred...       en   \n1  RT @Visita_Cortesia: Ferry Golden Bridge de pr...       es   \n2  The BREMEN, IMO:9450387 en route to New York, ...       en   \n3  The #RAM15 MMSI:366878290 offshore jackup work...       en   \n4  RT @NavyLookout: .@HMSPortland arriving in \\n🇺...       en   \n\n                                 hashtags  \\\n0  [HopperDredger, Stuyvesant, dumpsight]   \n1                                    None   \n2    [Bremen, ContainerShip, ShipsInPics]   \n3                    [RAM15, ShipsInPics]   \n4                                    None   \n\n                                           media_url              source  \\\n0  [https://pbs.twimg.com/media/FNMmkujWYAU0z-3.jpg]    Twitter for iPad   \n1  [https://pbs.twimg.com/media/FNGwJHdXsAY5TWU.jpg]  Twitter for iPhone   \n2  [https://pbs.twimg.com/media/FNGQ69wX0AgbOvZ.jpg]    Twitter for iPad   \n3  [https://pbs.twimg.com/media/FNBjT7GX0AMkkjb.jpg]    Twitter for iPad   \n4  [https://pbs.twimg.com/media/FM8i1GmX0AMvkR5.jpg]    Twitter for iPad   \n\n  coordinates                                              place time_zone  \n0        None  Place(_api=<tweepy.api.API object at 0x0000024...      None  \n1        None                                               None      None  \n2        None  Place(_api=<tweepy.api.API object at 0x0000024...      None  \n3        None  Place(_api=<tweepy.api.API object at 0x0000024...      None  \n4        None                                               None      None  ",
      "text/html": "<div>\n<style scoped>\n    .dataframe tbody tr th:only-of-type {\n        vertical-align: middle;\n    }\n\n    .dataframe tbody tr th {\n        vertical-align: top;\n    }\n\n    .dataframe thead th {\n        text-align: right;\n    }\n</style>\n<table border=\"1\" class=\"dataframe\">\n  <thead>\n    <tr style=\"text-align: right;\">\n      <th></th>\n      <th>created_at</th>\n      <th>user_name</th>\n      <th>screen_name</th>\n      <th>description</th>\n      <th>user_location</th>\n      <th>text</th>\n      <th>language</th>\n      <th>hashtags</th>\n      <th>media_url</th>\n      <th>source</th>\n      <th>coordinates</th>\n      <th>place</th>\n      <th>time_zone</th>\n    </tr>\n  </thead>\n  <tbody>\n    <tr>\n      <th>0</th>\n      <td>2022-03-06 21:34:01+00:00</td>\n      <td>John Morgan</td>\n      <td>johnmorgan726</td>\n      <td>I enjoy HAM radio, fishing, and maritime traff...</td>\n      <td>Virginia Beach, VA</td>\n      <td>With a particularly heavy load the #HopperDred...</td>\n      <td>en</td>\n      <td>[HopperDredger, Stuyvesant, dumpsight]</td>\n      <td>[https://pbs.twimg.com/media/FNMmkujWYAU0z-3.jpg]</td>\n      <td>Twitter for iPad</td>\n      <td>None</td>\n      <td>Place(_api=&lt;tweepy.api.API object at 0x0000024...</td>\n      <td>None</td>\n    </tr>\n    <tr>\n      <th>1</th>\n      <td>2022-03-05 18:20:00+00:00</td>\n      <td>John Morgan</td>\n      <td>johnmorgan726</td>\n      <td>I enjoy HAM radio, fishing, and maritime traff...</td>\n      <td>Virginia Beach, VA</td>\n      <td>RT @Visita_Cortesia: Ferry Golden Bridge de pr...</td>\n      <td>es</td>\n      <td>None</td>\n      <td>[https://pbs.twimg.com/media/FNGwJHdXsAY5TWU.jpg]</td>\n      <td>Twitter for iPhone</td>\n      <td>None</td>\n      <td>None</td>\n      <td>None</td>\n    </tr>\n    <tr>\n      <th>2</th>\n      <td>2022-03-05 16:01:42+00:00</td>\n      <td>John Morgan</td>\n      <td>johnmorgan726</td>\n      <td>I enjoy HAM radio, fishing, and maritime traff...</td>\n      <td>Virginia Beach, VA</td>\n      <td>The BREMEN, IMO:9450387 en route to New York, ...</td>\n      <td>en</td>\n      <td>[Bremen, ContainerShip, ShipsInPics]</td>\n      <td>[https://pbs.twimg.com/media/FNGQ69wX0AgbOvZ.jpg]</td>\n      <td>Twitter for iPad</td>\n      <td>None</td>\n      <td>Place(_api=&lt;tweepy.api.API object at 0x0000024...</td>\n      <td>None</td>\n    </tr>\n    <tr>\n      <th>3</th>\n      <td>2022-03-04 18:03:56+00:00</td>\n      <td>John Morgan</td>\n      <td>johnmorgan726</td>\n      <td>I enjoy HAM radio, fishing, and maritime traff...</td>\n      <td>Virginia Beach, VA</td>\n      <td>The #RAM15 MMSI:366878290 offshore jackup work...</td>\n      <td>en</td>\n      <td>[RAM15, ShipsInPics]</td>\n      <td>[https://pbs.twimg.com/media/FNBjT7GX0AMkkjb.jpg]</td>\n      <td>Twitter for iPad</td>\n      <td>None</td>\n      <td>Place(_api=&lt;tweepy.api.API object at 0x0000024...</td>\n      <td>None</td>\n    </tr>\n    <tr>\n      <th>4</th>\n      <td>2022-03-03 19:13:38+00:00</td>\n      <td>John Morgan</td>\n      <td>johnmorgan726</td>\n      <td>I enjoy HAM radio, fishing, and maritime traff...</td>\n      <td>Virginia Beach, VA</td>\n      <td>RT @NavyLookout: .@HMSPortland arriving in \\n🇺...</td>\n      <td>en</td>\n      <td>None</td>\n      <td>[https://pbs.twimg.com/media/FM8i1GmX0AMvkR5.jpg]</td>\n      <td>Twitter for iPad</td>\n      <td>None</td>\n      <td>None</td>\n      <td>None</td>\n    </tr>\n  </tbody>\n</table>\n</div>"
     },
     "execution_count": 28,
     "metadata": {},
     "output_type": "execute_result"
    }
   ],
   "source": [
    "# Use getUserTweets function (screen_name = 'johnmorgan726', count = 1000)\n",
    "user9 = getUserTweets('johnmorgan726', 1000)\n",
    "\n",
    "# show total number of tweets\n",
    "print(\"Total Tweets fetched:\", len(user9))\n",
    "\n",
    "# show the dataframe\n",
    "user9.head()"
   ],
   "metadata": {
    "collapsed": false,
    "pycharm": {
     "name": "#%%\n"
    }
   }
  },
  {
   "cell_type": "code",
   "execution_count": 29,
   "outputs": [],
   "source": [
    "# export dataframe to csv file\n",
    "user9.to_csv('C:/Users/tivon/projects/twitter_project/data/user_tweets_johnmorgan726.csv')"
   ],
   "metadata": {
    "collapsed": false,
    "pycharm": {
     "name": "#%%\n"
    }
   }
  },
  {
   "cell_type": "markdown",
   "source": [
    "### user10\n",
    "screen_name = @MaritimePhotos"
   ],
   "metadata": {
    "collapsed": false,
    "pycharm": {
     "name": "#%% md\n"
    }
   }
  },
  {
   "cell_type": "code",
   "execution_count": 30,
   "outputs": [
    {
     "name": "stdout",
     "output_type": "stream",
     "text": [
      "Total Tweets fetched: 407\n"
     ]
    },
    {
     "data": {
      "text/plain": "                 created_at    user_name     screen_name  \\\n0 2022-03-01 09:04:13+00:00  Gary Davies  MaritimePhotos   \n1 2022-02-25 13:40:54+00:00  Gary Davies  MaritimePhotos   \n2 2022-02-24 18:18:22+00:00  Gary Davies  MaritimePhotos   \n3 2022-02-04 15:34:56+00:00  Gary Davies  MaritimePhotos   \n4 2022-01-30 19:51:06+00:00  Gary Davies  MaritimePhotos   \n\n                                         description        user_location  \\\n0  Freelance photographer providing creative imag...  Portsmouth, England   \n1  Freelance photographer providing creative imag...  Portsmouth, England   \n2  Freelance photographer providing creative imag...  Portsmouth, England   \n3  Freelance photographer providing creative imag...  Portsmouth, England   \n4  Freelance photographer providing creative imag...  Portsmouth, England   \n\n                                                text language  \\\n0  Maiden UK call of @VirginVoyages #ValiantLady ...       en   \n1  That's @hmsdiamond deploying for the eastern M...       en   \n2  Nice to see @BrittanyFerries #Barfleur back in...       en   \n3  The @NATO Response Force Task Group flagship @...       en   \n4  Maiden UK call of #EverAlp one of the world's ...       en   \n\n                                           hashtags  \\\n0  [ValiantLady, cruise, newcruiseship, Portsmouth]   \n1                                      [Portsmouth]   \n2                                        [Barfleur]   \n3                                      [Portsmouth]   \n4                              [EverAlp, Evergreen]   \n\n                                           media_url           source  \\\n0  [https://pbs.twimg.com/media/FMwKncUXwAILGbi.jpg]  Twitter Web App   \n1  [https://pbs.twimg.com/media/FMcjfvhXMAI-rcg.jpg]  Twitter Web App   \n2  [https://pbs.twimg.com/media/FMYZY3qWYAIrQ29.jpg]  Twitter Web App   \n3  [https://pbs.twimg.com/media/FKw0U20XwAobvqU.jpg]  Twitter Web App   \n4  [https://pbs.twimg.com/media/FKX-VQpXoAA_zTy.jpg]  Twitter Web App   \n\n  coordinates place time_zone  \n0        None  None      None  \n1        None  None      None  \n2        None  None      None  \n3        None  None      None  \n4        None  None      None  ",
      "text/html": "<div>\n<style scoped>\n    .dataframe tbody tr th:only-of-type {\n        vertical-align: middle;\n    }\n\n    .dataframe tbody tr th {\n        vertical-align: top;\n    }\n\n    .dataframe thead th {\n        text-align: right;\n    }\n</style>\n<table border=\"1\" class=\"dataframe\">\n  <thead>\n    <tr style=\"text-align: right;\">\n      <th></th>\n      <th>created_at</th>\n      <th>user_name</th>\n      <th>screen_name</th>\n      <th>description</th>\n      <th>user_location</th>\n      <th>text</th>\n      <th>language</th>\n      <th>hashtags</th>\n      <th>media_url</th>\n      <th>source</th>\n      <th>coordinates</th>\n      <th>place</th>\n      <th>time_zone</th>\n    </tr>\n  </thead>\n  <tbody>\n    <tr>\n      <th>0</th>\n      <td>2022-03-01 09:04:13+00:00</td>\n      <td>Gary Davies</td>\n      <td>MaritimePhotos</td>\n      <td>Freelance photographer providing creative imag...</td>\n      <td>Portsmouth, England</td>\n      <td>Maiden UK call of @VirginVoyages #ValiantLady ...</td>\n      <td>en</td>\n      <td>[ValiantLady, cruise, newcruiseship, Portsmouth]</td>\n      <td>[https://pbs.twimg.com/media/FMwKncUXwAILGbi.jpg]</td>\n      <td>Twitter Web App</td>\n      <td>None</td>\n      <td>None</td>\n      <td>None</td>\n    </tr>\n    <tr>\n      <th>1</th>\n      <td>2022-02-25 13:40:54+00:00</td>\n      <td>Gary Davies</td>\n      <td>MaritimePhotos</td>\n      <td>Freelance photographer providing creative imag...</td>\n      <td>Portsmouth, England</td>\n      <td>That's @hmsdiamond deploying for the eastern M...</td>\n      <td>en</td>\n      <td>[Portsmouth]</td>\n      <td>[https://pbs.twimg.com/media/FMcjfvhXMAI-rcg.jpg]</td>\n      <td>Twitter Web App</td>\n      <td>None</td>\n      <td>None</td>\n      <td>None</td>\n    </tr>\n    <tr>\n      <th>2</th>\n      <td>2022-02-24 18:18:22+00:00</td>\n      <td>Gary Davies</td>\n      <td>MaritimePhotos</td>\n      <td>Freelance photographer providing creative imag...</td>\n      <td>Portsmouth, England</td>\n      <td>Nice to see @BrittanyFerries #Barfleur back in...</td>\n      <td>en</td>\n      <td>[Barfleur]</td>\n      <td>[https://pbs.twimg.com/media/FMYZY3qWYAIrQ29.jpg]</td>\n      <td>Twitter Web App</td>\n      <td>None</td>\n      <td>None</td>\n      <td>None</td>\n    </tr>\n    <tr>\n      <th>3</th>\n      <td>2022-02-04 15:34:56+00:00</td>\n      <td>Gary Davies</td>\n      <td>MaritimePhotos</td>\n      <td>Freelance photographer providing creative imag...</td>\n      <td>Portsmouth, England</td>\n      <td>The @NATO Response Force Task Group flagship @...</td>\n      <td>en</td>\n      <td>[Portsmouth]</td>\n      <td>[https://pbs.twimg.com/media/FKw0U20XwAobvqU.jpg]</td>\n      <td>Twitter Web App</td>\n      <td>None</td>\n      <td>None</td>\n      <td>None</td>\n    </tr>\n    <tr>\n      <th>4</th>\n      <td>2022-01-30 19:51:06+00:00</td>\n      <td>Gary Davies</td>\n      <td>MaritimePhotos</td>\n      <td>Freelance photographer providing creative imag...</td>\n      <td>Portsmouth, England</td>\n      <td>Maiden UK call of #EverAlp one of the world's ...</td>\n      <td>en</td>\n      <td>[EverAlp, Evergreen]</td>\n      <td>[https://pbs.twimg.com/media/FKX-VQpXoAA_zTy.jpg]</td>\n      <td>Twitter Web App</td>\n      <td>None</td>\n      <td>None</td>\n      <td>None</td>\n    </tr>\n  </tbody>\n</table>\n</div>"
     },
     "execution_count": 30,
     "metadata": {},
     "output_type": "execute_result"
    }
   ],
   "source": [
    "# Use getUserTweets function (screen_name = 'MaritimePhotos', count = 1000)\n",
    "user10 = getUserTweets('MaritimePhotos', 1000)\n",
    "\n",
    "# show total number of tweets\n",
    "print(\"Total Tweets fetched:\", len(user10))\n",
    "\n",
    "# show the dataframe\n",
    "user10.head()"
   ],
   "metadata": {
    "collapsed": false,
    "pycharm": {
     "name": "#%%\n"
    }
   }
  },
  {
   "cell_type": "code",
   "execution_count": 31,
   "outputs": [],
   "source": [
    "# export dataframe to csv file\n",
    "user10.to_csv('C:/Users/tivon/projects/twitter_project/data/user_tweets_maritimephotos.csv')"
   ],
   "metadata": {
    "collapsed": false,
    "pycharm": {
     "name": "#%%\n"
    }
   }
  },
  {
   "cell_type": "markdown",
   "source": [
    "## Query Tweets\n",
    "Use getQueryTweets() function to fetch query tweets"
   ],
   "metadata": {
    "collapsed": false,
    "pycharm": {
     "name": "#%% md\n"
    }
   }
  },
  {
   "cell_type": "markdown",
   "source": [
    "### query1\n",
    "search_query = warship"
   ],
   "metadata": {
    "collapsed": false,
    "pycharm": {
     "name": "#%% md\n"
    }
   }
  },
  {
   "cell_type": "code",
   "execution_count": 7,
   "outputs": [
    {
     "name": "stdout",
     "output_type": "stream",
     "text": [
      "Total Tweets fetched: 54\n"
     ]
    },
    {
     "data": {
      "text/plain": "                 created_at                   user_name      screen_name  \\\n0 2022-03-06 22:42:02+00:00                        Orda  TheChaosEngine1   \n1 2022-03-06 22:40:54+00:00          軍艦を偏見とガバガバ知識で語るbot  warship_hengaba   \n2 2022-03-06 22:10:59+00:00          軍艦を偏見とガバガバ知識で語るbot  warship_hengaba   \n3 2022-03-06 21:40:56+00:00          軍艦を偏見とガバガバ知識で語るbot  warship_hengaba   \n4 2022-03-06 21:28:52+00:00  TΞSLA Fanboy Europe 🇺🇦🇪🇺🇨🇿   teslafaneurope   \n\n                                         description           user_location  \\\n0                                                                              \n1  その名の通り軍艦を偏見とガバガバ知識で語るbotです。30分に1回はつぶやきます。  艦これ...                     どこか   \n2  その名の通り軍艦を偏見とガバガバ知識で語るbotです。30分に1回はつぶやきます。  艦これ...                     どこか   \n3  その名の通り軍艦を偏見とガバガバ知識で語るbotです。30分に1回はつぶやきます。  艦これ...                     どこか   \n4  #Tesla fanboy, $TSLA investor and future owner...  Praha, Česká republika   \n\n                                                text language hashtags  \\\n0  @dicolis @AuroraIntel 🚨This just in: Russian w...       en     None   \n1  インコンパラブル/イギリス/巡洋戦艦\\nまたハッシュハッシュクルーザーだ！\\n50.8サンチ...       ja     None   \n2  ジョッフル級航空母艦/フランス/空母\\nベアルンの後継艦・・・なのだがクソデカ艦橋に謎のクレ...       ja     None   \n3  ネルソン型戦艦/イギリス/戦艦\\n艦容が余りにも不細工なためあだ名がタンカーとかあのさぁ・・...       ja     None   \n4  @nolanwpeterson ‘Russian Street’ in Prague, Cz...       en     None   \n\n                                           media_url              source  \\\n0  [https://pbs.twimg.com/media/FNM17Y1aMAI0M74.jpg]     Twitter Web App   \n1  [https://pbs.twimg.com/media/DSVs5lmUMAA_wMF.jpg]        twittbot.net   \n2  [https://pbs.twimg.com/media/DKvKbA_VwAANe8J.jpg]        twittbot.net   \n3  [https://pbs.twimg.com/media/DBadMZBUAAQJ9T0.jpg]        twittbot.net   \n4  [https://pbs.twimg.com/media/FNMlZCEXwAQjV_D.jpg]  Twitter for iPhone   \n\n  coordinates place time_zone  \n0        None  None      None  \n1        None  None      None  \n2        None  None      None  \n3        None  None      None  \n4        None  None      None  ",
      "text/html": "<div>\n<style scoped>\n    .dataframe tbody tr th:only-of-type {\n        vertical-align: middle;\n    }\n\n    .dataframe tbody tr th {\n        vertical-align: top;\n    }\n\n    .dataframe thead th {\n        text-align: right;\n    }\n</style>\n<table border=\"1\" class=\"dataframe\">\n  <thead>\n    <tr style=\"text-align: right;\">\n      <th></th>\n      <th>created_at</th>\n      <th>user_name</th>\n      <th>screen_name</th>\n      <th>description</th>\n      <th>user_location</th>\n      <th>text</th>\n      <th>language</th>\n      <th>hashtags</th>\n      <th>media_url</th>\n      <th>source</th>\n      <th>coordinates</th>\n      <th>place</th>\n      <th>time_zone</th>\n    </tr>\n  </thead>\n  <tbody>\n    <tr>\n      <th>0</th>\n      <td>2022-03-06 22:42:02+00:00</td>\n      <td>Orda</td>\n      <td>TheChaosEngine1</td>\n      <td></td>\n      <td></td>\n      <td>@dicolis @AuroraIntel 🚨This just in: Russian w...</td>\n      <td>en</td>\n      <td>None</td>\n      <td>[https://pbs.twimg.com/media/FNM17Y1aMAI0M74.jpg]</td>\n      <td>Twitter Web App</td>\n      <td>None</td>\n      <td>None</td>\n      <td>None</td>\n    </tr>\n    <tr>\n      <th>1</th>\n      <td>2022-03-06 22:40:54+00:00</td>\n      <td>軍艦を偏見とガバガバ知識で語るbot</td>\n      <td>warship_hengaba</td>\n      <td>その名の通り軍艦を偏見とガバガバ知識で語るbotです。30分に1回はつぶやきます。  艦これ...</td>\n      <td>どこか</td>\n      <td>インコンパラブル/イギリス/巡洋戦艦\\nまたハッシュハッシュクルーザーだ！\\n50.8サンチ...</td>\n      <td>ja</td>\n      <td>None</td>\n      <td>[https://pbs.twimg.com/media/DSVs5lmUMAA_wMF.jpg]</td>\n      <td>twittbot.net</td>\n      <td>None</td>\n      <td>None</td>\n      <td>None</td>\n    </tr>\n    <tr>\n      <th>2</th>\n      <td>2022-03-06 22:10:59+00:00</td>\n      <td>軍艦を偏見とガバガバ知識で語るbot</td>\n      <td>warship_hengaba</td>\n      <td>その名の通り軍艦を偏見とガバガバ知識で語るbotです。30分に1回はつぶやきます。  艦これ...</td>\n      <td>どこか</td>\n      <td>ジョッフル級航空母艦/フランス/空母\\nベアルンの後継艦・・・なのだがクソデカ艦橋に謎のクレ...</td>\n      <td>ja</td>\n      <td>None</td>\n      <td>[https://pbs.twimg.com/media/DKvKbA_VwAANe8J.jpg]</td>\n      <td>twittbot.net</td>\n      <td>None</td>\n      <td>None</td>\n      <td>None</td>\n    </tr>\n    <tr>\n      <th>3</th>\n      <td>2022-03-06 21:40:56+00:00</td>\n      <td>軍艦を偏見とガバガバ知識で語るbot</td>\n      <td>warship_hengaba</td>\n      <td>その名の通り軍艦を偏見とガバガバ知識で語るbotです。30分に1回はつぶやきます。  艦これ...</td>\n      <td>どこか</td>\n      <td>ネルソン型戦艦/イギリス/戦艦\\n艦容が余りにも不細工なためあだ名がタンカーとかあのさぁ・・...</td>\n      <td>ja</td>\n      <td>None</td>\n      <td>[https://pbs.twimg.com/media/DBadMZBUAAQJ9T0.jpg]</td>\n      <td>twittbot.net</td>\n      <td>None</td>\n      <td>None</td>\n      <td>None</td>\n    </tr>\n    <tr>\n      <th>4</th>\n      <td>2022-03-06 21:28:52+00:00</td>\n      <td>TΞSLA Fanboy Europe 🇺🇦🇪🇺🇨🇿</td>\n      <td>teslafaneurope</td>\n      <td>#Tesla fanboy, $TSLA investor and future owner...</td>\n      <td>Praha, Česká republika</td>\n      <td>@nolanwpeterson ‘Russian Street’ in Prague, Cz...</td>\n      <td>en</td>\n      <td>None</td>\n      <td>[https://pbs.twimg.com/media/FNMlZCEXwAQjV_D.jpg]</td>\n      <td>Twitter for iPhone</td>\n      <td>None</td>\n      <td>None</td>\n      <td>None</td>\n    </tr>\n  </tbody>\n</table>\n</div>"
     },
     "execution_count": 7,
     "metadata": {},
     "output_type": "execute_result"
    }
   ],
   "source": [
    "# Use getQueryTweets function (search_query = 'warship', count = 500)\n",
    "query1 = getQueryTweets('warship -filter:retweets', 500) # -filter:retweets excludes RT from query\n",
    "\n",
    "# show total number of tweets fetched\n",
    "print(\"Total Tweets fetched:\", len(query1))\n",
    "\n",
    "# show the dataframe\n",
    "query1.head()"
   ],
   "metadata": {
    "collapsed": false,
    "pycharm": {
     "name": "#%%\n"
    }
   }
  },
  {
   "cell_type": "code",
   "execution_count": 43,
   "outputs": [],
   "source": [
    "# export dataframe to csv file\n",
    "query1.to_csv('C:/Users/tivon/projects/twitter_project/data/query_tweets_warship.csv')"
   ],
   "metadata": {
    "collapsed": false,
    "pycharm": {
     "name": "#%%\n"
    }
   }
  },
  {
   "cell_type": "markdown",
   "source": [
    "### query2\n",
    "search_query = containership"
   ],
   "metadata": {
    "collapsed": false,
    "pycharm": {
     "name": "#%% md\n"
    }
   }
  },
  {
   "cell_type": "code",
   "execution_count": 8,
   "outputs": [
    {
     "name": "stdout",
     "output_type": "stream",
     "text": [
      "Total Tweets fetched: 11\n"
     ]
    },
    {
     "data": {
      "text/plain": "                 created_at                 user_name      screen_name  \\\n0 2022-03-05 16:01:42+00:00               John Morgan    johnmorgan726   \n1 2022-03-03 07:18:29+00:00                    Færder        faerder46   \n2 2022-03-02 08:40:07+00:00                Adis Ajdin        AdisAjdin   \n3 2022-03-02 06:33:04+00:00                    Splash       Splash_247   \n4 2022-03-02 02:58:39+00:00  Jason Mosley Photography  JasonMosleyPho1   \n\n                                         description       user_location  \\\n0  I enjoy HAM radio, fishing, and maritime traff...  Virginia Beach, VA   \n1  Ships, ferries, life.... enjoy listening to th...                 UK    \n2  Chief Correspondent at Splash Maritime and Off...                       \n3  Splash is the site for incisive, exclusive mar...           Singapore   \n4  Maritime industry, landscapes, photography  Av...    Port Angeles WA.   \n\n                                                text language  \\\n0  The BREMEN, IMO:9450387 en route to New York, ...       en   \n1  The JSP Rover @DublinPortCo @BgFreightLine #co...       en   \n2  Containership orderbook closes in on all-time ...       en   \n3  Containership orderbook closes in on all-time ...       en   \n4  Port of Seattle WA.    containership offloatin...       en   \n\n                                            hashtags  \\\n0               [Bremen, ContainerShip, ShipsInPics]   \n1  [containership, dublin, freight, supplychain, ...   \n2                                               None   \n3                                               None   \n4                                               None   \n\n                                           media_url              source  \\\n0  [https://pbs.twimg.com/media/FNGQ69wX0AgbOvZ.jpg]    Twitter for iPad   \n1  [https://pbs.twimg.com/media/FM6F_OEWYAEXq5w.jpg]  Twitter for iPhone   \n2  [https://pbs.twimg.com/media/FM1PFgMVUAcACMz.jpg]             dlvr.it   \n3  [https://pbs.twimg.com/media/FM0yAX_VQAEk8VL.jpg]             dlvr.it   \n4  [https://pbs.twimg.com/media/FM0A7jbXoAgovbu.jpg]      Smart Post App   \n\n  coordinates                                              place time_zone  \n0        None  Place(_api=<tweepy.api.API object at 0x0000024...      None  \n1        None                                               None      None  \n2        None                                               None      None  \n3        None                                               None      None  \n4        None                                               None      None  ",
      "text/html": "<div>\n<style scoped>\n    .dataframe tbody tr th:only-of-type {\n        vertical-align: middle;\n    }\n\n    .dataframe tbody tr th {\n        vertical-align: top;\n    }\n\n    .dataframe thead th {\n        text-align: right;\n    }\n</style>\n<table border=\"1\" class=\"dataframe\">\n  <thead>\n    <tr style=\"text-align: right;\">\n      <th></th>\n      <th>created_at</th>\n      <th>user_name</th>\n      <th>screen_name</th>\n      <th>description</th>\n      <th>user_location</th>\n      <th>text</th>\n      <th>language</th>\n      <th>hashtags</th>\n      <th>media_url</th>\n      <th>source</th>\n      <th>coordinates</th>\n      <th>place</th>\n      <th>time_zone</th>\n    </tr>\n  </thead>\n  <tbody>\n    <tr>\n      <th>0</th>\n      <td>2022-03-05 16:01:42+00:00</td>\n      <td>John Morgan</td>\n      <td>johnmorgan726</td>\n      <td>I enjoy HAM radio, fishing, and maritime traff...</td>\n      <td>Virginia Beach, VA</td>\n      <td>The BREMEN, IMO:9450387 en route to New York, ...</td>\n      <td>en</td>\n      <td>[Bremen, ContainerShip, ShipsInPics]</td>\n      <td>[https://pbs.twimg.com/media/FNGQ69wX0AgbOvZ.jpg]</td>\n      <td>Twitter for iPad</td>\n      <td>None</td>\n      <td>Place(_api=&lt;tweepy.api.API object at 0x0000024...</td>\n      <td>None</td>\n    </tr>\n    <tr>\n      <th>1</th>\n      <td>2022-03-03 07:18:29+00:00</td>\n      <td>Færder</td>\n      <td>faerder46</td>\n      <td>Ships, ferries, life.... enjoy listening to th...</td>\n      <td>UK</td>\n      <td>The JSP Rover @DublinPortCo @BgFreightLine #co...</td>\n      <td>en</td>\n      <td>[containership, dublin, freight, supplychain, ...</td>\n      <td>[https://pbs.twimg.com/media/FM6F_OEWYAEXq5w.jpg]</td>\n      <td>Twitter for iPhone</td>\n      <td>None</td>\n      <td>None</td>\n      <td>None</td>\n    </tr>\n    <tr>\n      <th>2</th>\n      <td>2022-03-02 08:40:07+00:00</td>\n      <td>Adis Ajdin</td>\n      <td>AdisAjdin</td>\n      <td>Chief Correspondent at Splash Maritime and Off...</td>\n      <td></td>\n      <td>Containership orderbook closes in on all-time ...</td>\n      <td>en</td>\n      <td>None</td>\n      <td>[https://pbs.twimg.com/media/FM1PFgMVUAcACMz.jpg]</td>\n      <td>dlvr.it</td>\n      <td>None</td>\n      <td>None</td>\n      <td>None</td>\n    </tr>\n    <tr>\n      <th>3</th>\n      <td>2022-03-02 06:33:04+00:00</td>\n      <td>Splash</td>\n      <td>Splash_247</td>\n      <td>Splash is the site for incisive, exclusive mar...</td>\n      <td>Singapore</td>\n      <td>Containership orderbook closes in on all-time ...</td>\n      <td>en</td>\n      <td>None</td>\n      <td>[https://pbs.twimg.com/media/FM0yAX_VQAEk8VL.jpg]</td>\n      <td>dlvr.it</td>\n      <td>None</td>\n      <td>None</td>\n      <td>None</td>\n    </tr>\n    <tr>\n      <th>4</th>\n      <td>2022-03-02 02:58:39+00:00</td>\n      <td>Jason Mosley Photography</td>\n      <td>JasonMosleyPho1</td>\n      <td>Maritime industry, landscapes, photography  Av...</td>\n      <td>Port Angeles WA.</td>\n      <td>Port of Seattle WA.    containership offloatin...</td>\n      <td>en</td>\n      <td>None</td>\n      <td>[https://pbs.twimg.com/media/FM0A7jbXoAgovbu.jpg]</td>\n      <td>Smart Post App</td>\n      <td>None</td>\n      <td>None</td>\n      <td>None</td>\n    </tr>\n  </tbody>\n</table>\n</div>"
     },
     "execution_count": 8,
     "metadata": {},
     "output_type": "execute_result"
    }
   ],
   "source": [
    "# Use getQueryTweets function (search_query = 'containership', count = 500)\n",
    "query2 = getQueryTweets('containership -filter:retweets', 500) # -filter:retweets excludes RT from query\n",
    "\n",
    "# show total number of tweets fetched\n",
    "print(\"Total Tweets fetched:\", len(query2))\n",
    "\n",
    "# show the dataframe\n",
    "query2.head()"
   ],
   "metadata": {
    "collapsed": false,
    "pycharm": {
     "name": "#%%\n"
    }
   }
  },
  {
   "cell_type": "code",
   "execution_count": 45,
   "outputs": [],
   "source": [
    "# export dataframe to csv file\n",
    "query2.to_csv('C:/Users/tivon/projects/twitter_project/data/query_tweets_containership.csv')"
   ],
   "metadata": {
    "collapsed": false,
    "pycharm": {
     "name": "#%%\n"
    }
   }
  },
  {
   "cell_type": "markdown",
   "source": [
    "### query3\n",
    "search_query = navylookout"
   ],
   "metadata": {
    "collapsed": false,
    "pycharm": {
     "name": "#%% md\n"
    }
   }
  },
  {
   "cell_type": "code",
   "execution_count": 9,
   "outputs": [
    {
     "name": "stdout",
     "output_type": "stream",
     "text": [
      "Total Tweets fetched: 17\n"
     ]
    },
    {
     "data": {
      "text/plain": "                 created_at              user_name      screen_name  \\\n0 2022-03-06 18:57:18+00:00  Shipsoftherivermersey  Shipsoftherive1   \n1 2022-03-06 18:54:04+00:00           AndyinBrum 🌻       AndyinBrum   \n2 2022-03-06 15:59:46+00:00                    G M       GM60410314   \n3 2022-03-06 15:31:35+00:00          Elton John 🇵🇱       EltonDzone   \n4 2022-03-06 15:09:07+00:00           Navy Lookout      NavyLookout   \n\n                                         description        user_location  \\\n0  Bringing you what I can when I can from ships ...  Birkenhead, England   \n1  Warning may contain gratuitous use of swearwor...                        \n2                                                                           \n3                                                                           \n4           Independent Royal Navy news and analysis                   UK   \n\n                                                text language hashtags  \\\n0  @hms_argyll leaving Liverpool today @NavyLooko...       en     None   \n1  @NavyLookout @UKDefJournal @hmssevern @SheilaL...       en     None   \n2               @NavyLookout https://t.co/ccCVBpVMjH      und     None   \n3  @danbrusca @hackingbutlegal @NavyLookout Are y...       en     None   \n4  Stunning view of @hmssevern outbound on the Fi...       en     None   \n\n                                           media_url              source  \\\n0  [https://pbs.twimg.com/media/FNMCsvhWQAMUrIE.jpg]    Twitter for iPad   \n1  [https://pbs.twimg.com/tweet_video_thumb/FNMB9...  Twitter for iPhone   \n2  [https://pbs.twimg.com/media/FNLaEbGXoAMQcBA.jpg]  Twitter for iPhone   \n3  [https://pbs.twimg.com/media/FNLTmuKXsAg5R_m.jpg]     Twitter Web App   \n4  [https://pbs.twimg.com/media/FNLObCbXoAQtW0P.jpg]           TweetDeck   \n\n  coordinates place time_zone  \n0        None  None      None  \n1        None  None      None  \n2        None  None      None  \n3        None  None      None  \n4        None  None      None  ",
      "text/html": "<div>\n<style scoped>\n    .dataframe tbody tr th:only-of-type {\n        vertical-align: middle;\n    }\n\n    .dataframe tbody tr th {\n        vertical-align: top;\n    }\n\n    .dataframe thead th {\n        text-align: right;\n    }\n</style>\n<table border=\"1\" class=\"dataframe\">\n  <thead>\n    <tr style=\"text-align: right;\">\n      <th></th>\n      <th>created_at</th>\n      <th>user_name</th>\n      <th>screen_name</th>\n      <th>description</th>\n      <th>user_location</th>\n      <th>text</th>\n      <th>language</th>\n      <th>hashtags</th>\n      <th>media_url</th>\n      <th>source</th>\n      <th>coordinates</th>\n      <th>place</th>\n      <th>time_zone</th>\n    </tr>\n  </thead>\n  <tbody>\n    <tr>\n      <th>0</th>\n      <td>2022-03-06 18:57:18+00:00</td>\n      <td>Shipsoftherivermersey</td>\n      <td>Shipsoftherive1</td>\n      <td>Bringing you what I can when I can from ships ...</td>\n      <td>Birkenhead, England</td>\n      <td>@hms_argyll leaving Liverpool today @NavyLooko...</td>\n      <td>en</td>\n      <td>None</td>\n      <td>[https://pbs.twimg.com/media/FNMCsvhWQAMUrIE.jpg]</td>\n      <td>Twitter for iPad</td>\n      <td>None</td>\n      <td>None</td>\n      <td>None</td>\n    </tr>\n    <tr>\n      <th>1</th>\n      <td>2022-03-06 18:54:04+00:00</td>\n      <td>AndyinBrum 🌻</td>\n      <td>AndyinBrum</td>\n      <td>Warning may contain gratuitous use of swearwor...</td>\n      <td></td>\n      <td>@NavyLookout @UKDefJournal @hmssevern @SheilaL...</td>\n      <td>en</td>\n      <td>None</td>\n      <td>[https://pbs.twimg.com/tweet_video_thumb/FNMB9...</td>\n      <td>Twitter for iPhone</td>\n      <td>None</td>\n      <td>None</td>\n      <td>None</td>\n    </tr>\n    <tr>\n      <th>2</th>\n      <td>2022-03-06 15:59:46+00:00</td>\n      <td>G M</td>\n      <td>GM60410314</td>\n      <td></td>\n      <td></td>\n      <td>@NavyLookout https://t.co/ccCVBpVMjH</td>\n      <td>und</td>\n      <td>None</td>\n      <td>[https://pbs.twimg.com/media/FNLaEbGXoAMQcBA.jpg]</td>\n      <td>Twitter for iPhone</td>\n      <td>None</td>\n      <td>None</td>\n      <td>None</td>\n    </tr>\n    <tr>\n      <th>3</th>\n      <td>2022-03-06 15:31:35+00:00</td>\n      <td>Elton John 🇵🇱</td>\n      <td>EltonDzone</td>\n      <td></td>\n      <td></td>\n      <td>@danbrusca @hackingbutlegal @NavyLookout Are y...</td>\n      <td>en</td>\n      <td>None</td>\n      <td>[https://pbs.twimg.com/media/FNLTmuKXsAg5R_m.jpg]</td>\n      <td>Twitter Web App</td>\n      <td>None</td>\n      <td>None</td>\n      <td>None</td>\n    </tr>\n    <tr>\n      <th>4</th>\n      <td>2022-03-06 15:09:07+00:00</td>\n      <td>Navy Lookout</td>\n      <td>NavyLookout</td>\n      <td>Independent Royal Navy news and analysis</td>\n      <td>UK</td>\n      <td>Stunning view of @hmssevern outbound on the Fi...</td>\n      <td>en</td>\n      <td>None</td>\n      <td>[https://pbs.twimg.com/media/FNLObCbXoAQtW0P.jpg]</td>\n      <td>TweetDeck</td>\n      <td>None</td>\n      <td>None</td>\n      <td>None</td>\n    </tr>\n  </tbody>\n</table>\n</div>"
     },
     "execution_count": 9,
     "metadata": {},
     "output_type": "execute_result"
    }
   ],
   "source": [
    "# Use getQueryTweets function (search_query = 'navylookout', count = 500)\n",
    "query3 = getQueryTweets('navylookout -filter:retweets', 500) # -filter:retweets excludes RT from query\n",
    "\n",
    "# show total number of tweets fetched\n",
    "print(\"Total Tweets fetched:\", len(query3))\n",
    "\n",
    "# show the dataframe\n",
    "query3.head()"
   ],
   "metadata": {
    "collapsed": false,
    "pycharm": {
     "name": "#%%\n"
    }
   }
  },
  {
   "cell_type": "code",
   "execution_count": 47,
   "outputs": [],
   "source": [
    "# export dataframe to csv file\n",
    "query3.to_csv('C:/Users/tivon/projects/twitter_project/data/query_tweets_navylookout.csv')"
   ],
   "metadata": {
    "collapsed": false,
    "pycharm": {
     "name": "#%%\n"
    }
   }
  }
 ],
 "metadata": {
  "kernelspec": {
   "display_name": "Python 3",
   "language": "python",
   "name": "python3"
  },
  "language_info": {
   "codemirror_mode": {
    "name": "ipython",
    "version": 2
   },
   "file_extension": ".py",
   "mimetype": "text/x-python",
   "name": "python",
   "nbconvert_exporter": "python",
   "pygments_lexer": "ipython2",
   "version": "2.7.6"
  }
 },
 "nbformat": 4,
 "nbformat_minor": 0
}