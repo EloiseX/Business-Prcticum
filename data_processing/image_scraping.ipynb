{
 "cells": [
  {
   "cell_type": "markdown",
   "source": [
    "## Initialize API."
   ],
   "metadata": {
    "collapsed": false,
    "pycharm": {
     "name": "#%% md\n"
    }
   }
  },
  {
   "cell_type": "code",
   "execution_count": 1,
   "metadata": {
    "collapsed": true
   },
   "outputs": [],
   "source": [
    "import config\n",
    "import tweepy\n",
    "import pandas as pd\n",
    "\n",
    "api_key = ''\n",
    "api_key_secret = ''\n",
    "\n",
    "access_token = ''\n",
    "access_secret_token = ''\n",
    "\n",
    "auth = tweepy.OAuthHandler(config.api_key, config.api_key_secret)\n",
    "auth.set_access_token(config.access_token, config.access_secret_token)\n",
    "\n",
    "api = tweepy.API(auth, wait_on_rate_limit=True)"
   ]
  },
  {
   "cell_type": "markdown",
   "source": [
    "## Define function to fetch user tweets with appropriate parameters."
   ],
   "metadata": {
    "collapsed": false,
    "pycharm": {
     "name": "#%% md\n"
    }
   }
  },
  {
   "cell_type": "code",
   "execution_count": 2,
   "outputs": [],
   "source": [
    "def getUserTweets(screen_name, count):\n",
    "\n",
    "\n",
    "    # get tweets from the API\n",
    "    tweets = tweepy.Cursor(api.user_timeline, screen_name=screen_name).items(count)\n",
    "\n",
    "    # store the API responses in a list\n",
    "    tweets_copy = []\n",
    "    for tweet in tweets:\n",
    "        if 'media' in tweet.entities: # and 'RT @' not in tweet.text:\n",
    "            tweets_copy.append(tweet)\n",
    "\n",
    "    # initialize the dataframe\n",
    "    tweets_df = pd.DataFrame()\n",
    "    # populate the dataframe\n",
    "    for tweet in tweets_copy:\n",
    "        hashtags = []\n",
    "        media_url = []\n",
    "        try:\n",
    "            for hashtag in tweet.entities[\"hashtags\"]:\n",
    "                hashtags.append(hashtag[\"text\"])\n",
    "            for media in tweet.entities['media']:\n",
    "                media_url.append(media[\"media_url_https\"])\n",
    "        except:\n",
    "            pass\n",
    "        tweets_df = pd.concat([tweets_df, pd.DataFrame({'created_at': tweet.created_at,\n",
    "                                                        'user_name': tweet.user.name,\n",
    "                                                        'screen_name': tweet.user.screen_name,\n",
    "                                                        'description': tweet.user.description,\n",
    "                                                        'user_location': tweet.user.location,\n",
    "                                                        'text': tweet.text,\n",
    "                                                        'language': tweet.lang,\n",
    "                                                        'hashtags': [hashtags if hashtags else None],\n",
    "                                                        'media_url': [media_url if media_url else None],\n",
    "                                                        'source': tweet.source,\n",
    "                                                        'coordinates': tweet.coordinates,\n",
    "                                                        'place': tweet.place,\n",
    "                                                        'time_zone': tweet.user.time_zone,\n",
    "                                                        })])\n",
    "        tweets_df = tweets_df.reset_index(drop=True)\n",
    "\n",
    "    return tweets_df"
   ],
   "metadata": {
    "collapsed": false,
    "pycharm": {
     "name": "#%%\n"
    }
   }
  },
  {
   "cell_type": "markdown",
   "source": [
    "## Define function to fetch query tweets with appropriate parameters."
   ],
   "metadata": {
    "collapsed": false,
    "pycharm": {
     "name": "#%% md\n"
    }
   }
  },
  {
   "cell_type": "code",
   "execution_count": 3,
   "outputs": [],
   "source": [
    "def getQueryTweets(search_query, count):\n",
    "\n",
    "    # get tweets from the API\n",
    "    tweets = tweepy.Cursor(api.search_tweets, q=search_query).items(count)\n",
    "\n",
    "    # store the API responses in a list\n",
    "    tweets_copy = []\n",
    "    for tweet in tweets:\n",
    "        if 'media' in tweet.entities:\n",
    "            tweets_copy.append(tweet)\n",
    "\n",
    "    # initialize the dataframe\n",
    "    tweets_df = pd.DataFrame()\n",
    "    # populate the dataframe\n",
    "    for tweet in tweets_copy:\n",
    "        hashtags = []\n",
    "        media_url = []\n",
    "        try:\n",
    "            for hashtag in tweet.entities[\"hashtags\"]:\n",
    "                hashtags.append(hashtag[\"text\"])\n",
    "            for media in tweet.entities['media']:\n",
    "                media_url.append(media[\"media_url_https\"])\n",
    "        except:\n",
    "            pass\n",
    "        tweets_df = pd.concat([tweets_df, pd.DataFrame({'created_at': tweet.created_at,\n",
    "                                                        'user_name': tweet.user.name,\n",
    "                                                        'screen_name': tweet.user.screen_name,\n",
    "                                                        'description': tweet.user.description,\n",
    "                                                        'user_location': tweet.user.location,\n",
    "                                                        'text': tweet.text,\n",
    "                                                        'language': tweet.lang,\n",
    "                                                        'hashtags': [hashtags if hashtags else None],\n",
    "                                                        'media_url':[media_url if media_url else None],\n",
    "                                                        'source': tweet.source,\n",
    "                                                        'coordinates': tweet.coordinates,\n",
    "                                                        'place': tweet.place,\n",
    "                                                        'time_zone': tweet.user.time_zone,\n",
    "                                                        })])\n",
    "        tweets_df = tweets_df.reset_index(drop=True)\n",
    "\n",
    "    return tweets_df"
   ],
   "metadata": {
    "collapsed": false,
    "pycharm": {
     "name": "#%%\n"
    }
   }
  },
  {
   "cell_type": "markdown",
   "source": [
    "## User Tweets\n",
    "Use getUserTweets() function to fetch user tweets"
   ],
   "metadata": {
    "collapsed": false,
    "pycharm": {
     "name": "#%% md\n"
    }
   }
  },
  {
   "cell_type": "markdown",
   "source": [
    "### user1\n",
    "screen_name = @PilotHarbour"
   ],
   "metadata": {
    "collapsed": false,
    "pycharm": {
     "name": "#%% md\n"
    }
   }
  },
  {
   "cell_type": "code",
   "execution_count": 4,
   "outputs": [
    {
     "name": "stdout",
     "output_type": "stream",
     "text": [
      "Total Tweets fetched: 785\n"
     ]
    },
    {
     "data": {
      "text/plain": "                 created_at      user_name   screen_name  \\\n0 2022-03-06 19:10:12+00:00  Harbour Pilot  PilotHarbour   \n1 2022-03-06 18:56:33+00:00  Harbour Pilot  PilotHarbour   \n2 2022-03-06 18:34:37+00:00  Harbour Pilot  PilotHarbour   \n3 2022-03-06 18:10:46+00:00  Harbour Pilot  PilotHarbour   \n4 2022-03-06 17:57:26+00:00  Harbour Pilot  PilotHarbour   \n\n                            description    user_location  \\\n0  Ports and pilots maritime photograpy  Valencia, Spain   \n1  Ports and pilots maritime photograpy  Valencia, Spain   \n2  Ports and pilots maritime photograpy  Valencia, Spain   \n3  Ports and pilots maritime photograpy  Valencia, Spain   \n4  Ports and pilots maritime photograpy  Valencia, Spain   \n\n                                                text language hashtags  \\\n0  Occitan Pauillac inbound Valencia port. \\nhttp...       en     None   \n1  Clarke Quay berthed Temagra Terminal Sur dock,...       en     None   \n2  MSC Sofia Paz berthed CSP Iberian Terminal, Va...       pt     None   \n3  CMA CGM Homere outbound, Valencia port. \\nhttp...       en     None   \n4  Maersk Puelo berthed APM Terminal, Valencia po...       cy     None   \n\n                                           media_url           source  \\\n0  [https://pbs.twimg.com/media/FNMFpsbX0AkNCx9.jpg]  Twitter Web App   \n1  [https://pbs.twimg.com/media/FNMChlAXsAE1Mt4.jpg]  Twitter Web App   \n2  [https://pbs.twimg.com/media/FNL9gpoXsAUr8nJ.jpg]  Twitter Web App   \n3  [https://pbs.twimg.com/media/FNL4DPLWYAQPP4A.jpg]  Twitter Web App   \n4  [https://pbs.twimg.com/media/FNL0_4uXoAI6fWa.jpg]  Twitter Web App   \n\n  coordinates place time_zone  \n0        None  None      None  \n1        None  None      None  \n2        None  None      None  \n3        None  None      None  \n4        None  None      None  ",
      "text/html": "<div>\n<style scoped>\n    .dataframe tbody tr th:only-of-type {\n        vertical-align: middle;\n    }\n\n    .dataframe tbody tr th {\n        vertical-align: top;\n    }\n\n    .dataframe thead th {\n        text-align: right;\n    }\n</style>\n<table border=\"1\" class=\"dataframe\">\n  <thead>\n    <tr style=\"text-align: right;\">\n      <th></th>\n      <th>created_at</th>\n      <th>user_name</th>\n      <th>screen_name</th>\n      <th>description</th>\n      <th>user_location</th>\n      <th>text</th>\n      <th>language</th>\n      <th>hashtags</th>\n      <th>media_url</th>\n      <th>source</th>\n      <th>coordinates</th>\n      <th>place</th>\n      <th>time_zone</th>\n    </tr>\n  </thead>\n  <tbody>\n    <tr>\n      <th>0</th>\n      <td>2022-03-06 19:10:12+00:00</td>\n      <td>Harbour Pilot</td>\n      <td>PilotHarbour</td>\n      <td>Ports and pilots maritime photograpy</td>\n      <td>Valencia, Spain</td>\n      <td>Occitan Pauillac inbound Valencia port. \\nhttp...</td>\n      <td>en</td>\n      <td>None</td>\n      <td>[https://pbs.twimg.com/media/FNMFpsbX0AkNCx9.jpg]</td>\n      <td>Twitter Web App</td>\n      <td>None</td>\n      <td>None</td>\n      <td>None</td>\n    </tr>\n    <tr>\n      <th>1</th>\n      <td>2022-03-06 18:56:33+00:00</td>\n      <td>Harbour Pilot</td>\n      <td>PilotHarbour</td>\n      <td>Ports and pilots maritime photograpy</td>\n      <td>Valencia, Spain</td>\n      <td>Clarke Quay berthed Temagra Terminal Sur dock,...</td>\n      <td>en</td>\n      <td>None</td>\n      <td>[https://pbs.twimg.com/media/FNMChlAXsAE1Mt4.jpg]</td>\n      <td>Twitter Web App</td>\n      <td>None</td>\n      <td>None</td>\n      <td>None</td>\n    </tr>\n    <tr>\n      <th>2</th>\n      <td>2022-03-06 18:34:37+00:00</td>\n      <td>Harbour Pilot</td>\n      <td>PilotHarbour</td>\n      <td>Ports and pilots maritime photograpy</td>\n      <td>Valencia, Spain</td>\n      <td>MSC Sofia Paz berthed CSP Iberian Terminal, Va...</td>\n      <td>pt</td>\n      <td>None</td>\n      <td>[https://pbs.twimg.com/media/FNL9gpoXsAUr8nJ.jpg]</td>\n      <td>Twitter Web App</td>\n      <td>None</td>\n      <td>None</td>\n      <td>None</td>\n    </tr>\n    <tr>\n      <th>3</th>\n      <td>2022-03-06 18:10:46+00:00</td>\n      <td>Harbour Pilot</td>\n      <td>PilotHarbour</td>\n      <td>Ports and pilots maritime photograpy</td>\n      <td>Valencia, Spain</td>\n      <td>CMA CGM Homere outbound, Valencia port. \\nhttp...</td>\n      <td>en</td>\n      <td>None</td>\n      <td>[https://pbs.twimg.com/media/FNL4DPLWYAQPP4A.jpg]</td>\n      <td>Twitter Web App</td>\n      <td>None</td>\n      <td>None</td>\n      <td>None</td>\n    </tr>\n    <tr>\n      <th>4</th>\n      <td>2022-03-06 17:57:26+00:00</td>\n      <td>Harbour Pilot</td>\n      <td>PilotHarbour</td>\n      <td>Ports and pilots maritime photograpy</td>\n      <td>Valencia, Spain</td>\n      <td>Maersk Puelo berthed APM Terminal, Valencia po...</td>\n      <td>cy</td>\n      <td>None</td>\n      <td>[https://pbs.twimg.com/media/FNL0_4uXoAI6fWa.jpg]</td>\n      <td>Twitter Web App</td>\n      <td>None</td>\n      <td>None</td>\n      <td>None</td>\n    </tr>\n  </tbody>\n</table>\n</div>"
     },
     "execution_count": 4,
     "metadata": {},
     "output_type": "execute_result"
    }
   ],
   "source": [
    "# Use getUserTweets function (screen_name = 'PilotHarbour', count = 1000)\n",
    "user1 = getUserTweets('PilotHarbour', 1000)\n",
    "\n",
    "# show total number of tweets\n",
    "print(\"Total Tweets fetched:\", len(user1))\n",
    "\n",
    "# show the dataframe\n",
    "user1.head()"
   ],
   "metadata": {
    "collapsed": false,
    "pycharm": {
     "name": "#%%\n"
    }
   }
  },
  {
   "cell_type": "code",
   "execution_count": 36,
   "outputs": [],
   "source": [
    "# export dataframe to csv file\n",
    "user1.to_csv('C:/Users/tivon/projects/twitter_project/data/user_tweets_pilotharbour.csv')"
   ],
   "metadata": {
    "collapsed": false,
    "pycharm": {
     "name": "#%%\n"
    }
   }
  },
  {
   "cell_type": "markdown",
   "source": [
    "### user2\n",
    "screen_name = @ShippingMag"
   ],
   "metadata": {
    "collapsed": false,
    "pycharm": {
     "name": "#%% md\n"
    }
   }
  },
  {
   "cell_type": "code",
   "execution_count": 5,
   "outputs": [
    {
     "name": "stdout",
     "output_type": "stream",
     "text": [
      "Total Tweets fetched: 202\n"
     ]
    },
    {
     "data": {
      "text/plain": "                 created_at     user_name  screen_name  \\\n0 2022-03-06 20:33:14+00:00  Shipping Mag  ShippingMag   \n1 2022-03-06 06:11:37+00:00  Shipping Mag  ShippingMag   \n2 2022-03-05 13:33:01+00:00  Shipping Mag  ShippingMag   \n3 2022-03-03 05:40:50+00:00  Shipping Mag  ShippingMag   \n4 2022-03-01 05:47:57+00:00  Shipping Mag  ShippingMag   \n\n                                         description   user_location  \\\n0  Shipping Today & Yesterday - the monthly magaz...  United Kingdom   \n1  Shipping Today & Yesterday - the monthly magaz...  United Kingdom   \n2  Shipping Today & Yesterday - the monthly magaz...  United Kingdom   \n3  Shipping Today & Yesterday - the monthly magaz...  United Kingdom   \n4  Shipping Today & Yesterday - the monthly magaz...  United Kingdom   \n\n                                                text language  \\\n0  RT @capt_haitham: #Repost\\n\\nThere goes a #Pil...       en   \n1  RT @GaloMonge: Trabajando en equipo @boludacm ...       es   \n2  RT @donships1: No.1632 New Camellia 2004 19,96...       en   \n3  RT @JuanGMata: Ferry \"Bahama Mama\" saliendo de...       es   \n4  RT @BShipspotting: Container ship Lori and bul...       en   \n\n          hashtags                                          media_url  \\\n0  [Repost, Pilot]  [https://pbs.twimg.com/ext_tw_video_thumb/1500...   \n1             None  [https://pbs.twimg.com/media/FNHBO7tXIAcX-9u.jpg]   \n2             None  [https://pbs.twimg.com/media/FNEnbzyXMAUosR4.jpg]   \n3             None  [https://pbs.twimg.com/media/FM4CiZiWQAMtiUO.jpg]   \n4             None  [https://pbs.twimg.com/media/FMuAYQqXMAUqqrm.jpg]   \n\n                source coordinates place time_zone  \n0  Twitter for Android        None  None      None  \n1  Twitter for Android        None  None      None  \n2  Twitter for Android        None  None      None  \n3  Twitter for Android        None  None      None  \n4  Twitter for Android        None  None      None  ",
      "text/html": "<div>\n<style scoped>\n    .dataframe tbody tr th:only-of-type {\n        vertical-align: middle;\n    }\n\n    .dataframe tbody tr th {\n        vertical-align: top;\n    }\n\n    .dataframe thead th {\n        text-align: right;\n    }\n</style>\n<table border=\"1\" class=\"dataframe\">\n  <thead>\n    <tr style=\"text-align: right;\">\n      <th></th>\n      <th>created_at</th>\n      <th>user_name</th>\n      <th>screen_name</th>\n      <th>description</th>\n      <th>user_location</th>\n      <th>text</th>\n      <th>language</th>\n      <th>hashtags</th>\n      <th>media_url</th>\n      <th>source</th>\n      <th>coordinates</th>\n      <th>place</th>\n      <th>time_zone</th>\n    </tr>\n  </thead>\n  <tbody>\n    <tr>\n      <th>0</th>\n      <td>2022-03-06 20:33:14+00:00</td>\n      <td>Shipping Mag</td>\n      <td>ShippingMag</td>\n      <td>Shipping Today &amp; Yesterday - the monthly magaz...</td>\n      <td>United Kingdom</td>\n      <td>RT @capt_haitham: #Repost\\n\\nThere goes a #Pil...</td>\n      <td>en</td>\n      <td>[Repost, Pilot]</td>\n      <td>[https://pbs.twimg.com/ext_tw_video_thumb/1500...</td>\n      <td>Twitter for Android</td>\n      <td>None</td>\n      <td>None</td>\n      <td>None</td>\n    </tr>\n    <tr>\n      <th>1</th>\n      <td>2022-03-06 06:11:37+00:00</td>\n      <td>Shipping Mag</td>\n      <td>ShippingMag</td>\n      <td>Shipping Today &amp; Yesterday - the monthly magaz...</td>\n      <td>United Kingdom</td>\n      <td>RT @GaloMonge: Trabajando en equipo @boludacm ...</td>\n      <td>es</td>\n      <td>None</td>\n      <td>[https://pbs.twimg.com/media/FNHBO7tXIAcX-9u.jpg]</td>\n      <td>Twitter for Android</td>\n      <td>None</td>\n      <td>None</td>\n      <td>None</td>\n    </tr>\n    <tr>\n      <th>2</th>\n      <td>2022-03-05 13:33:01+00:00</td>\n      <td>Shipping Mag</td>\n      <td>ShippingMag</td>\n      <td>Shipping Today &amp; Yesterday - the monthly magaz...</td>\n      <td>United Kingdom</td>\n      <td>RT @donships1: No.1632 New Camellia 2004 19,96...</td>\n      <td>en</td>\n      <td>None</td>\n      <td>[https://pbs.twimg.com/media/FNEnbzyXMAUosR4.jpg]</td>\n      <td>Twitter for Android</td>\n      <td>None</td>\n      <td>None</td>\n      <td>None</td>\n    </tr>\n    <tr>\n      <th>3</th>\n      <td>2022-03-03 05:40:50+00:00</td>\n      <td>Shipping Mag</td>\n      <td>ShippingMag</td>\n      <td>Shipping Today &amp; Yesterday - the monthly magaz...</td>\n      <td>United Kingdom</td>\n      <td>RT @JuanGMata: Ferry \"Bahama Mama\" saliendo de...</td>\n      <td>es</td>\n      <td>None</td>\n      <td>[https://pbs.twimg.com/media/FM4CiZiWQAMtiUO.jpg]</td>\n      <td>Twitter for Android</td>\n      <td>None</td>\n      <td>None</td>\n      <td>None</td>\n    </tr>\n    <tr>\n      <th>4</th>\n      <td>2022-03-01 05:47:57+00:00</td>\n      <td>Shipping Mag</td>\n      <td>ShippingMag</td>\n      <td>Shipping Today &amp; Yesterday - the monthly magaz...</td>\n      <td>United Kingdom</td>\n      <td>RT @BShipspotting: Container ship Lori and bul...</td>\n      <td>en</td>\n      <td>None</td>\n      <td>[https://pbs.twimg.com/media/FMuAYQqXMAUqqrm.jpg]</td>\n      <td>Twitter for Android</td>\n      <td>None</td>\n      <td>None</td>\n      <td>None</td>\n    </tr>\n  </tbody>\n</table>\n</div>"
     },
     "execution_count": 5,
     "metadata": {},
     "output_type": "execute_result"
    }
   ],
   "source": [
    "# Use getUserTweets function (screen_name = 'ShippingMag', count = 1000)\n",
    "user2 = getUserTweets('ShippingMag', 1000)\n",
    "\n",
    "# show total number of tweets\n",
    "print(\"Total Tweets fetched:\", len(user2))\n",
    "\n",
    "# show the dataframe\n",
    "user2.head()"
   ],
   "metadata": {
    "collapsed": false,
    "pycharm": {
     "name": "#%%\n"
    }
   }
  },
  {
   "cell_type": "code",
   "execution_count": 39,
   "outputs": [],
   "source": [
    "# export dataframe to csv file\n",
    "user2.to_csv('C:/Users/tivon/projects/twitter_project/data/user_tweets_shippingmag.csv')"
   ],
   "metadata": {
    "collapsed": false,
    "pycharm": {
     "name": "#%%\n"
    }
   }
  },
  {
   "cell_type": "markdown",
   "source": [
    "### user3\n",
    "screen_name = @ShipsInPics"
   ],
   "metadata": {
    "collapsed": false,
    "pycharm": {
     "name": "#%% md\n"
    }
   }
  },
  {
   "cell_type": "code",
   "execution_count": 6,
   "outputs": [
    {
     "name": "stdout",
     "output_type": "stream",
     "text": [
      "Total Tweets fetched: 116\n"
     ]
    },
    {
     "data": {
      "text/plain": "                 created_at             user_name  screen_name  \\\n0 2022-03-05 19:10:35+00:00  Ships In Pictures ⚓️  ShipsInPics   \n1 2022-03-05 13:10:35+00:00  Ships In Pictures ⚓️  ShipsInPics   \n2 2022-03-04 18:10:45+00:00  Ships In Pictures ⚓️  ShipsInPics   \n3 2022-03-04 18:10:39+00:00  Ships In Pictures ⚓️  ShipsInPics   \n4 2022-03-03 18:10:38+00:00  Ships In Pictures ⚓️  ShipsInPics   \n\n                                         description  \\\n0  Sharing the best ship photos 📷 around. Tweets ...   \n1  Sharing the best ship photos 📷 around. Tweets ...   \n2  Sharing the best ship photos 📷 around. Tweets ...   \n3  Sharing the best ship photos 📷 around. Tweets ...   \n4  Sharing the best ship photos 📷 around. Tweets ...   \n\n                  user_location  \\\n0  Email: shipsinpics@gmail.com   \n1  Email: shipsinpics@gmail.com   \n2  Email: shipsinpics@gmail.com   \n3  Email: shipsinpics@gmail.com   \n4  Email: shipsinpics@gmail.com   \n\n                                                text language  \\\n0  RT @AfricaUya: FREESIA at⚓️  #Ship #port #ship...       in   \n1  RT @Apez140: #Instantes\\nCon los que me identi...       es   \n2  RT @johnmorgan726: The #RAM15 MMSI:366878290 o...       en   \n3  RT @AfricaUya: FT PORTORIA at⚓️  #Ship #port #...       cs   \n4  RT @AfricaUya: KARIM ALLAH anchored⚓️  #Ship #...       in   \n\n                                            hashtags  \\\n0  [Ship, port, shipsinpics, maritime, VTS, ships...   \n1                           [Instantes, ShipsInPics]   \n2                               [RAM15, ShipsInPics]   \n3  [Ship, port, shipsinpics, maritime, VTS, ships...   \n4  [Ship, port, shipsinpics, maritime, VTS, ships...   \n\n                                           media_url          source  \\\n0  [https://pbs.twimg.com/media/FNGy-yCXwAIkBr9.jpg]  RT #shipinpics   \n1  [https://pbs.twimg.com/media/FNFhIx7XoAEoKkW.jpg]  RT #shipinpics   \n2  [https://pbs.twimg.com/media/FNBjT7GX0AMkkjb.jpg]  RT #shipinpics   \n3  [https://pbs.twimg.com/media/FNBiq-wXsAc-sp9.jpg]  RT #shipinpics   \n4  [https://pbs.twimg.com/media/FM8Z3YkX0AM4vW4.jpg]  RT #shipinpics   \n\n  coordinates place time_zone  \n0        None  None      None  \n1        None  None      None  \n2        None  None      None  \n3        None  None      None  \n4        None  None      None  ",
      "text/html": "<div>\n<style scoped>\n    .dataframe tbody tr th:only-of-type {\n        vertical-align: middle;\n    }\n\n    .dataframe tbody tr th {\n        vertical-align: top;\n    }\n\n    .dataframe thead th {\n        text-align: right;\n    }\n</style>\n<table border=\"1\" class=\"dataframe\">\n  <thead>\n    <tr style=\"text-align: right;\">\n      <th></th>\n      <th>created_at</th>\n      <th>user_name</th>\n      <th>screen_name</th>\n      <th>description</th>\n      <th>user_location</th>\n      <th>text</th>\n      <th>language</th>\n      <th>hashtags</th>\n      <th>media_url</th>\n      <th>source</th>\n      <th>coordinates</th>\n      <th>place</th>\n      <th>time_zone</th>\n    </tr>\n  </thead>\n  <tbody>\n    <tr>\n      <th>0</th>\n      <td>2022-03-05 19:10:35+00:00</td>\n      <td>Ships In Pictures ⚓️</td>\n      <td>ShipsInPics</td>\n      <td>Sharing the best ship photos 📷 around. Tweets ...</td>\n      <td>Email: shipsinpics@gmail.com</td>\n      <td>RT @AfricaUya: FREESIA at⚓️  #Ship #port #ship...</td>\n      <td>in</td>\n      <td>[Ship, port, shipsinpics, maritime, VTS, ships...</td>\n      <td>[https://pbs.twimg.com/media/FNGy-yCXwAIkBr9.jpg]</td>\n      <td>RT #shipinpics</td>\n      <td>None</td>\n      <td>None</td>\n      <td>None</td>\n    </tr>\n    <tr>\n      <th>1</th>\n      <td>2022-03-05 13:10:35+00:00</td>\n      <td>Ships In Pictures ⚓️</td>\n      <td>ShipsInPics</td>\n      <td>Sharing the best ship photos 📷 around. Tweets ...</td>\n      <td>Email: shipsinpics@gmail.com</td>\n      <td>RT @Apez140: #Instantes\\nCon los que me identi...</td>\n      <td>es</td>\n      <td>[Instantes, ShipsInPics]</td>\n      <td>[https://pbs.twimg.com/media/FNFhIx7XoAEoKkW.jpg]</td>\n      <td>RT #shipinpics</td>\n      <td>None</td>\n      <td>None</td>\n      <td>None</td>\n    </tr>\n    <tr>\n      <th>2</th>\n      <td>2022-03-04 18:10:45+00:00</td>\n      <td>Ships In Pictures ⚓️</td>\n      <td>ShipsInPics</td>\n      <td>Sharing the best ship photos 📷 around. Tweets ...</td>\n      <td>Email: shipsinpics@gmail.com</td>\n      <td>RT @johnmorgan726: The #RAM15 MMSI:366878290 o...</td>\n      <td>en</td>\n      <td>[RAM15, ShipsInPics]</td>\n      <td>[https://pbs.twimg.com/media/FNBjT7GX0AMkkjb.jpg]</td>\n      <td>RT #shipinpics</td>\n      <td>None</td>\n      <td>None</td>\n      <td>None</td>\n    </tr>\n    <tr>\n      <th>3</th>\n      <td>2022-03-04 18:10:39+00:00</td>\n      <td>Ships In Pictures ⚓️</td>\n      <td>ShipsInPics</td>\n      <td>Sharing the best ship photos 📷 around. Tweets ...</td>\n      <td>Email: shipsinpics@gmail.com</td>\n      <td>RT @AfricaUya: FT PORTORIA at⚓️  #Ship #port #...</td>\n      <td>cs</td>\n      <td>[Ship, port, shipsinpics, maritime, VTS, ships...</td>\n      <td>[https://pbs.twimg.com/media/FNBiq-wXsAc-sp9.jpg]</td>\n      <td>RT #shipinpics</td>\n      <td>None</td>\n      <td>None</td>\n      <td>None</td>\n    </tr>\n    <tr>\n      <th>4</th>\n      <td>2022-03-03 18:10:38+00:00</td>\n      <td>Ships In Pictures ⚓️</td>\n      <td>ShipsInPics</td>\n      <td>Sharing the best ship photos 📷 around. Tweets ...</td>\n      <td>Email: shipsinpics@gmail.com</td>\n      <td>RT @AfricaUya: KARIM ALLAH anchored⚓️  #Ship #...</td>\n      <td>in</td>\n      <td>[Ship, port, shipsinpics, maritime, VTS, ships...</td>\n      <td>[https://pbs.twimg.com/media/FM8Z3YkX0AM4vW4.jpg]</td>\n      <td>RT #shipinpics</td>\n      <td>None</td>\n      <td>None</td>\n      <td>None</td>\n    </tr>\n  </tbody>\n</table>\n</div>"
     },
     "execution_count": 6,
     "metadata": {},
     "output_type": "execute_result"
    }
   ],
   "source": [
    "# Use getUserTweets function (screen_name = 'ShipsInPics', count = 1000)\n",
    "user3 = getUserTweets('ShipsInPics', 1000)\n",
    "\n",
    "# show total number of tweets\n",
    "print(\"Total Tweets fetched:\", len(user3))\n",
    "\n",
    "# show the dataframe\n",
    "user3.head()"
   ],
   "metadata": {
    "collapsed": false,
    "pycharm": {
     "name": "#%%\n"
    }
   }
  },
  {
   "cell_type": "code",
   "execution_count": 41,
   "outputs": [],
   "source": [
    "# export dataframe to csv file\n",
    "user3.to_csv('C:/Users/tivon/projects/twitter_project/data/user_tweets_shipsinpics.csv')"
   ],
   "metadata": {
    "collapsed": false,
    "pycharm": {
     "name": "#%%\n"
    }
   }
  },
  {
   "cell_type": "markdown",
   "source": [
    "## Query Tweets\n",
    "Use getQueryTweets() function to fetch query tweets"
   ],
   "metadata": {
    "collapsed": false,
    "pycharm": {
     "name": "#%% md\n"
    }
   }
  },
  {
   "cell_type": "markdown",
   "source": [
    "### query1\n",
    "search_query = warship"
   ],
   "metadata": {
    "collapsed": false,
    "pycharm": {
     "name": "#%% md\n"
    }
   }
  },
  {
   "cell_type": "code",
   "execution_count": 7,
   "outputs": [
    {
     "name": "stdout",
     "output_type": "stream",
     "text": [
      "Total Tweets fetched: 54\n"
     ]
    },
    {
     "data": {
      "text/plain": "                 created_at                   user_name      screen_name  \\\n0 2022-03-06 22:42:02+00:00                        Orda  TheChaosEngine1   \n1 2022-03-06 22:40:54+00:00          軍艦を偏見とガバガバ知識で語るbot  warship_hengaba   \n2 2022-03-06 22:10:59+00:00          軍艦を偏見とガバガバ知識で語るbot  warship_hengaba   \n3 2022-03-06 21:40:56+00:00          軍艦を偏見とガバガバ知識で語るbot  warship_hengaba   \n4 2022-03-06 21:28:52+00:00  TΞSLA Fanboy Europe 🇺🇦🇪🇺🇨🇿   teslafaneurope   \n\n                                         description           user_location  \\\n0                                                                              \n1  その名の通り軍艦を偏見とガバガバ知識で語るbotです。30分に1回はつぶやきます。  艦これ...                     どこか   \n2  その名の通り軍艦を偏見とガバガバ知識で語るbotです。30分に1回はつぶやきます。  艦これ...                     どこか   \n3  その名の通り軍艦を偏見とガバガバ知識で語るbotです。30分に1回はつぶやきます。  艦これ...                     どこか   \n4  #Tesla fanboy, $TSLA investor and future owner...  Praha, Česká republika   \n\n                                                text language hashtags  \\\n0  @dicolis @AuroraIntel 🚨This just in: Russian w...       en     None   \n1  インコンパラブル/イギリス/巡洋戦艦\\nまたハッシュハッシュクルーザーだ！\\n50.8サンチ...       ja     None   \n2  ジョッフル級航空母艦/フランス/空母\\nベアルンの後継艦・・・なのだがクソデカ艦橋に謎のクレ...       ja     None   \n3  ネルソン型戦艦/イギリス/戦艦\\n艦容が余りにも不細工なためあだ名がタンカーとかあのさぁ・・...       ja     None   \n4  @nolanwpeterson ‘Russian Street’ in Prague, Cz...       en     None   \n\n                                           media_url              source  \\\n0  [https://pbs.twimg.com/media/FNM17Y1aMAI0M74.jpg]     Twitter Web App   \n1  [https://pbs.twimg.com/media/DSVs5lmUMAA_wMF.jpg]        twittbot.net   \n2  [https://pbs.twimg.com/media/DKvKbA_VwAANe8J.jpg]        twittbot.net   \n3  [https://pbs.twimg.com/media/DBadMZBUAAQJ9T0.jpg]        twittbot.net   \n4  [https://pbs.twimg.com/media/FNMlZCEXwAQjV_D.jpg]  Twitter for iPhone   \n\n  coordinates place time_zone  \n0        None  None      None  \n1        None  None      None  \n2        None  None      None  \n3        None  None      None  \n4        None  None      None  ",
      "text/html": "<div>\n<style scoped>\n    .dataframe tbody tr th:only-of-type {\n        vertical-align: middle;\n    }\n\n    .dataframe tbody tr th {\n        vertical-align: top;\n    }\n\n    .dataframe thead th {\n        text-align: right;\n    }\n</style>\n<table border=\"1\" class=\"dataframe\">\n  <thead>\n    <tr style=\"text-align: right;\">\n      <th></th>\n      <th>created_at</th>\n      <th>user_name</th>\n      <th>screen_name</th>\n      <th>description</th>\n      <th>user_location</th>\n      <th>text</th>\n      <th>language</th>\n      <th>hashtags</th>\n      <th>media_url</th>\n      <th>source</th>\n      <th>coordinates</th>\n      <th>place</th>\n      <th>time_zone</th>\n    </tr>\n  </thead>\n  <tbody>\n    <tr>\n      <th>0</th>\n      <td>2022-03-06 22:42:02+00:00</td>\n      <td>Orda</td>\n      <td>TheChaosEngine1</td>\n      <td></td>\n      <td></td>\n      <td>@dicolis @AuroraIntel 🚨This just in: Russian w...</td>\n      <td>en</td>\n      <td>None</td>\n      <td>[https://pbs.twimg.com/media/FNM17Y1aMAI0M74.jpg]</td>\n      <td>Twitter Web App</td>\n      <td>None</td>\n      <td>None</td>\n      <td>None</td>\n    </tr>\n    <tr>\n      <th>1</th>\n      <td>2022-03-06 22:40:54+00:00</td>\n      <td>軍艦を偏見とガバガバ知識で語るbot</td>\n      <td>warship_hengaba</td>\n      <td>その名の通り軍艦を偏見とガバガバ知識で語るbotです。30分に1回はつぶやきます。  艦これ...</td>\n      <td>どこか</td>\n      <td>インコンパラブル/イギリス/巡洋戦艦\\nまたハッシュハッシュクルーザーだ！\\n50.8サンチ...</td>\n      <td>ja</td>\n      <td>None</td>\n      <td>[https://pbs.twimg.com/media/DSVs5lmUMAA_wMF.jpg]</td>\n      <td>twittbot.net</td>\n      <td>None</td>\n      <td>None</td>\n      <td>None</td>\n    </tr>\n    <tr>\n      <th>2</th>\n      <td>2022-03-06 22:10:59+00:00</td>\n      <td>軍艦を偏見とガバガバ知識で語るbot</td>\n      <td>warship_hengaba</td>\n      <td>その名の通り軍艦を偏見とガバガバ知識で語るbotです。30分に1回はつぶやきます。  艦これ...</td>\n      <td>どこか</td>\n      <td>ジョッフル級航空母艦/フランス/空母\\nベアルンの後継艦・・・なのだがクソデカ艦橋に謎のクレ...</td>\n      <td>ja</td>\n      <td>None</td>\n      <td>[https://pbs.twimg.com/media/DKvKbA_VwAANe8J.jpg]</td>\n      <td>twittbot.net</td>\n      <td>None</td>\n      <td>None</td>\n      <td>None</td>\n    </tr>\n    <tr>\n      <th>3</th>\n      <td>2022-03-06 21:40:56+00:00</td>\n      <td>軍艦を偏見とガバガバ知識で語るbot</td>\n      <td>warship_hengaba</td>\n      <td>その名の通り軍艦を偏見とガバガバ知識で語るbotです。30分に1回はつぶやきます。  艦これ...</td>\n      <td>どこか</td>\n      <td>ネルソン型戦艦/イギリス/戦艦\\n艦容が余りにも不細工なためあだ名がタンカーとかあのさぁ・・...</td>\n      <td>ja</td>\n      <td>None</td>\n      <td>[https://pbs.twimg.com/media/DBadMZBUAAQJ9T0.jpg]</td>\n      <td>twittbot.net</td>\n      <td>None</td>\n      <td>None</td>\n      <td>None</td>\n    </tr>\n    <tr>\n      <th>4</th>\n      <td>2022-03-06 21:28:52+00:00</td>\n      <td>TΞSLA Fanboy Europe 🇺🇦🇪🇺🇨🇿</td>\n      <td>teslafaneurope</td>\n      <td>#Tesla fanboy, $TSLA investor and future owner...</td>\n      <td>Praha, Česká republika</td>\n      <td>@nolanwpeterson ‘Russian Street’ in Prague, Cz...</td>\n      <td>en</td>\n      <td>None</td>\n      <td>[https://pbs.twimg.com/media/FNMlZCEXwAQjV_D.jpg]</td>\n      <td>Twitter for iPhone</td>\n      <td>None</td>\n      <td>None</td>\n      <td>None</td>\n    </tr>\n  </tbody>\n</table>\n</div>"
     },
     "execution_count": 7,
     "metadata": {},
     "output_type": "execute_result"
    }
   ],
   "source": [
    "# Use getQueryTweets function (search_query = 'warship', count = 500)\n",
    "query1 = getQueryTweets('warship -filter:retweets', 500) # -filter:retweets excludes RT from query\n",
    "\n",
    "# show total number of tweets fetched\n",
    "print(\"Total Tweets fetched:\", len(query1))\n",
    "\n",
    "# show the dataframe\n",
    "query1.head()"
   ],
   "metadata": {
    "collapsed": false,
    "pycharm": {
     "name": "#%%\n"
    }
   }
  },
  {
   "cell_type": "code",
   "execution_count": 43,
   "outputs": [],
   "source": [
    "# export dataframe to csv file\n",
    "query1.to_csv('C:/Users/tivon/projects/twitter_project/data/query_tweets_warship.csv')"
   ],
   "metadata": {
    "collapsed": false,
    "pycharm": {
     "name": "#%%\n"
    }
   }
  },
  {
   "cell_type": "markdown",
   "source": [
    "### query2\n",
    "search_query = containership"
   ],
   "metadata": {
    "collapsed": false,
    "pycharm": {
     "name": "#%% md\n"
    }
   }
  },
  {
   "cell_type": "code",
   "execution_count": 8,
   "outputs": [
    {
     "name": "stdout",
     "output_type": "stream",
     "text": [
      "Total Tweets fetched: 11\n"
     ]
    },
    {
     "data": {
      "text/plain": "                 created_at                 user_name      screen_name  \\\n0 2022-03-05 16:01:42+00:00               John Morgan    johnmorgan726   \n1 2022-03-03 07:18:29+00:00                    Færder        faerder46   \n2 2022-03-02 08:40:07+00:00                Adis Ajdin        AdisAjdin   \n3 2022-03-02 06:33:04+00:00                    Splash       Splash_247   \n4 2022-03-02 02:58:39+00:00  Jason Mosley Photography  JasonMosleyPho1   \n\n                                         description       user_location  \\\n0  I enjoy HAM radio, fishing, and maritime traff...  Virginia Beach, VA   \n1  Ships, ferries, life.... enjoy listening to th...                 UK    \n2  Chief Correspondent at Splash Maritime and Off...                       \n3  Splash is the site for incisive, exclusive mar...           Singapore   \n4  Maritime industry, landscapes, photography  Av...    Port Angeles WA.   \n\n                                                text language  \\\n0  The BREMEN, IMO:9450387 en route to New York, ...       en   \n1  The JSP Rover @DublinPortCo @BgFreightLine #co...       en   \n2  Containership orderbook closes in on all-time ...       en   \n3  Containership orderbook closes in on all-time ...       en   \n4  Port of Seattle WA.    containership offloatin...       en   \n\n                                            hashtags  \\\n0               [Bremen, ContainerShip, ShipsInPics]   \n1  [containership, dublin, freight, supplychain, ...   \n2                                               None   \n3                                               None   \n4                                               None   \n\n                                           media_url              source  \\\n0  [https://pbs.twimg.com/media/FNGQ69wX0AgbOvZ.jpg]    Twitter for iPad   \n1  [https://pbs.twimg.com/media/FM6F_OEWYAEXq5w.jpg]  Twitter for iPhone   \n2  [https://pbs.twimg.com/media/FM1PFgMVUAcACMz.jpg]             dlvr.it   \n3  [https://pbs.twimg.com/media/FM0yAX_VQAEk8VL.jpg]             dlvr.it   \n4  [https://pbs.twimg.com/media/FM0A7jbXoAgovbu.jpg]      Smart Post App   \n\n  coordinates                                              place time_zone  \n0        None  Place(_api=<tweepy.api.API object at 0x0000024...      None  \n1        None                                               None      None  \n2        None                                               None      None  \n3        None                                               None      None  \n4        None                                               None      None  ",
      "text/html": "<div>\n<style scoped>\n    .dataframe tbody tr th:only-of-type {\n        vertical-align: middle;\n    }\n\n    .dataframe tbody tr th {\n        vertical-align: top;\n    }\n\n    .dataframe thead th {\n        text-align: right;\n    }\n</style>\n<table border=\"1\" class=\"dataframe\">\n  <thead>\n    <tr style=\"text-align: right;\">\n      <th></th>\n      <th>created_at</th>\n      <th>user_name</th>\n      <th>screen_name</th>\n      <th>description</th>\n      <th>user_location</th>\n      <th>text</th>\n      <th>language</th>\n      <th>hashtags</th>\n      <th>media_url</th>\n      <th>source</th>\n      <th>coordinates</th>\n      <th>place</th>\n      <th>time_zone</th>\n    </tr>\n  </thead>\n  <tbody>\n    <tr>\n      <th>0</th>\n      <td>2022-03-05 16:01:42+00:00</td>\n      <td>John Morgan</td>\n      <td>johnmorgan726</td>\n      <td>I enjoy HAM radio, fishing, and maritime traff...</td>\n      <td>Virginia Beach, VA</td>\n      <td>The BREMEN, IMO:9450387 en route to New York, ...</td>\n      <td>en</td>\n      <td>[Bremen, ContainerShip, ShipsInPics]</td>\n      <td>[https://pbs.twimg.com/media/FNGQ69wX0AgbOvZ.jpg]</td>\n      <td>Twitter for iPad</td>\n      <td>None</td>\n      <td>Place(_api=&lt;tweepy.api.API object at 0x0000024...</td>\n      <td>None</td>\n    </tr>\n    <tr>\n      <th>1</th>\n      <td>2022-03-03 07:18:29+00:00</td>\n      <td>Færder</td>\n      <td>faerder46</td>\n      <td>Ships, ferries, life.... enjoy listening to th...</td>\n      <td>UK</td>\n      <td>The JSP Rover @DublinPortCo @BgFreightLine #co...</td>\n      <td>en</td>\n      <td>[containership, dublin, freight, supplychain, ...</td>\n      <td>[https://pbs.twimg.com/media/FM6F_OEWYAEXq5w.jpg]</td>\n      <td>Twitter for iPhone</td>\n      <td>None</td>\n      <td>None</td>\n      <td>None</td>\n    </tr>\n    <tr>\n      <th>2</th>\n      <td>2022-03-02 08:40:07+00:00</td>\n      <td>Adis Ajdin</td>\n      <td>AdisAjdin</td>\n      <td>Chief Correspondent at Splash Maritime and Off...</td>\n      <td></td>\n      <td>Containership orderbook closes in on all-time ...</td>\n      <td>en</td>\n      <td>None</td>\n      <td>[https://pbs.twimg.com/media/FM1PFgMVUAcACMz.jpg]</td>\n      <td>dlvr.it</td>\n      <td>None</td>\n      <td>None</td>\n      <td>None</td>\n    </tr>\n    <tr>\n      <th>3</th>\n      <td>2022-03-02 06:33:04+00:00</td>\n      <td>Splash</td>\n      <td>Splash_247</td>\n      <td>Splash is the site for incisive, exclusive mar...</td>\n      <td>Singapore</td>\n      <td>Containership orderbook closes in on all-time ...</td>\n      <td>en</td>\n      <td>None</td>\n      <td>[https://pbs.twimg.com/media/FM0yAX_VQAEk8VL.jpg]</td>\n      <td>dlvr.it</td>\n      <td>None</td>\n      <td>None</td>\n      <td>None</td>\n    </tr>\n    <tr>\n      <th>4</th>\n      <td>2022-03-02 02:58:39+00:00</td>\n      <td>Jason Mosley Photography</td>\n      <td>JasonMosleyPho1</td>\n      <td>Maritime industry, landscapes, photography  Av...</td>\n      <td>Port Angeles WA.</td>\n      <td>Port of Seattle WA.    containership offloatin...</td>\n      <td>en</td>\n      <td>None</td>\n      <td>[https://pbs.twimg.com/media/FM0A7jbXoAgovbu.jpg]</td>\n      <td>Smart Post App</td>\n      <td>None</td>\n      <td>None</td>\n      <td>None</td>\n    </tr>\n  </tbody>\n</table>\n</div>"
     },
     "execution_count": 8,
     "metadata": {},
     "output_type": "execute_result"
    }
   ],
   "source": [
    "# Use getQueryTweets function (search_query = 'containership', count = 500)\n",
    "query2 = getQueryTweets('containership -filter:retweets', 500) # -filter:retweets excludes RT from query\n",
    "\n",
    "# show total number of tweets fetched\n",
    "print(\"Total Tweets fetched:\", len(query2))\n",
    "\n",
    "# show the dataframe\n",
    "query2.head()"
   ],
   "metadata": {
    "collapsed": false,
    "pycharm": {
     "name": "#%%\n"
    }
   }
  },
  {
   "cell_type": "code",
   "execution_count": 45,
   "outputs": [],
   "source": [
    "# export dataframe to csv file\n",
    "query2.to_csv('C:/Users/tivon/projects/twitter_project/data/query_tweets_containership.csv')"
   ],
   "metadata": {
    "collapsed": false,
    "pycharm": {
     "name": "#%%\n"
    }
   }
  },
  {
   "cell_type": "markdown",
   "source": [
    "### query3\n",
    "search_query = navylookout"
   ],
   "metadata": {
    "collapsed": false,
    "pycharm": {
     "name": "#%% md\n"
    }
   }
  },
  {
   "cell_type": "code",
   "execution_count": 9,
   "outputs": [
    {
     "name": "stdout",
     "output_type": "stream",
     "text": [
      "Total Tweets fetched: 17\n"
     ]
    },
    {
     "data": {
      "text/plain": "                 created_at              user_name      screen_name  \\\n0 2022-03-06 18:57:18+00:00  Shipsoftherivermersey  Shipsoftherive1   \n1 2022-03-06 18:54:04+00:00           AndyinBrum 🌻       AndyinBrum   \n2 2022-03-06 15:59:46+00:00                    G M       GM60410314   \n3 2022-03-06 15:31:35+00:00          Elton John 🇵🇱       EltonDzone   \n4 2022-03-06 15:09:07+00:00           Navy Lookout      NavyLookout   \n\n                                         description        user_location  \\\n0  Bringing you what I can when I can from ships ...  Birkenhead, England   \n1  Warning may contain gratuitous use of swearwor...                        \n2                                                                           \n3                                                                           \n4           Independent Royal Navy news and analysis                   UK   \n\n                                                text language hashtags  \\\n0  @hms_argyll leaving Liverpool today @NavyLooko...       en     None   \n1  @NavyLookout @UKDefJournal @hmssevern @SheilaL...       en     None   \n2               @NavyLookout https://t.co/ccCVBpVMjH      und     None   \n3  @danbrusca @hackingbutlegal @NavyLookout Are y...       en     None   \n4  Stunning view of @hmssevern outbound on the Fi...       en     None   \n\n                                           media_url              source  \\\n0  [https://pbs.twimg.com/media/FNMCsvhWQAMUrIE.jpg]    Twitter for iPad   \n1  [https://pbs.twimg.com/tweet_video_thumb/FNMB9...  Twitter for iPhone   \n2  [https://pbs.twimg.com/media/FNLaEbGXoAMQcBA.jpg]  Twitter for iPhone   \n3  [https://pbs.twimg.com/media/FNLTmuKXsAg5R_m.jpg]     Twitter Web App   \n4  [https://pbs.twimg.com/media/FNLObCbXoAQtW0P.jpg]           TweetDeck   \n\n  coordinates place time_zone  \n0        None  None      None  \n1        None  None      None  \n2        None  None      None  \n3        None  None      None  \n4        None  None      None  ",
      "text/html": "<div>\n<style scoped>\n    .dataframe tbody tr th:only-of-type {\n        vertical-align: middle;\n    }\n\n    .dataframe tbody tr th {\n        vertical-align: top;\n    }\n\n    .dataframe thead th {\n        text-align: right;\n    }\n</style>\n<table border=\"1\" class=\"dataframe\">\n  <thead>\n    <tr style=\"text-align: right;\">\n      <th></th>\n      <th>created_at</th>\n      <th>user_name</th>\n      <th>screen_name</th>\n      <th>description</th>\n      <th>user_location</th>\n      <th>text</th>\n      <th>language</th>\n      <th>hashtags</th>\n      <th>media_url</th>\n      <th>source</th>\n      <th>coordinates</th>\n      <th>place</th>\n      <th>time_zone</th>\n    </tr>\n  </thead>\n  <tbody>\n    <tr>\n      <th>0</th>\n      <td>2022-03-06 18:57:18+00:00</td>\n      <td>Shipsoftherivermersey</td>\n      <td>Shipsoftherive1</td>\n      <td>Bringing you what I can when I can from ships ...</td>\n      <td>Birkenhead, England</td>\n      <td>@hms_argyll leaving Liverpool today @NavyLooko...</td>\n      <td>en</td>\n      <td>None</td>\n      <td>[https://pbs.twimg.com/media/FNMCsvhWQAMUrIE.jpg]</td>\n      <td>Twitter for iPad</td>\n      <td>None</td>\n      <td>None</td>\n      <td>None</td>\n    </tr>\n    <tr>\n      <th>1</th>\n      <td>2022-03-06 18:54:04+00:00</td>\n      <td>AndyinBrum 🌻</td>\n      <td>AndyinBrum</td>\n      <td>Warning may contain gratuitous use of swearwor...</td>\n      <td></td>\n      <td>@NavyLookout @UKDefJournal @hmssevern @SheilaL...</td>\n      <td>en</td>\n      <td>None</td>\n      <td>[https://pbs.twimg.com/tweet_video_thumb/FNMB9...</td>\n      <td>Twitter for iPhone</td>\n      <td>None</td>\n      <td>None</td>\n      <td>None</td>\n    </tr>\n    <tr>\n      <th>2</th>\n      <td>2022-03-06 15:59:46+00:00</td>\n      <td>G M</td>\n      <td>GM60410314</td>\n      <td></td>\n      <td></td>\n      <td>@NavyLookout https://t.co/ccCVBpVMjH</td>\n      <td>und</td>\n      <td>None</td>\n      <td>[https://pbs.twimg.com/media/FNLaEbGXoAMQcBA.jpg]</td>\n      <td>Twitter for iPhone</td>\n      <td>None</td>\n      <td>None</td>\n      <td>None</td>\n    </tr>\n    <tr>\n      <th>3</th>\n      <td>2022-03-06 15:31:35+00:00</td>\n      <td>Elton John 🇵🇱</td>\n      <td>EltonDzone</td>\n      <td></td>\n      <td></td>\n      <td>@danbrusca @hackingbutlegal @NavyLookout Are y...</td>\n      <td>en</td>\n      <td>None</td>\n      <td>[https://pbs.twimg.com/media/FNLTmuKXsAg5R_m.jpg]</td>\n      <td>Twitter Web App</td>\n      <td>None</td>\n      <td>None</td>\n      <td>None</td>\n    </tr>\n    <tr>\n      <th>4</th>\n      <td>2022-03-06 15:09:07+00:00</td>\n      <td>Navy Lookout</td>\n      <td>NavyLookout</td>\n      <td>Independent Royal Navy news and analysis</td>\n      <td>UK</td>\n      <td>Stunning view of @hmssevern outbound on the Fi...</td>\n      <td>en</td>\n      <td>None</td>\n      <td>[https://pbs.twimg.com/media/FNLObCbXoAQtW0P.jpg]</td>\n      <td>TweetDeck</td>\n      <td>None</td>\n      <td>None</td>\n      <td>None</td>\n    </tr>\n  </tbody>\n</table>\n</div>"
     },
     "execution_count": 9,
     "metadata": {},
     "output_type": "execute_result"
    }
   ],
   "source": [
    "# Use getQueryTweets function (search_query = 'navylookout', count = 500)\n",
    "query3 = getQueryTweets('navylookout -filter:retweets', 500) # -filter:retweets excludes RT from query\n",
    "\n",
    "# show total number of tweets fetched\n",
    "print(\"Total Tweets fetched:\", len(query3))\n",
    "\n",
    "# show the dataframe\n",
    "query3.head()"
   ],
   "metadata": {
    "collapsed": false,
    "pycharm": {
     "name": "#%%\n"
    }
   }
  },
  {
   "cell_type": "code",
   "execution_count": 47,
   "outputs": [],
   "source": [
    "# export dataframe to csv file\n",
    "query3.to_csv('C:/Users/tivon/projects/twitter_project/data/query_tweets_navylookout.csv')"
   ],
   "metadata": {
    "collapsed": false,
    "pycharm": {
     "name": "#%%\n"
    }
   }
  }
 ],
 "metadata": {
  "kernelspec": {
   "display_name": "Python 3",
   "language": "python",
   "name": "python3"
  },
  "language_info": {
   "codemirror_mode": {
    "name": "ipython",
    "version": 2
   },
   "file_extension": ".py",
   "mimetype": "text/x-python",
   "name": "python",
   "nbconvert_exporter": "python",
   "pygments_lexer": "ipython2",
   "version": "2.7.6"
  }
 },
 "nbformat": 4,
 "nbformat_minor": 0
}