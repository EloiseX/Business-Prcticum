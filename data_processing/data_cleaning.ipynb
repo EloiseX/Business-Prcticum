{
 "cells": [
  {
   "cell_type": "code",
   "execution_count": 16,
   "metadata": {
    "collapsed": true
   },
   "outputs": [
    {
     "data": {
      "text/plain": "   Unnamed: 0                 created_at     user_name    screen_name  \\\n0           0  2022-03-07 20:02:03+00:00  TheEazyCadet      EazyCadet   \n1           1  2022-03-07 10:23:06+00:00  TheEazyCadet      EazyCadet   \n2           2  2022-03-05 16:01:42+00:00   John Morgan  johnmorgan726   \n3           3  2022-03-03 07:18:29+00:00        Færder      faerder46   \n4           4  2022-03-02 08:40:07+00:00    Adis Ajdin      AdisAjdin   \n\n                                         description            user_location  \\\n0  'The Eazy Cadet' is an online resource centre ...  England, United Kingdom   \n1  'The Eazy Cadet' is an online resource centre ...  England, United Kingdom   \n2  I enjoy HAM radio, fishing, and maritime traff...       Virginia Beach, VA   \n3  Ships, ferries, life.... enjoy listening to th...                      UK    \n4  Chief Correspondent at Splash Maritime and Off...                      NaN   \n\n                                                text language  \\\n0  Incident Video: Dinghy Operator Nearly Run Ove...       en   \n1  LNG-fueled containership MSC Washington wraps ...       en   \n2  The BREMEN, IMO:9450387 en route to New York, ...       en   \n3  The JSP Rover @DublinPortCo @BgFreightLine #co...       en   \n4  Containership orderbook closes in on all-time ...       en   \n\n                                            hashtags  \\\n0                                                NaN   \n1                                                NaN   \n2         ['Bremen', 'ContainerShip', 'ShipsInPics']   \n3  ['containership', 'dublin', 'freight', 'supply...   \n4                                                NaN   \n\n                                           media_url              source  \\\n0  ['https://pbs.twimg.com/media/FNRbHhPVgAM0u_-....             dlvr.it   \n1  ['https://pbs.twimg.com/media/FNPWmoyUYAElRjN....             dlvr.it   \n2  ['https://pbs.twimg.com/media/FNGQ69wX0AgbOvZ....    Twitter for iPad   \n3  ['https://pbs.twimg.com/media/FM6F_OEWYAEXq5w....  Twitter for iPhone   \n4  ['https://pbs.twimg.com/media/FM1PFgMVUAcACMz....             dlvr.it   \n\n   coordinates                                              place  time_zone  \n0          NaN                                                NaN        NaN  \n1          NaN                                                NaN        NaN  \n2          NaN  Place(_api=<tweepy.api.API object at 0x000002C...        NaN  \n3          NaN                                                NaN        NaN  \n4          NaN                                                NaN        NaN  ",
      "text/html": "<div>\n<style scoped>\n    .dataframe tbody tr th:only-of-type {\n        vertical-align: middle;\n    }\n\n    .dataframe tbody tr th {\n        vertical-align: top;\n    }\n\n    .dataframe thead th {\n        text-align: right;\n    }\n</style>\n<table border=\"1\" class=\"dataframe\">\n  <thead>\n    <tr style=\"text-align: right;\">\n      <th></th>\n      <th>Unnamed: 0</th>\n      <th>created_at</th>\n      <th>user_name</th>\n      <th>screen_name</th>\n      <th>description</th>\n      <th>user_location</th>\n      <th>text</th>\n      <th>language</th>\n      <th>hashtags</th>\n      <th>media_url</th>\n      <th>source</th>\n      <th>coordinates</th>\n      <th>place</th>\n      <th>time_zone</th>\n    </tr>\n  </thead>\n  <tbody>\n    <tr>\n      <th>0</th>\n      <td>0</td>\n      <td>2022-03-07 20:02:03+00:00</td>\n      <td>TheEazyCadet</td>\n      <td>EazyCadet</td>\n      <td>'The Eazy Cadet' is an online resource centre ...</td>\n      <td>England, United Kingdom</td>\n      <td>Incident Video: Dinghy Operator Nearly Run Ove...</td>\n      <td>en</td>\n      <td>NaN</td>\n      <td>['https://pbs.twimg.com/media/FNRbHhPVgAM0u_-....</td>\n      <td>dlvr.it</td>\n      <td>NaN</td>\n      <td>NaN</td>\n      <td>NaN</td>\n    </tr>\n    <tr>\n      <th>1</th>\n      <td>1</td>\n      <td>2022-03-07 10:23:06+00:00</td>\n      <td>TheEazyCadet</td>\n      <td>EazyCadet</td>\n      <td>'The Eazy Cadet' is an online resource centre ...</td>\n      <td>England, United Kingdom</td>\n      <td>LNG-fueled containership MSC Washington wraps ...</td>\n      <td>en</td>\n      <td>NaN</td>\n      <td>['https://pbs.twimg.com/media/FNPWmoyUYAElRjN....</td>\n      <td>dlvr.it</td>\n      <td>NaN</td>\n      <td>NaN</td>\n      <td>NaN</td>\n    </tr>\n    <tr>\n      <th>2</th>\n      <td>2</td>\n      <td>2022-03-05 16:01:42+00:00</td>\n      <td>John Morgan</td>\n      <td>johnmorgan726</td>\n      <td>I enjoy HAM radio, fishing, and maritime traff...</td>\n      <td>Virginia Beach, VA</td>\n      <td>The BREMEN, IMO:9450387 en route to New York, ...</td>\n      <td>en</td>\n      <td>['Bremen', 'ContainerShip', 'ShipsInPics']</td>\n      <td>['https://pbs.twimg.com/media/FNGQ69wX0AgbOvZ....</td>\n      <td>Twitter for iPad</td>\n      <td>NaN</td>\n      <td>Place(_api=&lt;tweepy.api.API object at 0x000002C...</td>\n      <td>NaN</td>\n    </tr>\n    <tr>\n      <th>3</th>\n      <td>3</td>\n      <td>2022-03-03 07:18:29+00:00</td>\n      <td>Færder</td>\n      <td>faerder46</td>\n      <td>Ships, ferries, life.... enjoy listening to th...</td>\n      <td>UK</td>\n      <td>The JSP Rover @DublinPortCo @BgFreightLine #co...</td>\n      <td>en</td>\n      <td>['containership', 'dublin', 'freight', 'supply...</td>\n      <td>['https://pbs.twimg.com/media/FM6F_OEWYAEXq5w....</td>\n      <td>Twitter for iPhone</td>\n      <td>NaN</td>\n      <td>NaN</td>\n      <td>NaN</td>\n    </tr>\n    <tr>\n      <th>4</th>\n      <td>4</td>\n      <td>2022-03-02 08:40:07+00:00</td>\n      <td>Adis Ajdin</td>\n      <td>AdisAjdin</td>\n      <td>Chief Correspondent at Splash Maritime and Off...</td>\n      <td>NaN</td>\n      <td>Containership orderbook closes in on all-time ...</td>\n      <td>en</td>\n      <td>NaN</td>\n      <td>['https://pbs.twimg.com/media/FM1PFgMVUAcACMz....</td>\n      <td>dlvr.it</td>\n      <td>NaN</td>\n      <td>NaN</td>\n      <td>NaN</td>\n    </tr>\n  </tbody>\n</table>\n</div>"
     },
     "execution_count": 16,
     "metadata": {},
     "output_type": "execute_result"
    }
   ],
   "source": [
    "import os, glob\n",
    "import pandas as pd\n",
    "\n",
    "path = \"C:/Users/tivon/projects/twitter_project/data/\"\n",
    "\n",
    "all_files = glob.glob(os.path.join(path, \"*.csv\"))\n",
    "all_tweets = (pd.read_csv(f, sep=',') for f in all_files)\n",
    "\n",
    "merged_tweets = pd.concat(all_tweets, ignore_index=True)\n",
    "merged_tweets.head()"
   ]
  },
  {
   "cell_type": "code",
   "execution_count": 17,
   "outputs": [
    {
     "data": {
      "text/plain": "                  created_at     user_name    screen_name  \\\n0  2022-03-07 20:02:03+00:00  TheEazyCadet      EazyCadet   \n1  2022-03-07 10:23:06+00:00  TheEazyCadet      EazyCadet   \n2  2022-03-05 16:01:42+00:00   John Morgan  johnmorgan726   \n3  2022-03-03 07:18:29+00:00        Færder      faerder46   \n4  2022-03-02 08:40:07+00:00    Adis Ajdin      AdisAjdin   \n\n                                         description            user_location  \\\n0  'The Eazy Cadet' is an online resource centre ...  England, United Kingdom   \n1  'The Eazy Cadet' is an online resource centre ...  England, United Kingdom   \n2  I enjoy HAM radio, fishing, and maritime traff...       Virginia Beach, VA   \n3  Ships, ferries, life.... enjoy listening to th...                      UK    \n4  Chief Correspondent at Splash Maritime and Off...                      NaN   \n\n                                                text language  \\\n0  Incident Video: Dinghy Operator Nearly Run Ove...       en   \n1  LNG-fueled containership MSC Washington wraps ...       en   \n2  The BREMEN, IMO:9450387 en route to New York, ...       en   \n3  The JSP Rover @DublinPortCo @BgFreightLine #co...       en   \n4  Containership orderbook closes in on all-time ...       en   \n\n                                            hashtags  \\\n0                                                NaN   \n1                                                NaN   \n2         ['Bremen', 'ContainerShip', 'ShipsInPics']   \n3  ['containership', 'dublin', 'freight', 'supply...   \n4                                                NaN   \n\n                                           media_url              source  \n0  ['https://pbs.twimg.com/media/FNRbHhPVgAM0u_-....             dlvr.it  \n1  ['https://pbs.twimg.com/media/FNPWmoyUYAElRjN....             dlvr.it  \n2  ['https://pbs.twimg.com/media/FNGQ69wX0AgbOvZ....    Twitter for iPad  \n3  ['https://pbs.twimg.com/media/FM6F_OEWYAEXq5w....  Twitter for iPhone  \n4  ['https://pbs.twimg.com/media/FM1PFgMVUAcACMz....             dlvr.it  ",
      "text/html": "<div>\n<style scoped>\n    .dataframe tbody tr th:only-of-type {\n        vertical-align: middle;\n    }\n\n    .dataframe tbody tr th {\n        vertical-align: top;\n    }\n\n    .dataframe thead th {\n        text-align: right;\n    }\n</style>\n<table border=\"1\" class=\"dataframe\">\n  <thead>\n    <tr style=\"text-align: right;\">\n      <th></th>\n      <th>created_at</th>\n      <th>user_name</th>\n      <th>screen_name</th>\n      <th>description</th>\n      <th>user_location</th>\n      <th>text</th>\n      <th>language</th>\n      <th>hashtags</th>\n      <th>media_url</th>\n      <th>source</th>\n    </tr>\n  </thead>\n  <tbody>\n    <tr>\n      <th>0</th>\n      <td>2022-03-07 20:02:03+00:00</td>\n      <td>TheEazyCadet</td>\n      <td>EazyCadet</td>\n      <td>'The Eazy Cadet' is an online resource centre ...</td>\n      <td>England, United Kingdom</td>\n      <td>Incident Video: Dinghy Operator Nearly Run Ove...</td>\n      <td>en</td>\n      <td>NaN</td>\n      <td>['https://pbs.twimg.com/media/FNRbHhPVgAM0u_-....</td>\n      <td>dlvr.it</td>\n    </tr>\n    <tr>\n      <th>1</th>\n      <td>2022-03-07 10:23:06+00:00</td>\n      <td>TheEazyCadet</td>\n      <td>EazyCadet</td>\n      <td>'The Eazy Cadet' is an online resource centre ...</td>\n      <td>England, United Kingdom</td>\n      <td>LNG-fueled containership MSC Washington wraps ...</td>\n      <td>en</td>\n      <td>NaN</td>\n      <td>['https://pbs.twimg.com/media/FNPWmoyUYAElRjN....</td>\n      <td>dlvr.it</td>\n    </tr>\n    <tr>\n      <th>2</th>\n      <td>2022-03-05 16:01:42+00:00</td>\n      <td>John Morgan</td>\n      <td>johnmorgan726</td>\n      <td>I enjoy HAM radio, fishing, and maritime traff...</td>\n      <td>Virginia Beach, VA</td>\n      <td>The BREMEN, IMO:9450387 en route to New York, ...</td>\n      <td>en</td>\n      <td>['Bremen', 'ContainerShip', 'ShipsInPics']</td>\n      <td>['https://pbs.twimg.com/media/FNGQ69wX0AgbOvZ....</td>\n      <td>Twitter for iPad</td>\n    </tr>\n    <tr>\n      <th>3</th>\n      <td>2022-03-03 07:18:29+00:00</td>\n      <td>Færder</td>\n      <td>faerder46</td>\n      <td>Ships, ferries, life.... enjoy listening to th...</td>\n      <td>UK</td>\n      <td>The JSP Rover @DublinPortCo @BgFreightLine #co...</td>\n      <td>en</td>\n      <td>['containership', 'dublin', 'freight', 'supply...</td>\n      <td>['https://pbs.twimg.com/media/FM6F_OEWYAEXq5w....</td>\n      <td>Twitter for iPhone</td>\n    </tr>\n    <tr>\n      <th>4</th>\n      <td>2022-03-02 08:40:07+00:00</td>\n      <td>Adis Ajdin</td>\n      <td>AdisAjdin</td>\n      <td>Chief Correspondent at Splash Maritime and Off...</td>\n      <td>NaN</td>\n      <td>Containership orderbook closes in on all-time ...</td>\n      <td>en</td>\n      <td>NaN</td>\n      <td>['https://pbs.twimg.com/media/FM1PFgMVUAcACMz....</td>\n      <td>dlvr.it</td>\n    </tr>\n  </tbody>\n</table>\n</div>"
     },
     "execution_count": 17,
     "metadata": {},
     "output_type": "execute_result"
    }
   ],
   "source": [
    "# Drop irrelevant columns from the dataframe\n",
    "merged_tweets_copy = merged_tweets.copy(deep=True)\n",
    "merged_tweets_copy.drop(['Unnamed: 0', 'coordinates', 'place', 'time_zone'], axis = 1, inplace = True)\n",
    "merged_tweets_copy.head()"
   ],
   "metadata": {
    "collapsed": false,
    "pycharm": {
     "name": "#%%\n"
    }
   }
  },
  {
   "cell_type": "code",
   "execution_count": 18,
   "outputs": [
    {
     "data": {
      "text/plain": "                  created_at     user_name    screen_name  \\\n0  2022-03-07 20:02:03+00:00  TheEazyCadet      EazyCadet   \n1  2022-03-07 10:23:06+00:00  TheEazyCadet      EazyCadet   \n2  2022-03-05 16:01:42+00:00   John Morgan  johnmorgan726   \n3  2022-03-03 07:18:29+00:00        Færder      faerder46   \n4  2022-03-02 08:40:07+00:00    Adis Ajdin      AdisAjdin   \n\n                                         description            user_location  \\\n0  'The Eazy Cadet' is an online resource centre ...  England, United Kingdom   \n1  'The Eazy Cadet' is an online resource centre ...  England, United Kingdom   \n2  I enjoy HAM radio, fishing, and maritime traff...       Virginia Beach, VA   \n3  Ships, ferries, life.... enjoy listening to th...                      UK    \n4  Chief Correspondent at Splash Maritime and Off...                      NaN   \n\n                                                text language  \\\n0  Incident Video: Dinghy Operator Nearly Run Ove...       en   \n1  LNG-fueled containership MSC Washington wraps ...       en   \n2  The BREMEN, IMO:9450387 en route to New York, ...       en   \n3  The JSP Rover @DublinPortCo @BgFreightLine #co...       en   \n4  Containership orderbook closes in on all-time ...       en   \n\n                                            hashtags  \\\n0                                                NaN   \n1                                                NaN   \n2         ['Bremen', 'ContainerShip', 'ShipsInPics']   \n3  ['containership', 'dublin', 'freight', 'supply...   \n4                                                NaN   \n\n                                         media_url              source  \n0  https://pbs.twimg.com/media/FNRbHhPVgAM0u_-.png             dlvr.it  \n1  https://pbs.twimg.com/media/FNPWmoyUYAElRjN.jpg             dlvr.it  \n2  https://pbs.twimg.com/media/FNGQ69wX0AgbOvZ.jpg    Twitter for iPad  \n3  https://pbs.twimg.com/media/FM6F_OEWYAEXq5w.jpg  Twitter for iPhone  \n4  https://pbs.twimg.com/media/FM1PFgMVUAcACMz.jpg             dlvr.it  ",
      "text/html": "<div>\n<style scoped>\n    .dataframe tbody tr th:only-of-type {\n        vertical-align: middle;\n    }\n\n    .dataframe tbody tr th {\n        vertical-align: top;\n    }\n\n    .dataframe thead th {\n        text-align: right;\n    }\n</style>\n<table border=\"1\" class=\"dataframe\">\n  <thead>\n    <tr style=\"text-align: right;\">\n      <th></th>\n      <th>created_at</th>\n      <th>user_name</th>\n      <th>screen_name</th>\n      <th>description</th>\n      <th>user_location</th>\n      <th>text</th>\n      <th>language</th>\n      <th>hashtags</th>\n      <th>media_url</th>\n      <th>source</th>\n    </tr>\n  </thead>\n  <tbody>\n    <tr>\n      <th>0</th>\n      <td>2022-03-07 20:02:03+00:00</td>\n      <td>TheEazyCadet</td>\n      <td>EazyCadet</td>\n      <td>'The Eazy Cadet' is an online resource centre ...</td>\n      <td>England, United Kingdom</td>\n      <td>Incident Video: Dinghy Operator Nearly Run Ove...</td>\n      <td>en</td>\n      <td>NaN</td>\n      <td>https://pbs.twimg.com/media/FNRbHhPVgAM0u_-.png</td>\n      <td>dlvr.it</td>\n    </tr>\n    <tr>\n      <th>1</th>\n      <td>2022-03-07 10:23:06+00:00</td>\n      <td>TheEazyCadet</td>\n      <td>EazyCadet</td>\n      <td>'The Eazy Cadet' is an online resource centre ...</td>\n      <td>England, United Kingdom</td>\n      <td>LNG-fueled containership MSC Washington wraps ...</td>\n      <td>en</td>\n      <td>NaN</td>\n      <td>https://pbs.twimg.com/media/FNPWmoyUYAElRjN.jpg</td>\n      <td>dlvr.it</td>\n    </tr>\n    <tr>\n      <th>2</th>\n      <td>2022-03-05 16:01:42+00:00</td>\n      <td>John Morgan</td>\n      <td>johnmorgan726</td>\n      <td>I enjoy HAM radio, fishing, and maritime traff...</td>\n      <td>Virginia Beach, VA</td>\n      <td>The BREMEN, IMO:9450387 en route to New York, ...</td>\n      <td>en</td>\n      <td>['Bremen', 'ContainerShip', 'ShipsInPics']</td>\n      <td>https://pbs.twimg.com/media/FNGQ69wX0AgbOvZ.jpg</td>\n      <td>Twitter for iPad</td>\n    </tr>\n    <tr>\n      <th>3</th>\n      <td>2022-03-03 07:18:29+00:00</td>\n      <td>Færder</td>\n      <td>faerder46</td>\n      <td>Ships, ferries, life.... enjoy listening to th...</td>\n      <td>UK</td>\n      <td>The JSP Rover @DublinPortCo @BgFreightLine #co...</td>\n      <td>en</td>\n      <td>['containership', 'dublin', 'freight', 'supply...</td>\n      <td>https://pbs.twimg.com/media/FM6F_OEWYAEXq5w.jpg</td>\n      <td>Twitter for iPhone</td>\n    </tr>\n    <tr>\n      <th>4</th>\n      <td>2022-03-02 08:40:07+00:00</td>\n      <td>Adis Ajdin</td>\n      <td>AdisAjdin</td>\n      <td>Chief Correspondent at Splash Maritime and Off...</td>\n      <td>NaN</td>\n      <td>Containership orderbook closes in on all-time ...</td>\n      <td>en</td>\n      <td>NaN</td>\n      <td>https://pbs.twimg.com/media/FM1PFgMVUAcACMz.jpg</td>\n      <td>dlvr.it</td>\n    </tr>\n  </tbody>\n</table>\n</div>"
     },
     "execution_count": 18,
     "metadata": {},
     "output_type": "execute_result"
    }
   ],
   "source": [
    "# Drop special characters from media_url column\n",
    "merged_tweets_copy['media_url'] = merged_tweets_copy['media_url'].str.strip('[]').str.replace(\"'\",\"\")\n",
    "merged_tweets_copy.head()"
   ],
   "metadata": {
    "collapsed": false,
    "pycharm": {
     "name": "#%%\n"
    }
   }
  },
  {
   "cell_type": "code",
   "execution_count": 24,
   "outputs": [
    {
     "data": {
      "text/plain": "      user_name    screen_name  \\\n0  TheEazyCadet      EazyCadet   \n1  TheEazyCadet      EazyCadet   \n2   John Morgan  johnmorgan726   \n3        Færder      faerder46   \n4    Adis Ajdin      AdisAjdin   \n\n                                         description            user_location  \\\n0  'The Eazy Cadet' is an online resource centre ...  England, United Kingdom   \n1  'The Eazy Cadet' is an online resource centre ...  England, United Kingdom   \n2  I enjoy HAM radio, fishing, and maritime traff...       Virginia Beach, VA   \n3  Ships, ferries, life.... enjoy listening to th...                      UK    \n4  Chief Correspondent at Splash Maritime and Off...                      NaN   \n\n                                                text language  \\\n0  Incident Video: Dinghy Operator Nearly Run Ove...       en   \n1  LNG-fueled containership MSC Washington wraps ...       en   \n2  The BREMEN, IMO:9450387 en route to New York, ...       en   \n3  The JSP Rover @DublinPortCo @BgFreightLine #co...       en   \n4  Containership orderbook closes in on all-time ...       en   \n\n                                            hashtags  \\\n0                                                NaN   \n1                                                NaN   \n2         ['Bremen', 'ContainerShip', 'ShipsInPics']   \n3  ['containership', 'dublin', 'freight', 'supply...   \n4                                                NaN   \n\n                                         media_url              source  \\\n0  https://pbs.twimg.com/media/FNRbHhPVgAM0u_-.png             dlvr.it   \n1  https://pbs.twimg.com/media/FNPWmoyUYAElRjN.jpg             dlvr.it   \n2  https://pbs.twimg.com/media/FNGQ69wX0AgbOvZ.jpg    Twitter for iPad   \n3  https://pbs.twimg.com/media/FM6F_OEWYAEXq5w.jpg  Twitter for iPhone   \n4  https://pbs.twimg.com/media/FM1PFgMVUAcACMz.jpg             dlvr.it   \n\n         date      time  \n0  2022-03-07  20:02:03  \n1  2022-03-07  10:23:06  \n2  2022-03-05  16:01:42  \n3  2022-03-03  07:18:29  \n4  2022-03-02  08:40:07  ",
      "text/html": "<div>\n<style scoped>\n    .dataframe tbody tr th:only-of-type {\n        vertical-align: middle;\n    }\n\n    .dataframe tbody tr th {\n        vertical-align: top;\n    }\n\n    .dataframe thead th {\n        text-align: right;\n    }\n</style>\n<table border=\"1\" class=\"dataframe\">\n  <thead>\n    <tr style=\"text-align: right;\">\n      <th></th>\n      <th>user_name</th>\n      <th>screen_name</th>\n      <th>description</th>\n      <th>user_location</th>\n      <th>text</th>\n      <th>language</th>\n      <th>hashtags</th>\n      <th>media_url</th>\n      <th>source</th>\n      <th>date</th>\n      <th>time</th>\n    </tr>\n  </thead>\n  <tbody>\n    <tr>\n      <th>0</th>\n      <td>TheEazyCadet</td>\n      <td>EazyCadet</td>\n      <td>'The Eazy Cadet' is an online resource centre ...</td>\n      <td>England, United Kingdom</td>\n      <td>Incident Video: Dinghy Operator Nearly Run Ove...</td>\n      <td>en</td>\n      <td>NaN</td>\n      <td>https://pbs.twimg.com/media/FNRbHhPVgAM0u_-.png</td>\n      <td>dlvr.it</td>\n      <td>2022-03-07</td>\n      <td>20:02:03</td>\n    </tr>\n    <tr>\n      <th>1</th>\n      <td>TheEazyCadet</td>\n      <td>EazyCadet</td>\n      <td>'The Eazy Cadet' is an online resource centre ...</td>\n      <td>England, United Kingdom</td>\n      <td>LNG-fueled containership MSC Washington wraps ...</td>\n      <td>en</td>\n      <td>NaN</td>\n      <td>https://pbs.twimg.com/media/FNPWmoyUYAElRjN.jpg</td>\n      <td>dlvr.it</td>\n      <td>2022-03-07</td>\n      <td>10:23:06</td>\n    </tr>\n    <tr>\n      <th>2</th>\n      <td>John Morgan</td>\n      <td>johnmorgan726</td>\n      <td>I enjoy HAM radio, fishing, and maritime traff...</td>\n      <td>Virginia Beach, VA</td>\n      <td>The BREMEN, IMO:9450387 en route to New York, ...</td>\n      <td>en</td>\n      <td>['Bremen', 'ContainerShip', 'ShipsInPics']</td>\n      <td>https://pbs.twimg.com/media/FNGQ69wX0AgbOvZ.jpg</td>\n      <td>Twitter for iPad</td>\n      <td>2022-03-05</td>\n      <td>16:01:42</td>\n    </tr>\n    <tr>\n      <th>3</th>\n      <td>Færder</td>\n      <td>faerder46</td>\n      <td>Ships, ferries, life.... enjoy listening to th...</td>\n      <td>UK</td>\n      <td>The JSP Rover @DublinPortCo @BgFreightLine #co...</td>\n      <td>en</td>\n      <td>['containership', 'dublin', 'freight', 'supply...</td>\n      <td>https://pbs.twimg.com/media/FM6F_OEWYAEXq5w.jpg</td>\n      <td>Twitter for iPhone</td>\n      <td>2022-03-03</td>\n      <td>07:18:29</td>\n    </tr>\n    <tr>\n      <th>4</th>\n      <td>Adis Ajdin</td>\n      <td>AdisAjdin</td>\n      <td>Chief Correspondent at Splash Maritime and Off...</td>\n      <td>NaN</td>\n      <td>Containership orderbook closes in on all-time ...</td>\n      <td>en</td>\n      <td>NaN</td>\n      <td>https://pbs.twimg.com/media/FM1PFgMVUAcACMz.jpg</td>\n      <td>dlvr.it</td>\n      <td>2022-03-02</td>\n      <td>08:40:07</td>\n    </tr>\n  </tbody>\n</table>\n</div>"
     },
     "execution_count": 24,
     "metadata": {},
     "output_type": "execute_result"
    }
   ],
   "source": [
    "# split date and time\n",
    "merged_tweets_copy['date'] = pd.to_datetime(merged_tweets_copy['created_at']).dt.date\n",
    "merged_tweets_copy['time'] = pd.to_datetime(merged_tweets_copy['created_at']).dt.time\n",
    "merged_tweets_copy.drop(['created_at'], axis = 1, inplace = True)\n",
    "merged_tweets_copy.head()"
   ],
   "metadata": {
    "collapsed": false,
    "pycharm": {
     "name": "#%%\n"
    }
   }
  },
  {
   "cell_type": "code",
   "execution_count": null,
   "outputs": [],
   "source": [],
   "metadata": {
    "collapsed": false,
    "pycharm": {
     "name": "#%%\n"
    }
   }
  },
  {
   "cell_type": "code",
   "execution_count": null,
   "outputs": [],
   "source": [],
   "metadata": {
    "collapsed": false,
    "pycharm": {
     "name": "#%%\n"
    }
   }
  },
  {
   "cell_type": "code",
   "execution_count": 29,
   "outputs": [],
   "source": [
    "#merged_tweets.to_csv('C:/Users/tivon/projects/twitter_project/data/merged_tweets.csv')"
   ],
   "metadata": {
    "collapsed": false,
    "pycharm": {
     "name": "#%%\n"
    }
   }
  },
  {
   "cell_type": "code",
   "execution_count": null,
   "outputs": [],
   "source": [],
   "metadata": {
    "collapsed": false,
    "pycharm": {
     "name": "#%%\n"
    }
   }
  }
 ],
 "metadata": {
  "kernelspec": {
   "display_name": "Python 3",
   "language": "python",
   "name": "python3"
  },
  "language_info": {
   "codemirror_mode": {
    "name": "ipython",
    "version": 2
   },
   "file_extension": ".py",
   "mimetype": "text/x-python",
   "name": "python",
   "nbconvert_exporter": "python",
   "pygments_lexer": "ipython2",
   "version": "2.7.6"
  }
 },
 "nbformat": 4,
 "nbformat_minor": 0
}