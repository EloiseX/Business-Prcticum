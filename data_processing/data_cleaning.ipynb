{
 "cells": [
  {
   "cell_type": "code",
   "execution_count": 1,
   "metadata": {
    "collapsed": true
   },
   "outputs": [
    {
     "data": {
      "text/plain": "   Unnamed: 0                 created_at                 user_name  \\\n0           0  2022-03-03 07:18:29+00:00                    Færder   \n1           1  2022-03-02 08:40:07+00:00                Adis Ajdin   \n2           2  2022-03-02 06:33:04+00:00                    Splash   \n3           3  2022-03-02 02:58:39+00:00  Jason Mosley Photography   \n4           4  2022-03-01 21:45:06+00:00              TheEazyCadet   \n\n       screen_name                                        description  \\\n0        faerder46  Ships, ferries, life.... enjoy listening to th...   \n1        AdisAjdin  Chief Correspondent at Splash Maritime and Off...   \n2       Splash_247  Splash is the site for incisive, exclusive mar...   \n3  JasonMosleyPho1  Maritime industry, landscapes, photography  Av...   \n4        EazyCadet  'The Eazy Cadet' is an online resource centre ...   \n\n             user_location                                               text  \\\n0                      UK   The JSP Rover @DublinPortCo @BgFreightLine #co...   \n1                      NaN  Containership orderbook closes in on all-time ...   \n2                Singapore  Containership orderbook closes in on all-time ...   \n3         Port Angeles WA.  Port of Seattle WA.    containership offloatin...   \n4  England, United Kingdom  Industry Leaders Get AiP from BV for Container...   \n\n  language                                           hashtags  \\\n0       en  ['containership', 'dublin', 'freight', 'supply...   \n1       en                                                NaN   \n2       en                                                NaN   \n3       en                                                NaN   \n4       en                                                NaN   \n\n                                           media_url              source  \\\n0  ['https://pbs.twimg.com/media/FM6F_OEWYAEXq5w....  Twitter for iPhone   \n1  ['https://pbs.twimg.com/media/FM1PFgMVUAcACMz....             dlvr.it   \n2  ['https://pbs.twimg.com/media/FM0yAX_VQAEk8VL....             dlvr.it   \n3  ['https://pbs.twimg.com/media/FM0A7jbXoAgovbu....      Smart Post App   \n4  ['https://pbs.twimg.com/media/FMy5KW3UcAU9LyZ....             dlvr.it   \n\n   coordinates place  time_zone  \n0          NaN   NaN        NaN  \n1          NaN   NaN        NaN  \n2          NaN   NaN        NaN  \n3          NaN   NaN        NaN  \n4          NaN   NaN        NaN  ",
      "text/html": "<div>\n<style scoped>\n    .dataframe tbody tr th:only-of-type {\n        vertical-align: middle;\n    }\n\n    .dataframe tbody tr th {\n        vertical-align: top;\n    }\n\n    .dataframe thead th {\n        text-align: right;\n    }\n</style>\n<table border=\"1\" class=\"dataframe\">\n  <thead>\n    <tr style=\"text-align: right;\">\n      <th></th>\n      <th>Unnamed: 0</th>\n      <th>created_at</th>\n      <th>user_name</th>\n      <th>screen_name</th>\n      <th>description</th>\n      <th>user_location</th>\n      <th>text</th>\n      <th>language</th>\n      <th>hashtags</th>\n      <th>media_url</th>\n      <th>source</th>\n      <th>coordinates</th>\n      <th>place</th>\n      <th>time_zone</th>\n    </tr>\n  </thead>\n  <tbody>\n    <tr>\n      <th>0</th>\n      <td>0</td>\n      <td>2022-03-03 07:18:29+00:00</td>\n      <td>Færder</td>\n      <td>faerder46</td>\n      <td>Ships, ferries, life.... enjoy listening to th...</td>\n      <td>UK</td>\n      <td>The JSP Rover @DublinPortCo @BgFreightLine #co...</td>\n      <td>en</td>\n      <td>['containership', 'dublin', 'freight', 'supply...</td>\n      <td>['https://pbs.twimg.com/media/FM6F_OEWYAEXq5w....</td>\n      <td>Twitter for iPhone</td>\n      <td>NaN</td>\n      <td>NaN</td>\n      <td>NaN</td>\n    </tr>\n    <tr>\n      <th>1</th>\n      <td>1</td>\n      <td>2022-03-02 08:40:07+00:00</td>\n      <td>Adis Ajdin</td>\n      <td>AdisAjdin</td>\n      <td>Chief Correspondent at Splash Maritime and Off...</td>\n      <td>NaN</td>\n      <td>Containership orderbook closes in on all-time ...</td>\n      <td>en</td>\n      <td>NaN</td>\n      <td>['https://pbs.twimg.com/media/FM1PFgMVUAcACMz....</td>\n      <td>dlvr.it</td>\n      <td>NaN</td>\n      <td>NaN</td>\n      <td>NaN</td>\n    </tr>\n    <tr>\n      <th>2</th>\n      <td>2</td>\n      <td>2022-03-02 06:33:04+00:00</td>\n      <td>Splash</td>\n      <td>Splash_247</td>\n      <td>Splash is the site for incisive, exclusive mar...</td>\n      <td>Singapore</td>\n      <td>Containership orderbook closes in on all-time ...</td>\n      <td>en</td>\n      <td>NaN</td>\n      <td>['https://pbs.twimg.com/media/FM0yAX_VQAEk8VL....</td>\n      <td>dlvr.it</td>\n      <td>NaN</td>\n      <td>NaN</td>\n      <td>NaN</td>\n    </tr>\n    <tr>\n      <th>3</th>\n      <td>3</td>\n      <td>2022-03-02 02:58:39+00:00</td>\n      <td>Jason Mosley Photography</td>\n      <td>JasonMosleyPho1</td>\n      <td>Maritime industry, landscapes, photography  Av...</td>\n      <td>Port Angeles WA.</td>\n      <td>Port of Seattle WA.    containership offloatin...</td>\n      <td>en</td>\n      <td>NaN</td>\n      <td>['https://pbs.twimg.com/media/FM0A7jbXoAgovbu....</td>\n      <td>Smart Post App</td>\n      <td>NaN</td>\n      <td>NaN</td>\n      <td>NaN</td>\n    </tr>\n    <tr>\n      <th>4</th>\n      <td>4</td>\n      <td>2022-03-01 21:45:06+00:00</td>\n      <td>TheEazyCadet</td>\n      <td>EazyCadet</td>\n      <td>'The Eazy Cadet' is an online resource centre ...</td>\n      <td>England, United Kingdom</td>\n      <td>Industry Leaders Get AiP from BV for Container...</td>\n      <td>en</td>\n      <td>NaN</td>\n      <td>['https://pbs.twimg.com/media/FMy5KW3UcAU9LyZ....</td>\n      <td>dlvr.it</td>\n      <td>NaN</td>\n      <td>NaN</td>\n      <td>NaN</td>\n    </tr>\n  </tbody>\n</table>\n</div>"
     },
     "execution_count": 1,
     "metadata": {},
     "output_type": "execute_result"
    }
   ],
   "source": [
    "import os, glob\n",
    "import pandas as pd\n",
    "\n",
    "path = \"C:/Users/tivon/projects/twitter_project/data/\"\n",
    "\n",
    "all_files = glob.glob(os.path.join(path, \"*.csv\"))\n",
    "all_tweets = (pd.read_csv(f, sep=',') for f in all_files)\n",
    "\n",
    "merged_tweets = pd.concat(all_tweets, ignore_index=True)\n",
    "merged_tweets.head()"
   ]
  },
  {
   "cell_type": "code",
   "execution_count": 29,
   "outputs": [],
   "source": [
    "#merged_tweets.to_csv('C:/Users/tivon/projects/twitter_project/data/merged_tweets.csv')"
   ],
   "metadata": {
    "collapsed": false,
    "pycharm": {
     "name": "#%%\n"
    }
   }
  },
  {
   "cell_type": "code",
   "execution_count": null,
   "outputs": [],
   "source": [],
   "metadata": {
    "collapsed": false,
    "pycharm": {
     "name": "#%%\n"
    }
   }
  }
 ],
 "metadata": {
  "kernelspec": {
   "display_name": "Python 3",
   "language": "python",
   "name": "python3"
  },
  "language_info": {
   "codemirror_mode": {
    "name": "ipython",
    "version": 2
   },
   "file_extension": ".py",
   "mimetype": "text/x-python",
   "name": "python",
   "nbconvert_exporter": "python",
   "pygments_lexer": "ipython2",
   "version": "2.7.6"
  }
 },
 "nbformat": 4,
 "nbformat_minor": 0
}