{
 "cells": [
  {
   "cell_type": "markdown",
   "source": [
    "# I. Twitter Image Scraping"
   ],
   "metadata": {
    "collapsed": false,
    "pycharm": {
     "name": "#%% md\n"
    }
   }
  },
  {
   "cell_type": "markdown",
   "source": [
    "## Initialize API."
   ],
   "metadata": {
    "collapsed": false,
    "pycharm": {
     "name": "#%% md\n"
    }
   }
  },
  {
   "cell_type": "code",
   "execution_count": 1,
   "metadata": {
    "collapsed": true
   },
   "outputs": [],
   "source": [
    "import config\n",
    "import tweepy\n",
    "import pandas as pd\n",
    "\n",
    "api_key = ''\n",
    "api_key_secret = ''\n",
    "\n",
    "access_token = ''\n",
    "access_secret_token = ''\n",
    "\n",
    "auth = tweepy.OAuthHandler(config.api_key, config.api_key_secret)\n",
    "auth.set_access_token(config.access_token, config.access_secret_token)\n",
    "\n",
    "api = tweepy.API(auth, wait_on_rate_limit=True)"
   ]
  },
  {
   "cell_type": "markdown",
   "source": [
    "## Define function to fetch user tweets with appropriate parameters."
   ],
   "metadata": {
    "collapsed": false,
    "pycharm": {
     "name": "#%% md\n"
    }
   }
  },
  {
   "cell_type": "code",
   "execution_count": 2,
   "outputs": [],
   "source": [
    "def getUserTweets(screen_name, count):\n",
    "\n",
    "\n",
    "    # get tweets from the API\n",
    "    tweets = tweepy.Cursor(api.user_timeline, screen_name=screen_name).items(count)\n",
    "\n",
    "    # store the API responses in a list\n",
    "    tweets_copy = []\n",
    "    for tweet in tweets:\n",
    "        if 'media' in tweet.entities: # and 'RT @' not in tweet.text:\n",
    "            tweets_copy.append(tweet)\n",
    "\n",
    "    # initialize the dataframe\n",
    "    tweets_df = pd.DataFrame()\n",
    "    # populate the dataframe\n",
    "    for tweet in tweets_copy:\n",
    "        hashtags = []\n",
    "        media_url = []\n",
    "        try:\n",
    "            for hashtag in tweet.entities[\"hashtags\"]:\n",
    "                hashtags.append(hashtag[\"text\"])\n",
    "            for media in tweet.entities['media']:\n",
    "                media_url.append(media[\"media_url_https\"])\n",
    "        except:\n",
    "            pass\n",
    "        tweets_df = pd.concat([tweets_df, pd.DataFrame({'created_at': tweet.created_at,\n",
    "                                                        'user_name': tweet.user.name,\n",
    "                                                        'screen_name': tweet.user.screen_name,\n",
    "                                                        'description': tweet.user.description,\n",
    "                                                        'user_location': tweet.user.location,\n",
    "                                                        'text': tweet.text,\n",
    "                                                        'language': tweet.lang,\n",
    "                                                        'hashtags': [hashtags if hashtags else None],\n",
    "                                                        'media_url': [media_url if media_url else None],\n",
    "                                                        'source': tweet.source,\n",
    "                                                        'coordinates': tweet.coordinates,\n",
    "                                                        'place': tweet.place,\n",
    "                                                        'time_zone': tweet.user.time_zone,\n",
    "                                                        })])\n",
    "        tweets_df = tweets_df.reset_index(drop=True)\n",
    "\n",
    "    return tweets_df"
   ],
   "metadata": {
    "collapsed": false,
    "pycharm": {
     "name": "#%%\n"
    }
   }
  },
  {
   "cell_type": "markdown",
   "source": [
    "## Define function to fetch query tweets with appropriate parameters."
   ],
   "metadata": {
    "collapsed": false,
    "pycharm": {
     "name": "#%% md\n"
    }
   }
  },
  {
   "cell_type": "code",
   "execution_count": 3,
   "outputs": [],
   "source": [
    "def getQueryTweets(search_query, count):\n",
    "\n",
    "    # get tweets from the API\n",
    "    tweets = tweepy.Cursor(api.search_tweets, q=search_query).items(count)\n",
    "\n",
    "    # store the API responses in a list\n",
    "    tweets_copy = []\n",
    "    for tweet in tweets:\n",
    "        if 'media' in tweet.entities:\n",
    "            tweets_copy.append(tweet)\n",
    "\n",
    "    # initialize the dataframe\n",
    "    tweets_df = pd.DataFrame()\n",
    "    # populate the dataframe\n",
    "    for tweet in tweets_copy:\n",
    "        hashtags = []\n",
    "        media_url = []\n",
    "        try:\n",
    "            for hashtag in tweet.entities[\"hashtags\"]:\n",
    "                hashtags.append(hashtag[\"text\"])\n",
    "            for media in tweet.entities['media']:\n",
    "                media_url.append(media[\"media_url_https\"])\n",
    "        except:\n",
    "            pass\n",
    "        tweets_df = pd.concat([tweets_df, pd.DataFrame({'created_at': tweet.created_at,\n",
    "                                                        'user_name': tweet.user.name,\n",
    "                                                        'screen_name': tweet.user.screen_name,\n",
    "                                                        'description': tweet.user.description,\n",
    "                                                        'user_location': tweet.user.location,\n",
    "                                                        'text': tweet.text,\n",
    "                                                        'language': tweet.lang,\n",
    "                                                        'hashtags': [hashtags if hashtags else None],\n",
    "                                                        'media_url':[media_url if media_url else None],\n",
    "                                                        'source': tweet.source,\n",
    "                                                        'coordinates': tweet.coordinates,\n",
    "                                                        'place': tweet.place,\n",
    "                                                        'time_zone': tweet.user.time_zone,\n",
    "                                                        })])\n",
    "        tweets_df = tweets_df.reset_index(drop=True)\n",
    "\n",
    "    return tweets_df"
   ],
   "metadata": {
    "collapsed": false,
    "pycharm": {
     "name": "#%%\n"
    }
   }
  },
  {
   "cell_type": "markdown",
   "source": [
    "## User Tweets\n",
    "Use getUserTweets() function to fetch user tweets"
   ],
   "metadata": {
    "collapsed": false,
    "pycharm": {
     "name": "#%% md\n"
    }
   }
  },
  {
   "cell_type": "markdown",
   "source": [
    "### user1\n",
    "screen_name = @PilotHarbour"
   ],
   "metadata": {
    "collapsed": false,
    "pycharm": {
     "name": "#%% md\n"
    }
   }
  },
  {
   "cell_type": "code",
   "execution_count": 4,
   "outputs": [
    {
     "name": "stdout",
     "output_type": "stream",
     "text": [
      "Total Tweets fetched: 785\n"
     ]
    },
    {
     "data": {
      "text/plain": "                 created_at      user_name   screen_name  \\\n0 2022-03-07 18:12:41+00:00  Harbour Pilot  PilotHarbour   \n1 2022-03-07 18:01:22+00:00  Harbour Pilot  PilotHarbour   \n2 2022-03-07 17:43:53+00:00  Harbour Pilot  PilotHarbour   \n3 2022-03-07 03:39:46+00:00  Harbour Pilot  PilotHarbour   \n4 2022-03-06 19:10:12+00:00  Harbour Pilot  PilotHarbour   \n\n                            description    user_location  \\\n0  Ports and pilots maritime photograpy  Valencia, Spain   \n1  Ports and pilots maritime photograpy  Valencia, Spain   \n2  Ports and pilots maritime photograpy  Valencia, Spain   \n3  Ports and pilots maritime photograpy  Valencia, Spain   \n4  Ports and pilots maritime photograpy  Valencia, Spain   \n\n                                                text language hashtags  \\\n0  Greentec inbound Odessa port. \\nhttps://t.co/F...       en     None   \n1  Odessa port.\\nhttps://t.co/b5GmYYocZC https://...       pt     None   \n2  Alexandria berthed Odessa port. \\nhttps://t.co...       fi     None   \n3                @cyberzan02 https://t.co/G39cIZgG9k      und     None   \n4  Occitan Pauillac inbound Valencia port. \\nhttp...       en     None   \n\n                                           media_url           source  \\\n0  [https://pbs.twimg.com/media/FNRCFELWYAAZGB9.jpg]  Twitter Web App   \n1  [https://pbs.twimg.com/media/FNQ_fRIXMAAqJz_.jpg]  Twitter Web App   \n2  [https://pbs.twimg.com/media/FNQ7e7NXoAAUH-c.jpg]  Twitter Web App   \n3  [https://pbs.twimg.com/media/FNN6RroX0AQw5L7.jpg]  Twitter Web App   \n4  [https://pbs.twimg.com/media/FNMFpsbX0AkNCx9.jpg]  Twitter Web App   \n\n  coordinates place time_zone  \n0        None  None      None  \n1        None  None      None  \n2        None  None      None  \n3        None  None      None  \n4        None  None      None  ",
      "text/html": "<div>\n<style scoped>\n    .dataframe tbody tr th:only-of-type {\n        vertical-align: middle;\n    }\n\n    .dataframe tbody tr th {\n        vertical-align: top;\n    }\n\n    .dataframe thead th {\n        text-align: right;\n    }\n</style>\n<table border=\"1\" class=\"dataframe\">\n  <thead>\n    <tr style=\"text-align: right;\">\n      <th></th>\n      <th>created_at</th>\n      <th>user_name</th>\n      <th>screen_name</th>\n      <th>description</th>\n      <th>user_location</th>\n      <th>text</th>\n      <th>language</th>\n      <th>hashtags</th>\n      <th>media_url</th>\n      <th>source</th>\n      <th>coordinates</th>\n      <th>place</th>\n      <th>time_zone</th>\n    </tr>\n  </thead>\n  <tbody>\n    <tr>\n      <th>0</th>\n      <td>2022-03-07 18:12:41+00:00</td>\n      <td>Harbour Pilot</td>\n      <td>PilotHarbour</td>\n      <td>Ports and pilots maritime photograpy</td>\n      <td>Valencia, Spain</td>\n      <td>Greentec inbound Odessa port. \\nhttps://t.co/F...</td>\n      <td>en</td>\n      <td>None</td>\n      <td>[https://pbs.twimg.com/media/FNRCFELWYAAZGB9.jpg]</td>\n      <td>Twitter Web App</td>\n      <td>None</td>\n      <td>None</td>\n      <td>None</td>\n    </tr>\n    <tr>\n      <th>1</th>\n      <td>2022-03-07 18:01:22+00:00</td>\n      <td>Harbour Pilot</td>\n      <td>PilotHarbour</td>\n      <td>Ports and pilots maritime photograpy</td>\n      <td>Valencia, Spain</td>\n      <td>Odessa port.\\nhttps://t.co/b5GmYYocZC https://...</td>\n      <td>pt</td>\n      <td>None</td>\n      <td>[https://pbs.twimg.com/media/FNQ_fRIXMAAqJz_.jpg]</td>\n      <td>Twitter Web App</td>\n      <td>None</td>\n      <td>None</td>\n      <td>None</td>\n    </tr>\n    <tr>\n      <th>2</th>\n      <td>2022-03-07 17:43:53+00:00</td>\n      <td>Harbour Pilot</td>\n      <td>PilotHarbour</td>\n      <td>Ports and pilots maritime photograpy</td>\n      <td>Valencia, Spain</td>\n      <td>Alexandria berthed Odessa port. \\nhttps://t.co...</td>\n      <td>fi</td>\n      <td>None</td>\n      <td>[https://pbs.twimg.com/media/FNQ7e7NXoAAUH-c.jpg]</td>\n      <td>Twitter Web App</td>\n      <td>None</td>\n      <td>None</td>\n      <td>None</td>\n    </tr>\n    <tr>\n      <th>3</th>\n      <td>2022-03-07 03:39:46+00:00</td>\n      <td>Harbour Pilot</td>\n      <td>PilotHarbour</td>\n      <td>Ports and pilots maritime photograpy</td>\n      <td>Valencia, Spain</td>\n      <td>@cyberzan02 https://t.co/G39cIZgG9k</td>\n      <td>und</td>\n      <td>None</td>\n      <td>[https://pbs.twimg.com/media/FNN6RroX0AQw5L7.jpg]</td>\n      <td>Twitter Web App</td>\n      <td>None</td>\n      <td>None</td>\n      <td>None</td>\n    </tr>\n    <tr>\n      <th>4</th>\n      <td>2022-03-06 19:10:12+00:00</td>\n      <td>Harbour Pilot</td>\n      <td>PilotHarbour</td>\n      <td>Ports and pilots maritime photograpy</td>\n      <td>Valencia, Spain</td>\n      <td>Occitan Pauillac inbound Valencia port. \\nhttp...</td>\n      <td>en</td>\n      <td>None</td>\n      <td>[https://pbs.twimg.com/media/FNMFpsbX0AkNCx9.jpg]</td>\n      <td>Twitter Web App</td>\n      <td>None</td>\n      <td>None</td>\n      <td>None</td>\n    </tr>\n  </tbody>\n</table>\n</div>"
     },
     "execution_count": 4,
     "metadata": {},
     "output_type": "execute_result"
    }
   ],
   "source": [
    "# Use getUserTweets function (screen_name = 'PilotHarbour', count = 1000)\n",
    "user1 = getUserTweets('PilotHarbour', 1000)\n",
    "\n",
    "# show total number of tweets\n",
    "print(\"Total Tweets fetched:\", len(user1))\n",
    "\n",
    "# show the dataframe\n",
    "user1.head()"
   ],
   "metadata": {
    "collapsed": false,
    "pycharm": {
     "name": "#%%\n"
    }
   }
  },
  {
   "cell_type": "code",
   "execution_count": 9,
   "outputs": [],
   "source": [
    "# export dataframe to csv file\n",
    "user1.to_csv('C:/Users/tivon/projects/twitter_project/data/user_tweets_pilotharbour.csv')"
   ],
   "metadata": {
    "collapsed": false,
    "pycharm": {
     "name": "#%%\n"
    }
   }
  },
  {
   "cell_type": "markdown",
   "source": [
    "### user2\n",
    "screen_name = @ShippingMag"
   ],
   "metadata": {
    "collapsed": false,
    "pycharm": {
     "name": "#%% md\n"
    }
   }
  },
  {
   "cell_type": "code",
   "execution_count": 5,
   "outputs": [
    {
     "name": "stdout",
     "output_type": "stream",
     "text": [
      "Total Tweets fetched: 203\n"
     ]
    },
    {
     "data": {
      "text/plain": "                 created_at     user_name  screen_name  \\\n0 2022-03-07 05:39:57+00:00  Shipping Mag  ShippingMag   \n1 2022-03-06 20:33:14+00:00  Shipping Mag  ShippingMag   \n2 2022-03-06 06:11:37+00:00  Shipping Mag  ShippingMag   \n3 2022-03-05 13:33:01+00:00  Shipping Mag  ShippingMag   \n4 2022-03-03 05:40:50+00:00  Shipping Mag  ShippingMag   \n\n                                         description   user_location  \\\n0  Shipping Today & Yesterday - the monthly magaz...  United Kingdom   \n1  Shipping Today & Yesterday - the monthly magaz...  United Kingdom   \n2  Shipping Today & Yesterday - the monthly magaz...  United Kingdom   \n3  Shipping Today & Yesterday - the monthly magaz...  United Kingdom   \n4  Shipping Today & Yesterday - the monthly magaz...  United Kingdom   \n\n                                                text language  \\\n0  RT @PNWstevedore: Terminal 18\\nWide Bravo   In...       en   \n1  RT @capt_haitham: #Repost\\n\\nThere goes a #Pil...       en   \n2  RT @GaloMonge: Trabajando en equipo @boludacm ...       es   \n3  RT @donships1: No.1632 New Camellia 2004 19,96...       en   \n4  RT @JuanGMata: Ferry \"Bahama Mama\" saliendo de...       es   \n\n          hashtags                                          media_url  \\\n0             None  [https://pbs.twimg.com/ext_tw_video_thumb/1500...   \n1  [Repost, Pilot]  [https://pbs.twimg.com/ext_tw_video_thumb/1500...   \n2             None  [https://pbs.twimg.com/media/FNHBO7tXIAcX-9u.jpg]   \n3             None  [https://pbs.twimg.com/media/FNEnbzyXMAUosR4.jpg]   \n4             None  [https://pbs.twimg.com/media/FM4CiZiWQAMtiUO.jpg]   \n\n                source coordinates place time_zone  \n0  Twitter for Android        None  None      None  \n1  Twitter for Android        None  None      None  \n2  Twitter for Android        None  None      None  \n3  Twitter for Android        None  None      None  \n4  Twitter for Android        None  None      None  ",
      "text/html": "<div>\n<style scoped>\n    .dataframe tbody tr th:only-of-type {\n        vertical-align: middle;\n    }\n\n    .dataframe tbody tr th {\n        vertical-align: top;\n    }\n\n    .dataframe thead th {\n        text-align: right;\n    }\n</style>\n<table border=\"1\" class=\"dataframe\">\n  <thead>\n    <tr style=\"text-align: right;\">\n      <th></th>\n      <th>created_at</th>\n      <th>user_name</th>\n      <th>screen_name</th>\n      <th>description</th>\n      <th>user_location</th>\n      <th>text</th>\n      <th>language</th>\n      <th>hashtags</th>\n      <th>media_url</th>\n      <th>source</th>\n      <th>coordinates</th>\n      <th>place</th>\n      <th>time_zone</th>\n    </tr>\n  </thead>\n  <tbody>\n    <tr>\n      <th>0</th>\n      <td>2022-03-07 05:39:57+00:00</td>\n      <td>Shipping Mag</td>\n      <td>ShippingMag</td>\n      <td>Shipping Today &amp; Yesterday - the monthly magaz...</td>\n      <td>United Kingdom</td>\n      <td>RT @PNWstevedore: Terminal 18\\nWide Bravo   In...</td>\n      <td>en</td>\n      <td>None</td>\n      <td>[https://pbs.twimg.com/ext_tw_video_thumb/1500...</td>\n      <td>Twitter for Android</td>\n      <td>None</td>\n      <td>None</td>\n      <td>None</td>\n    </tr>\n    <tr>\n      <th>1</th>\n      <td>2022-03-06 20:33:14+00:00</td>\n      <td>Shipping Mag</td>\n      <td>ShippingMag</td>\n      <td>Shipping Today &amp; Yesterday - the monthly magaz...</td>\n      <td>United Kingdom</td>\n      <td>RT @capt_haitham: #Repost\\n\\nThere goes a #Pil...</td>\n      <td>en</td>\n      <td>[Repost, Pilot]</td>\n      <td>[https://pbs.twimg.com/ext_tw_video_thumb/1500...</td>\n      <td>Twitter for Android</td>\n      <td>None</td>\n      <td>None</td>\n      <td>None</td>\n    </tr>\n    <tr>\n      <th>2</th>\n      <td>2022-03-06 06:11:37+00:00</td>\n      <td>Shipping Mag</td>\n      <td>ShippingMag</td>\n      <td>Shipping Today &amp; Yesterday - the monthly magaz...</td>\n      <td>United Kingdom</td>\n      <td>RT @GaloMonge: Trabajando en equipo @boludacm ...</td>\n      <td>es</td>\n      <td>None</td>\n      <td>[https://pbs.twimg.com/media/FNHBO7tXIAcX-9u.jpg]</td>\n      <td>Twitter for Android</td>\n      <td>None</td>\n      <td>None</td>\n      <td>None</td>\n    </tr>\n    <tr>\n      <th>3</th>\n      <td>2022-03-05 13:33:01+00:00</td>\n      <td>Shipping Mag</td>\n      <td>ShippingMag</td>\n      <td>Shipping Today &amp; Yesterday - the monthly magaz...</td>\n      <td>United Kingdom</td>\n      <td>RT @donships1: No.1632 New Camellia 2004 19,96...</td>\n      <td>en</td>\n      <td>None</td>\n      <td>[https://pbs.twimg.com/media/FNEnbzyXMAUosR4.jpg]</td>\n      <td>Twitter for Android</td>\n      <td>None</td>\n      <td>None</td>\n      <td>None</td>\n    </tr>\n    <tr>\n      <th>4</th>\n      <td>2022-03-03 05:40:50+00:00</td>\n      <td>Shipping Mag</td>\n      <td>ShippingMag</td>\n      <td>Shipping Today &amp; Yesterday - the monthly magaz...</td>\n      <td>United Kingdom</td>\n      <td>RT @JuanGMata: Ferry \"Bahama Mama\" saliendo de...</td>\n      <td>es</td>\n      <td>None</td>\n      <td>[https://pbs.twimg.com/media/FM4CiZiWQAMtiUO.jpg]</td>\n      <td>Twitter for Android</td>\n      <td>None</td>\n      <td>None</td>\n      <td>None</td>\n    </tr>\n  </tbody>\n</table>\n</div>"
     },
     "execution_count": 5,
     "metadata": {},
     "output_type": "execute_result"
    }
   ],
   "source": [
    "# Use getUserTweets function (screen_name = 'ShippingMag', count = 1000)\n",
    "user2 = getUserTweets('ShippingMag', 1000)\n",
    "\n",
    "# show total number of tweets\n",
    "print(\"Total Tweets fetched:\", len(user2))\n",
    "\n",
    "# show the dataframe\n",
    "user2.head()"
   ],
   "metadata": {
    "collapsed": false,
    "pycharm": {
     "name": "#%%\n"
    }
   }
  },
  {
   "cell_type": "code",
   "execution_count": 6,
   "outputs": [],
   "source": [
    "# export dataframe to csv file\n",
    "user2.to_csv('C:/Users/tivon/projects/twitter_project/data/user_tweets_shippingmag.csv')"
   ],
   "metadata": {
    "collapsed": false,
    "pycharm": {
     "name": "#%%\n"
    }
   }
  },
  {
   "cell_type": "markdown",
   "source": [
    "### user3\n",
    "screen_name = @ShipsInPics"
   ],
   "metadata": {
    "collapsed": false,
    "pycharm": {
     "name": "#%% md\n"
    }
   }
  },
  {
   "cell_type": "code",
   "execution_count": 7,
   "outputs": [
    {
     "name": "stdout",
     "output_type": "stream",
     "text": [
      "Total Tweets fetched: 113\n"
     ]
    },
    {
     "data": {
      "text/plain": "                 created_at             user_name  screen_name  \\\n0 2022-03-07 11:10:35+00:00  Ships In Pictures ⚓️  ShipsInPics   \n1 2022-03-07 00:10:35+00:00  Ships In Pictures ⚓️  ShipsInPics   \n2 2022-03-05 19:10:35+00:00  Ships In Pictures ⚓️  ShipsInPics   \n3 2022-03-05 13:10:35+00:00  Ships In Pictures ⚓️  ShipsInPics   \n4 2022-03-04 18:10:45+00:00  Ships In Pictures ⚓️  ShipsInPics   \n\n                                         description  \\\n0  Sharing the best ship photos 📷 around. Tweets ...   \n1  Sharing the best ship photos 📷 around. Tweets ...   \n2  Sharing the best ship photos 📷 around. Tweets ...   \n3  Sharing the best ship photos 📷 around. Tweets ...   \n4  Sharing the best ship photos 📷 around. Tweets ...   \n\n                  user_location  \\\n0  Email: shipsinpics@gmail.com   \n1  Email: shipsinpics@gmail.com   \n2  Email: shipsinpics@gmail.com   \n3  Email: shipsinpics@gmail.com   \n4  Email: shipsinpics@gmail.com   \n\n                                                text language  \\\n0  RT @PilociMorscy: 🇦🇬BBC SAPPHIRE\\n🐳14356 t\\n📏1...       en   \n1  RT @peterlenderink: Dream - IMO 9322578 Callsi...       en   \n2  RT @AfricaUya: FREESIA at⚓️  #Ship #port #ship...       in   \n3  RT @Apez140: #Instantes\\nCon los que me identi...       es   \n4  RT @johnmorgan726: The #RAM15 MMSI:366878290 o...       en   \n\n                                            hashtags  \\\n0           [okiempilota, zżyciapilota, shipsinpics]   \n1                            [shipsinpics, ijmuiden]   \n2  [Ship, port, shipsinpics, maritime, VTS, ships...   \n3                           [Instantes, ShipsInPics]   \n4                               [RAM15, ShipsInPics]   \n\n                                           media_url          source  \\\n0  [https://pbs.twimg.com/media/FNPcRAmWYAUCZII.jpg]  RT #shipinpics   \n1  [https://pbs.twimg.com/media/FNNBLv8X0Agqe6Q.jpg]  RT #shipinpics   \n2  [https://pbs.twimg.com/media/FNGy-yCXwAIkBr9.jpg]  RT #shipinpics   \n3  [https://pbs.twimg.com/media/FNFhIx7XoAEoKkW.jpg]  RT #shipinpics   \n4  [https://pbs.twimg.com/media/FNBjT7GX0AMkkjb.jpg]  RT #shipinpics   \n\n  coordinates place time_zone  \n0        None  None      None  \n1        None  None      None  \n2        None  None      None  \n3        None  None      None  \n4        None  None      None  ",
      "text/html": "<div>\n<style scoped>\n    .dataframe tbody tr th:only-of-type {\n        vertical-align: middle;\n    }\n\n    .dataframe tbody tr th {\n        vertical-align: top;\n    }\n\n    .dataframe thead th {\n        text-align: right;\n    }\n</style>\n<table border=\"1\" class=\"dataframe\">\n  <thead>\n    <tr style=\"text-align: right;\">\n      <th></th>\n      <th>created_at</th>\n      <th>user_name</th>\n      <th>screen_name</th>\n      <th>description</th>\n      <th>user_location</th>\n      <th>text</th>\n      <th>language</th>\n      <th>hashtags</th>\n      <th>media_url</th>\n      <th>source</th>\n      <th>coordinates</th>\n      <th>place</th>\n      <th>time_zone</th>\n    </tr>\n  </thead>\n  <tbody>\n    <tr>\n      <th>0</th>\n      <td>2022-03-07 11:10:35+00:00</td>\n      <td>Ships In Pictures ⚓️</td>\n      <td>ShipsInPics</td>\n      <td>Sharing the best ship photos 📷 around. Tweets ...</td>\n      <td>Email: shipsinpics@gmail.com</td>\n      <td>RT @PilociMorscy: 🇦🇬BBC SAPPHIRE\\n🐳14356 t\\n📏1...</td>\n      <td>en</td>\n      <td>[okiempilota, zżyciapilota, shipsinpics]</td>\n      <td>[https://pbs.twimg.com/media/FNPcRAmWYAUCZII.jpg]</td>\n      <td>RT #shipinpics</td>\n      <td>None</td>\n      <td>None</td>\n      <td>None</td>\n    </tr>\n    <tr>\n      <th>1</th>\n      <td>2022-03-07 00:10:35+00:00</td>\n      <td>Ships In Pictures ⚓️</td>\n      <td>ShipsInPics</td>\n      <td>Sharing the best ship photos 📷 around. Tweets ...</td>\n      <td>Email: shipsinpics@gmail.com</td>\n      <td>RT @peterlenderink: Dream - IMO 9322578 Callsi...</td>\n      <td>en</td>\n      <td>[shipsinpics, ijmuiden]</td>\n      <td>[https://pbs.twimg.com/media/FNNBLv8X0Agqe6Q.jpg]</td>\n      <td>RT #shipinpics</td>\n      <td>None</td>\n      <td>None</td>\n      <td>None</td>\n    </tr>\n    <tr>\n      <th>2</th>\n      <td>2022-03-05 19:10:35+00:00</td>\n      <td>Ships In Pictures ⚓️</td>\n      <td>ShipsInPics</td>\n      <td>Sharing the best ship photos 📷 around. Tweets ...</td>\n      <td>Email: shipsinpics@gmail.com</td>\n      <td>RT @AfricaUya: FREESIA at⚓️  #Ship #port #ship...</td>\n      <td>in</td>\n      <td>[Ship, port, shipsinpics, maritime, VTS, ships...</td>\n      <td>[https://pbs.twimg.com/media/FNGy-yCXwAIkBr9.jpg]</td>\n      <td>RT #shipinpics</td>\n      <td>None</td>\n      <td>None</td>\n      <td>None</td>\n    </tr>\n    <tr>\n      <th>3</th>\n      <td>2022-03-05 13:10:35+00:00</td>\n      <td>Ships In Pictures ⚓️</td>\n      <td>ShipsInPics</td>\n      <td>Sharing the best ship photos 📷 around. Tweets ...</td>\n      <td>Email: shipsinpics@gmail.com</td>\n      <td>RT @Apez140: #Instantes\\nCon los que me identi...</td>\n      <td>es</td>\n      <td>[Instantes, ShipsInPics]</td>\n      <td>[https://pbs.twimg.com/media/FNFhIx7XoAEoKkW.jpg]</td>\n      <td>RT #shipinpics</td>\n      <td>None</td>\n      <td>None</td>\n      <td>None</td>\n    </tr>\n    <tr>\n      <th>4</th>\n      <td>2022-03-04 18:10:45+00:00</td>\n      <td>Ships In Pictures ⚓️</td>\n      <td>ShipsInPics</td>\n      <td>Sharing the best ship photos 📷 around. Tweets ...</td>\n      <td>Email: shipsinpics@gmail.com</td>\n      <td>RT @johnmorgan726: The #RAM15 MMSI:366878290 o...</td>\n      <td>en</td>\n      <td>[RAM15, ShipsInPics]</td>\n      <td>[https://pbs.twimg.com/media/FNBjT7GX0AMkkjb.jpg]</td>\n      <td>RT #shipinpics</td>\n      <td>None</td>\n      <td>None</td>\n      <td>None</td>\n    </tr>\n  </tbody>\n</table>\n</div>"
     },
     "execution_count": 7,
     "metadata": {},
     "output_type": "execute_result"
    }
   ],
   "source": [
    "# Use getUserTweets function (screen_name = 'ShipsInPics', count = 1000)\n",
    "user3 = getUserTweets('ShipsInPics', 1000)\n",
    "\n",
    "# show total number of tweets\n",
    "print(\"Total Tweets fetched:\", len(user3))\n",
    "\n",
    "# show the dataframe\n",
    "user3.head()"
   ],
   "metadata": {
    "collapsed": false,
    "pycharm": {
     "name": "#%%\n"
    }
   }
  },
  {
   "cell_type": "code",
   "execution_count": 8,
   "outputs": [],
   "source": [
    "# export dataframe to csv file\n",
    "user3.to_csv('C:/Users/tivon/projects/twitter_project/data/user_tweets_shipsinpics.csv')"
   ],
   "metadata": {
    "collapsed": false,
    "pycharm": {
     "name": "#%%\n"
    }
   }
  },
  {
   "cell_type": "markdown",
   "source": [
    "### user4\n",
    "screen_name = @MarineInsight"
   ],
   "metadata": {
    "collapsed": false,
    "pycharm": {
     "name": "#%% md\n"
    }
   }
  },
  {
   "cell_type": "code",
   "execution_count": 10,
   "outputs": [
    {
     "name": "stdout",
     "output_type": "stream",
     "text": [
      "Total Tweets fetched: 127\n"
     ]
    },
    {
     "data": {
      "text/plain": "                 created_at                      user_name    screen_name  \\\n0 2022-03-06 18:45:17+00:00  Manuel Hernández Lafuente ⚓🌱📷  ManuelHdezLaf   \n1 2022-03-06 09:59:23+00:00  Manuel Hernández Lafuente ⚓🌱📷  ManuelHdezLaf   \n2 2022-03-01 17:10:18+00:00  Manuel Hernández Lafuente ⚓🌱📷  ManuelHdezLaf   \n3 2022-03-01 12:55:15+00:00  Manuel Hernández Lafuente ⚓🌱📷  ManuelHdezLaf   \n4 2022-03-01 12:24:34+00:00  Manuel Hernández Lafuente ⚓🌱📷  ManuelHdezLaf   \n\n                                         description     user_location  \\\n0  Capitán de la Marina Mercante, jubilado. Fotog...  Valencia, España   \n1  Capitán de la Marina Mercante, jubilado. Fotog...  Valencia, España   \n2  Capitán de la Marina Mercante, jubilado. Fotog...  Valencia, España   \n3  Capitán de la Marina Mercante, jubilado. Fotog...  Valencia, España   \n4  Capitán de la Marina Mercante, jubilado. Fotog...  Valencia, España   \n\n                                                text language  \\\n0  #Onagraceae\\n#Oenothera rosea L'Hér. ex Aiton ...       ro   \n1  Antiguo Faro de Valencia - @FarosLos @FarosdeE...       es   \n2  Besalú \\nhttps://t.co/8qkkPQmDtp https://t.co/...       es   \n3  #Oleaceae\\n#Olea europaea L. / Olivo. Olive. O...       et   \n4  #Oleaceae\\n#Ligustrum ovalifolium Hassk. / Ali...       ca   \n\n                  hashtags                                          media_url  \\\n0  [Onagraceae, Oenothera]  [https://pbs.twimg.com/media/FNL_8jRWQAklyDe.jpg]   \n1                     None  [https://pbs.twimg.com/media/FNKHjG1XMAcgIQo.jpg]   \n2                     None  [https://pbs.twimg.com/media/FMx6PtIXwAUBFdJ.jpg]   \n3         [Oleaceae, Olea]  [https://pbs.twimg.com/media/FMw_4VQXMAIMMf_.jpg]   \n4    [Oleaceae, Ligustrum]  [https://pbs.twimg.com/media/FMw42nrX0A0Eet9.jpg]   \n\n            source coordinates place time_zone  \n0  Twitter Web App        None  None      None  \n1  Twitter Web App        None  None      None  \n2  Twitter Web App        None  None      None  \n3  Twitter Web App        None  None      None  \n4  Twitter Web App        None  None      None  ",
      "text/html": "<div>\n<style scoped>\n    .dataframe tbody tr th:only-of-type {\n        vertical-align: middle;\n    }\n\n    .dataframe tbody tr th {\n        vertical-align: top;\n    }\n\n    .dataframe thead th {\n        text-align: right;\n    }\n</style>\n<table border=\"1\" class=\"dataframe\">\n  <thead>\n    <tr style=\"text-align: right;\">\n      <th></th>\n      <th>created_at</th>\n      <th>user_name</th>\n      <th>screen_name</th>\n      <th>description</th>\n      <th>user_location</th>\n      <th>text</th>\n      <th>language</th>\n      <th>hashtags</th>\n      <th>media_url</th>\n      <th>source</th>\n      <th>coordinates</th>\n      <th>place</th>\n      <th>time_zone</th>\n    </tr>\n  </thead>\n  <tbody>\n    <tr>\n      <th>0</th>\n      <td>2022-03-06 18:45:17+00:00</td>\n      <td>Manuel Hernández Lafuente ⚓🌱📷</td>\n      <td>ManuelHdezLaf</td>\n      <td>Capitán de la Marina Mercante, jubilado. Fotog...</td>\n      <td>Valencia, España</td>\n      <td>#Onagraceae\\n#Oenothera rosea L'Hér. ex Aiton ...</td>\n      <td>ro</td>\n      <td>[Onagraceae, Oenothera]</td>\n      <td>[https://pbs.twimg.com/media/FNL_8jRWQAklyDe.jpg]</td>\n      <td>Twitter Web App</td>\n      <td>None</td>\n      <td>None</td>\n      <td>None</td>\n    </tr>\n    <tr>\n      <th>1</th>\n      <td>2022-03-06 09:59:23+00:00</td>\n      <td>Manuel Hernández Lafuente ⚓🌱📷</td>\n      <td>ManuelHdezLaf</td>\n      <td>Capitán de la Marina Mercante, jubilado. Fotog...</td>\n      <td>Valencia, España</td>\n      <td>Antiguo Faro de Valencia - @FarosLos @FarosdeE...</td>\n      <td>es</td>\n      <td>None</td>\n      <td>[https://pbs.twimg.com/media/FNKHjG1XMAcgIQo.jpg]</td>\n      <td>Twitter Web App</td>\n      <td>None</td>\n      <td>None</td>\n      <td>None</td>\n    </tr>\n    <tr>\n      <th>2</th>\n      <td>2022-03-01 17:10:18+00:00</td>\n      <td>Manuel Hernández Lafuente ⚓🌱📷</td>\n      <td>ManuelHdezLaf</td>\n      <td>Capitán de la Marina Mercante, jubilado. Fotog...</td>\n      <td>Valencia, España</td>\n      <td>Besalú \\nhttps://t.co/8qkkPQmDtp https://t.co/...</td>\n      <td>es</td>\n      <td>None</td>\n      <td>[https://pbs.twimg.com/media/FMx6PtIXwAUBFdJ.jpg]</td>\n      <td>Twitter Web App</td>\n      <td>None</td>\n      <td>None</td>\n      <td>None</td>\n    </tr>\n    <tr>\n      <th>3</th>\n      <td>2022-03-01 12:55:15+00:00</td>\n      <td>Manuel Hernández Lafuente ⚓🌱📷</td>\n      <td>ManuelHdezLaf</td>\n      <td>Capitán de la Marina Mercante, jubilado. Fotog...</td>\n      <td>Valencia, España</td>\n      <td>#Oleaceae\\n#Olea europaea L. / Olivo. Olive. O...</td>\n      <td>et</td>\n      <td>[Oleaceae, Olea]</td>\n      <td>[https://pbs.twimg.com/media/FMw_4VQXMAIMMf_.jpg]</td>\n      <td>Twitter Web App</td>\n      <td>None</td>\n      <td>None</td>\n      <td>None</td>\n    </tr>\n    <tr>\n      <th>4</th>\n      <td>2022-03-01 12:24:34+00:00</td>\n      <td>Manuel Hernández Lafuente ⚓🌱📷</td>\n      <td>ManuelHdezLaf</td>\n      <td>Capitán de la Marina Mercante, jubilado. Fotog...</td>\n      <td>Valencia, España</td>\n      <td>#Oleaceae\\n#Ligustrum ovalifolium Hassk. / Ali...</td>\n      <td>ca</td>\n      <td>[Oleaceae, Ligustrum]</td>\n      <td>[https://pbs.twimg.com/media/FMw42nrX0A0Eet9.jpg]</td>\n      <td>Twitter Web App</td>\n      <td>None</td>\n      <td>None</td>\n      <td>None</td>\n    </tr>\n  </tbody>\n</table>\n</div>"
     },
     "execution_count": 10,
     "metadata": {},
     "output_type": "execute_result"
    }
   ],
   "source": [
    "# Use getUserTweets function (screen_name = 'MarineInsight', count = 1000)\n",
    "user4 = getUserTweets('ManuelHdezLaf', 1000)\n",
    "\n",
    "# show total number of tweets\n",
    "print(\"Total Tweets fetched:\", len(user4))\n",
    "\n",
    "# show the dataframe\n",
    "user4.head()"
   ],
   "metadata": {
    "collapsed": false,
    "pycharm": {
     "name": "#%%\n"
    }
   }
  },
  {
   "cell_type": "code",
   "execution_count": 11,
   "outputs": [],
   "source": [
    "# export dataframe to csv file\n",
    "user4.to_csv('C:/Users/tivon/projects/twitter_project/data/user_tweets_manuelhdezlaf.csv')"
   ],
   "metadata": {
    "collapsed": false,
    "pycharm": {
     "name": "#%%\n"
    }
   }
  },
  {
   "cell_type": "markdown",
   "source": [
    "### user4\n",
    "screen_name = @WarshipCam"
   ],
   "metadata": {
    "collapsed": false,
    "pycharm": {
     "name": "#%% md\n"
    }
   }
  },
  {
   "cell_type": "code",
   "execution_count": 12,
   "outputs": [
    {
     "name": "stdout",
     "output_type": "stream",
     "text": [
      "Total Tweets fetched: 66\n"
     ]
    },
    {
     "data": {
      "text/plain": "                 created_at   user_name screen_name  \\\n0 2022-03-07 16:33:34+00:00  WarshipCam  WarshipCam   \n1 2022-03-07 15:43:39+00:00  WarshipCam  WarshipCam   \n2 2022-03-05 12:49:35+00:00  WarshipCam  WarshipCam   \n3 2022-03-05 12:17:57+00:00  WarshipCam  WarshipCam   \n4 2022-03-04 13:30:05+00:00  WarshipCam  WarshipCam   \n\n                                         description  user_location  \\\n0  *-* Watching webcams & social media for views ...  Virginia, USA   \n1  *-* Watching webcams & social media for views ...  Virginia, USA   \n2  *-* Watching webcams & social media for views ...  Virginia, USA   \n3  *-* Watching webcams & social media for views ...  Virginia, USA   \n4  *-* Watching webcams & social media for views ...  Virginia, USA   \n\n                                                text language  \\\n0  USS Nimitz (CVN 68) Nimitz-class aircraft carr...       en   \n1  USS Nimitz (CVN 68) Nimitz-class aircraft carr...       en   \n2  HMCS Halifax (FFH 330) Halifax-class frigate l...       fi   \n3  German Navy Elbe-class tender FGS Main (A515) ...       en   \n4  Standing NATO Mine Countermeasures Group 1 (SN...       en   \n\n                hashtags                                          media_url  \\\n0     [ussnimitz, cvn68]  [https://pbs.twimg.com/media/FNQrZbvWQAAKhZZ.jpg]   \n1     [ussnimitz, cvn68]  [https://pbs.twimg.com/media/FNQf-O2WUAQkuC5.jpg]   \n2  [hmcshalifax, ffh330]  [https://pbs.twimg.com/media/FNFk84JXEAYHm_Q.jpg]   \n3        [fgsmain, a515]  [https://pbs.twimg.com/media/FNFdtcgXwAA0Pyy.jpg]   \n4              [snmcmg1]  [https://pbs.twimg.com/media/FNAkoh7WUAYpI7j.jpg]   \n\n             source coordinates place time_zone  \n0  Twitter for iPad        None  None      None  \n1  Twitter for iPad        None  None      None  \n2  Twitter for iPad        None  None      None  \n3  Twitter for iPad        None  None      None  \n4  Twitter for iPad        None  None      None  ",
      "text/html": "<div>\n<style scoped>\n    .dataframe tbody tr th:only-of-type {\n        vertical-align: middle;\n    }\n\n    .dataframe tbody tr th {\n        vertical-align: top;\n    }\n\n    .dataframe thead th {\n        text-align: right;\n    }\n</style>\n<table border=\"1\" class=\"dataframe\">\n  <thead>\n    <tr style=\"text-align: right;\">\n      <th></th>\n      <th>created_at</th>\n      <th>user_name</th>\n      <th>screen_name</th>\n      <th>description</th>\n      <th>user_location</th>\n      <th>text</th>\n      <th>language</th>\n      <th>hashtags</th>\n      <th>media_url</th>\n      <th>source</th>\n      <th>coordinates</th>\n      <th>place</th>\n      <th>time_zone</th>\n    </tr>\n  </thead>\n  <tbody>\n    <tr>\n      <th>0</th>\n      <td>2022-03-07 16:33:34+00:00</td>\n      <td>WarshipCam</td>\n      <td>WarshipCam</td>\n      <td>*-* Watching webcams &amp; social media for views ...</td>\n      <td>Virginia, USA</td>\n      <td>USS Nimitz (CVN 68) Nimitz-class aircraft carr...</td>\n      <td>en</td>\n      <td>[ussnimitz, cvn68]</td>\n      <td>[https://pbs.twimg.com/media/FNQrZbvWQAAKhZZ.jpg]</td>\n      <td>Twitter for iPad</td>\n      <td>None</td>\n      <td>None</td>\n      <td>None</td>\n    </tr>\n    <tr>\n      <th>1</th>\n      <td>2022-03-07 15:43:39+00:00</td>\n      <td>WarshipCam</td>\n      <td>WarshipCam</td>\n      <td>*-* Watching webcams &amp; social media for views ...</td>\n      <td>Virginia, USA</td>\n      <td>USS Nimitz (CVN 68) Nimitz-class aircraft carr...</td>\n      <td>en</td>\n      <td>[ussnimitz, cvn68]</td>\n      <td>[https://pbs.twimg.com/media/FNQf-O2WUAQkuC5.jpg]</td>\n      <td>Twitter for iPad</td>\n      <td>None</td>\n      <td>None</td>\n      <td>None</td>\n    </tr>\n    <tr>\n      <th>2</th>\n      <td>2022-03-05 12:49:35+00:00</td>\n      <td>WarshipCam</td>\n      <td>WarshipCam</td>\n      <td>*-* Watching webcams &amp; social media for views ...</td>\n      <td>Virginia, USA</td>\n      <td>HMCS Halifax (FFH 330) Halifax-class frigate l...</td>\n      <td>fi</td>\n      <td>[hmcshalifax, ffh330]</td>\n      <td>[https://pbs.twimg.com/media/FNFk84JXEAYHm_Q.jpg]</td>\n      <td>Twitter for iPad</td>\n      <td>None</td>\n      <td>None</td>\n      <td>None</td>\n    </tr>\n    <tr>\n      <th>3</th>\n      <td>2022-03-05 12:17:57+00:00</td>\n      <td>WarshipCam</td>\n      <td>WarshipCam</td>\n      <td>*-* Watching webcams &amp; social media for views ...</td>\n      <td>Virginia, USA</td>\n      <td>German Navy Elbe-class tender FGS Main (A515) ...</td>\n      <td>en</td>\n      <td>[fgsmain, a515]</td>\n      <td>[https://pbs.twimg.com/media/FNFdtcgXwAA0Pyy.jpg]</td>\n      <td>Twitter for iPad</td>\n      <td>None</td>\n      <td>None</td>\n      <td>None</td>\n    </tr>\n    <tr>\n      <th>4</th>\n      <td>2022-03-04 13:30:05+00:00</td>\n      <td>WarshipCam</td>\n      <td>WarshipCam</td>\n      <td>*-* Watching webcams &amp; social media for views ...</td>\n      <td>Virginia, USA</td>\n      <td>Standing NATO Mine Countermeasures Group 1 (SN...</td>\n      <td>en</td>\n      <td>[snmcmg1]</td>\n      <td>[https://pbs.twimg.com/media/FNAkoh7WUAYpI7j.jpg]</td>\n      <td>Twitter for iPad</td>\n      <td>None</td>\n      <td>None</td>\n      <td>None</td>\n    </tr>\n  </tbody>\n</table>\n</div>"
     },
     "execution_count": 12,
     "metadata": {},
     "output_type": "execute_result"
    }
   ],
   "source": [
    "# Use getUserTweets function (screen_name = 'WarshipCam', count = 1000)\n",
    "user5 = getUserTweets('WarshipCam', 1000)\n",
    "\n",
    "# show total number of tweets\n",
    "print(\"Total Tweets fetched:\", len(user5))\n",
    "\n",
    "# show the dataframe\n",
    "user5.head()"
   ],
   "metadata": {
    "collapsed": false,
    "pycharm": {
     "name": "#%%\n"
    }
   }
  },
  {
   "cell_type": "code",
   "execution_count": 13,
   "outputs": [],
   "source": [
    "# export dataframe to csv file\n",
    "user5.to_csv('C:/Users/tivon/projects/twitter_project/data/user_tweets_warshipcam.csv')"
   ],
   "metadata": {
    "collapsed": false,
    "pycharm": {
     "name": "#%%\n"
    }
   }
  },
  {
   "cell_type": "markdown",
   "source": [
    "### user6\n",
    "screen_name = @NavyLookout"
   ],
   "metadata": {
    "collapsed": false,
    "pycharm": {
     "name": "#%% md\n"
    }
   }
  },
  {
   "cell_type": "code",
   "execution_count": 14,
   "outputs": [
    {
     "name": "stdout",
     "output_type": "stream",
     "text": [
      "Total Tweets fetched: 290\n"
     ]
    },
    {
     "data": {
      "text/plain": "                 created_at     user_name  screen_name  \\\n0 2022-03-07 17:01:49+00:00  Navy Lookout  NavyLookout   \n1 2022-03-07 09:27:13+00:00  Navy Lookout  NavyLookout   \n2 2022-03-07 08:16:26+00:00  Navy Lookout  NavyLookout   \n3 2022-03-06 15:09:07+00:00  Navy Lookout  NavyLookout   \n4 2022-03-06 14:13:54+00:00  Navy Lookout  NavyLookout   \n\n                                description user_location  \\\n0  Independent Royal Navy news and analysis            UK   \n1  Independent Royal Navy news and analysis            UK   \n2  Independent Royal Navy news and analysis            UK   \n3  Independent Royal Navy news and analysis            UK   \n4  Independent Royal Navy news and analysis            UK   \n\n                                                text language  \\\n0  .@HMS_Richmond sails from Portsmouth to join e...       en   \n1  .@HMSLANCASTER outbound from Devonport this mo...       en   \n2  🇺🇸USS Roosevelt inbound to Devonport this morn...       en   \n3  Stunning view of @hmssevern outbound on the Fi...       en   \n4  .@hms_argyll leaving Liverpool today.\\n\\nVia @...       en   \n\n           hashtags                                          media_url  \\\n0  [ColdResponse22]  [https://pbs.twimg.com/media/FNQx05-XsAMV3B0.jpg]   \n1              None  [https://pbs.twimg.com/media/FNPJzaHXEAYUzCU.jpg]   \n2              None  [https://pbs.twimg.com/media/FNO5l3zX0AMS5up.jpg]   \n3              None  [https://pbs.twimg.com/media/FNLObCbXoAQtW0P.jpg]   \n4              None  [https://pbs.twimg.com/media/FNLBwhVWUAAaPXQ.jpg]   \n\n      source coordinates place time_zone  \n0  TweetDeck        None  None      None  \n1  TweetDeck        None  None      None  \n2  TweetDeck        None  None      None  \n3  TweetDeck        None  None      None  \n4  TweetDeck        None  None      None  ",
      "text/html": "<div>\n<style scoped>\n    .dataframe tbody tr th:only-of-type {\n        vertical-align: middle;\n    }\n\n    .dataframe tbody tr th {\n        vertical-align: top;\n    }\n\n    .dataframe thead th {\n        text-align: right;\n    }\n</style>\n<table border=\"1\" class=\"dataframe\">\n  <thead>\n    <tr style=\"text-align: right;\">\n      <th></th>\n      <th>created_at</th>\n      <th>user_name</th>\n      <th>screen_name</th>\n      <th>description</th>\n      <th>user_location</th>\n      <th>text</th>\n      <th>language</th>\n      <th>hashtags</th>\n      <th>media_url</th>\n      <th>source</th>\n      <th>coordinates</th>\n      <th>place</th>\n      <th>time_zone</th>\n    </tr>\n  </thead>\n  <tbody>\n    <tr>\n      <th>0</th>\n      <td>2022-03-07 17:01:49+00:00</td>\n      <td>Navy Lookout</td>\n      <td>NavyLookout</td>\n      <td>Independent Royal Navy news and analysis</td>\n      <td>UK</td>\n      <td>.@HMS_Richmond sails from Portsmouth to join e...</td>\n      <td>en</td>\n      <td>[ColdResponse22]</td>\n      <td>[https://pbs.twimg.com/media/FNQx05-XsAMV3B0.jpg]</td>\n      <td>TweetDeck</td>\n      <td>None</td>\n      <td>None</td>\n      <td>None</td>\n    </tr>\n    <tr>\n      <th>1</th>\n      <td>2022-03-07 09:27:13+00:00</td>\n      <td>Navy Lookout</td>\n      <td>NavyLookout</td>\n      <td>Independent Royal Navy news and analysis</td>\n      <td>UK</td>\n      <td>.@HMSLANCASTER outbound from Devonport this mo...</td>\n      <td>en</td>\n      <td>None</td>\n      <td>[https://pbs.twimg.com/media/FNPJzaHXEAYUzCU.jpg]</td>\n      <td>TweetDeck</td>\n      <td>None</td>\n      <td>None</td>\n      <td>None</td>\n    </tr>\n    <tr>\n      <th>2</th>\n      <td>2022-03-07 08:16:26+00:00</td>\n      <td>Navy Lookout</td>\n      <td>NavyLookout</td>\n      <td>Independent Royal Navy news and analysis</td>\n      <td>UK</td>\n      <td>🇺🇸USS Roosevelt inbound to Devonport this morn...</td>\n      <td>en</td>\n      <td>None</td>\n      <td>[https://pbs.twimg.com/media/FNO5l3zX0AMS5up.jpg]</td>\n      <td>TweetDeck</td>\n      <td>None</td>\n      <td>None</td>\n      <td>None</td>\n    </tr>\n    <tr>\n      <th>3</th>\n      <td>2022-03-06 15:09:07+00:00</td>\n      <td>Navy Lookout</td>\n      <td>NavyLookout</td>\n      <td>Independent Royal Navy news and analysis</td>\n      <td>UK</td>\n      <td>Stunning view of @hmssevern outbound on the Fi...</td>\n      <td>en</td>\n      <td>None</td>\n      <td>[https://pbs.twimg.com/media/FNLObCbXoAQtW0P.jpg]</td>\n      <td>TweetDeck</td>\n      <td>None</td>\n      <td>None</td>\n      <td>None</td>\n    </tr>\n    <tr>\n      <th>4</th>\n      <td>2022-03-06 14:13:54+00:00</td>\n      <td>Navy Lookout</td>\n      <td>NavyLookout</td>\n      <td>Independent Royal Navy news and analysis</td>\n      <td>UK</td>\n      <td>.@hms_argyll leaving Liverpool today.\\n\\nVia @...</td>\n      <td>en</td>\n      <td>None</td>\n      <td>[https://pbs.twimg.com/media/FNLBwhVWUAAaPXQ.jpg]</td>\n      <td>TweetDeck</td>\n      <td>None</td>\n      <td>None</td>\n      <td>None</td>\n    </tr>\n  </tbody>\n</table>\n</div>"
     },
     "execution_count": 14,
     "metadata": {},
     "output_type": "execute_result"
    }
   ],
   "source": [
    "# Use getUserTweets function (screen_name = 'NavyLookout', count = 1000)\n",
    "user6 = getUserTweets('NavyLookout', 1000)\n",
    "\n",
    "# show total number of tweets\n",
    "print(\"Total Tweets fetched:\", len(user6))\n",
    "\n",
    "# show the dataframe\n",
    "user6.head()"
   ],
   "metadata": {
    "collapsed": false,
    "pycharm": {
     "name": "#%%\n"
    }
   }
  },
  {
   "cell_type": "code",
   "execution_count": 15,
   "outputs": [],
   "source": [
    "# export dataframe to csv file\n",
    "user6.to_csv('C:/Users/tivon/projects/twitter_project/data/user_tweets_navylookout.csv')"
   ],
   "metadata": {
    "collapsed": false,
    "pycharm": {
     "name": "#%%\n"
    }
   }
  },
  {
   "cell_type": "markdown",
   "source": [
    "### user7\n",
    "screen_name = @FraserG32883664"
   ],
   "metadata": {
    "collapsed": false,
    "pycharm": {
     "name": "#%% md\n"
    }
   }
  },
  {
   "cell_type": "code",
   "execution_count": 16,
   "outputs": [
    {
     "name": "stdout",
     "output_type": "stream",
     "text": [
      "Total Tweets fetched: 187\n"
     ]
    },
    {
     "data": {
      "text/plain": "                 created_at    user_name      screen_name description  \\\n0 2022-03-05 07:12:37+00:00  Fraser Gray  FraserG32883664               \n1 2022-02-24 08:46:20+00:00  Fraser Gray  FraserG32883664               \n2 2022-02-23 09:16:46+00:00  Fraser Gray  FraserG32883664               \n3 2022-02-14 09:24:37+00:00  Fraser Gray  FraserG32883664               \n4 2022-01-31 08:54:29+00:00  Fraser Gray  FraserG32883664               \n\n  user_location                                               text language  \\\n0                Bulk carrier Moleson heading into Gravesend Re...       en   \n1                Panama flagged Teal Bulker has been  trading o...       en   \n2                “Full steam ahead” tanker Hellas Avatar in Gra...       en   \n3                Cobelfret’s ro-ro cargo vessel Valentine on th...       en   \n4                Bulk carrier Maccoa transits the Essex shores ...       en   \n\n                                  hashtags  \\\n0  [ShipsInPics, BulkCarrier, RiverThames]   \n1    [ShipsInPics, Gravesend, RiverThames]   \n2    [ShipsInPics, Gravesend, RiverThames]   \n3               [ShipsInPics, RiverThames]   \n4               [ShipsInPics, RiverThames]   \n\n                                           media_url           source  \\\n0  [https://pbs.twimg.com/media/FNEXxv4XEAYyChv.jpg]  Twitter Web App   \n1  [https://pbs.twimg.com/media/FMWW4XCXsAAOluf.jpg]  Twitter Web App   \n2  [https://pbs.twimg.com/media/FMRUG_WX0AEVPLL.jpg]  Twitter Web App   \n3  [https://pbs.twimg.com/media/FLi_js_WUAIk33U.jpg]  Twitter Web App   \n4  [https://pbs.twimg.com/media/FKaymQ_XoAQiscv.jpg]  Twitter Web App   \n\n  coordinates place time_zone  \n0        None  None      None  \n1        None  None      None  \n2        None  None      None  \n3        None  None      None  \n4        None  None      None  ",
      "text/html": "<div>\n<style scoped>\n    .dataframe tbody tr th:only-of-type {\n        vertical-align: middle;\n    }\n\n    .dataframe tbody tr th {\n        vertical-align: top;\n    }\n\n    .dataframe thead th {\n        text-align: right;\n    }\n</style>\n<table border=\"1\" class=\"dataframe\">\n  <thead>\n    <tr style=\"text-align: right;\">\n      <th></th>\n      <th>created_at</th>\n      <th>user_name</th>\n      <th>screen_name</th>\n      <th>description</th>\n      <th>user_location</th>\n      <th>text</th>\n      <th>language</th>\n      <th>hashtags</th>\n      <th>media_url</th>\n      <th>source</th>\n      <th>coordinates</th>\n      <th>place</th>\n      <th>time_zone</th>\n    </tr>\n  </thead>\n  <tbody>\n    <tr>\n      <th>0</th>\n      <td>2022-03-05 07:12:37+00:00</td>\n      <td>Fraser Gray</td>\n      <td>FraserG32883664</td>\n      <td></td>\n      <td></td>\n      <td>Bulk carrier Moleson heading into Gravesend Re...</td>\n      <td>en</td>\n      <td>[ShipsInPics, BulkCarrier, RiverThames]</td>\n      <td>[https://pbs.twimg.com/media/FNEXxv4XEAYyChv.jpg]</td>\n      <td>Twitter Web App</td>\n      <td>None</td>\n      <td>None</td>\n      <td>None</td>\n    </tr>\n    <tr>\n      <th>1</th>\n      <td>2022-02-24 08:46:20+00:00</td>\n      <td>Fraser Gray</td>\n      <td>FraserG32883664</td>\n      <td></td>\n      <td></td>\n      <td>Panama flagged Teal Bulker has been  trading o...</td>\n      <td>en</td>\n      <td>[ShipsInPics, Gravesend, RiverThames]</td>\n      <td>[https://pbs.twimg.com/media/FMWW4XCXsAAOluf.jpg]</td>\n      <td>Twitter Web App</td>\n      <td>None</td>\n      <td>None</td>\n      <td>None</td>\n    </tr>\n    <tr>\n      <th>2</th>\n      <td>2022-02-23 09:16:46+00:00</td>\n      <td>Fraser Gray</td>\n      <td>FraserG32883664</td>\n      <td></td>\n      <td></td>\n      <td>“Full steam ahead” tanker Hellas Avatar in Gra...</td>\n      <td>en</td>\n      <td>[ShipsInPics, Gravesend, RiverThames]</td>\n      <td>[https://pbs.twimg.com/media/FMRUG_WX0AEVPLL.jpg]</td>\n      <td>Twitter Web App</td>\n      <td>None</td>\n      <td>None</td>\n      <td>None</td>\n    </tr>\n    <tr>\n      <th>3</th>\n      <td>2022-02-14 09:24:37+00:00</td>\n      <td>Fraser Gray</td>\n      <td>FraserG32883664</td>\n      <td></td>\n      <td></td>\n      <td>Cobelfret’s ro-ro cargo vessel Valentine on th...</td>\n      <td>en</td>\n      <td>[ShipsInPics, RiverThames]</td>\n      <td>[https://pbs.twimg.com/media/FLi_js_WUAIk33U.jpg]</td>\n      <td>Twitter Web App</td>\n      <td>None</td>\n      <td>None</td>\n      <td>None</td>\n    </tr>\n    <tr>\n      <th>4</th>\n      <td>2022-01-31 08:54:29+00:00</td>\n      <td>Fraser Gray</td>\n      <td>FraserG32883664</td>\n      <td></td>\n      <td></td>\n      <td>Bulk carrier Maccoa transits the Essex shores ...</td>\n      <td>en</td>\n      <td>[ShipsInPics, RiverThames]</td>\n      <td>[https://pbs.twimg.com/media/FKaymQ_XoAQiscv.jpg]</td>\n      <td>Twitter Web App</td>\n      <td>None</td>\n      <td>None</td>\n      <td>None</td>\n    </tr>\n  </tbody>\n</table>\n</div>"
     },
     "execution_count": 16,
     "metadata": {},
     "output_type": "execute_result"
    }
   ],
   "source": [
    "# Use getUserTweets function (screen_name = 'FraserG32883664', count = 1000)\n",
    "user7 = getUserTweets('FraserG32883664', 1000)\n",
    "\n",
    "# show total number of tweets\n",
    "print(\"Total Tweets fetched:\", len(user7))\n",
    "\n",
    "# show the dataframe\n",
    "user7.head()"
   ],
   "metadata": {
    "collapsed": false,
    "pycharm": {
     "name": "#%%\n"
    }
   }
  },
  {
   "cell_type": "code",
   "execution_count": 17,
   "outputs": [],
   "source": [
    "# export dataframe to csv file\n",
    "user7.to_csv('C:/Users/tivon/projects/twitter_project/data/user_tweets_fraserg32883664.csv')"
   ],
   "metadata": {
    "collapsed": false,
    "pycharm": {
     "name": "#%%\n"
    }
   }
  },
  {
   "cell_type": "markdown",
   "source": [
    "### user8\n",
    "screen_name = @pah1974"
   ],
   "metadata": {
    "collapsed": false,
    "pycharm": {
     "name": "#%% md\n"
    }
   }
  },
  {
   "cell_type": "code",
   "execution_count": 18,
   "outputs": [
    {
     "name": "stdout",
     "output_type": "stream",
     "text": [
      "Total Tweets fetched: 319\n"
     ]
    },
    {
     "data": {
      "text/plain": "                 created_at   user_name screen_name  \\\n0 2022-03-04 14:28:08+00:00  paul hiett     pah1974   \n1 2022-03-04 14:25:52+00:00  paul hiett     pah1974   \n2 2022-02-28 17:00:41+00:00  paul hiett     pah1974   \n3 2022-02-28 16:33:27+00:00  paul hiett     pah1974   \n4 2022-02-28 16:27:30+00:00  paul hiett     pah1974   \n\n                                         description user_location  \\\n0  ship spotter.posting pics and video's of ships...                 \n1  ship spotter.posting pics and video's of ships...                 \n2  ship spotter.posting pics and video's of ships...                 \n3  ship spotter.posting pics and video's of ships...                 \n4  ship spotter.posting pics and video's of ships...                 \n\n                                                text language hashtags  \\\n0  Small tug/workboat ASSASSIN makes her way up t...       en     None   \n1  Dredger SAND FULMAR on approach to the port of...       en     None   \n2  Vehicles carrier RCC ANTWERP heading for Tilbu...       en     None   \n3  Ro-Ro cargo ship VESPERTINE passing Tilbury in...       en     None   \n4  General cargo ship KATE C passing Tilbury inbo...       en     None   \n\n                                           media_url           source  \\\n0  [https://pbs.twimg.com/media/FNAxx_AXoAMyNH2.jpg]  Twitter Web App   \n1  [https://pbs.twimg.com/media/FNAwsF6XoAUKGnP.jpg]  Twitter Web App   \n2  [https://pbs.twimg.com/media/FMsuHvLX0AEiiFV.jpg]  Twitter Web App   \n3  [https://pbs.twimg.com/media/FMsoMKgXMAYgkG1.jpg]  Twitter Web App   \n4  [https://pbs.twimg.com/media/FMsmpCXXIAEvLLR.jpg]  Twitter Web App   \n\n  coordinates place time_zone  \n0        None  None      None  \n1        None  None      None  \n2        None  None      None  \n3        None  None      None  \n4        None  None      None  ",
      "text/html": "<div>\n<style scoped>\n    .dataframe tbody tr th:only-of-type {\n        vertical-align: middle;\n    }\n\n    .dataframe tbody tr th {\n        vertical-align: top;\n    }\n\n    .dataframe thead th {\n        text-align: right;\n    }\n</style>\n<table border=\"1\" class=\"dataframe\">\n  <thead>\n    <tr style=\"text-align: right;\">\n      <th></th>\n      <th>created_at</th>\n      <th>user_name</th>\n      <th>screen_name</th>\n      <th>description</th>\n      <th>user_location</th>\n      <th>text</th>\n      <th>language</th>\n      <th>hashtags</th>\n      <th>media_url</th>\n      <th>source</th>\n      <th>coordinates</th>\n      <th>place</th>\n      <th>time_zone</th>\n    </tr>\n  </thead>\n  <tbody>\n    <tr>\n      <th>0</th>\n      <td>2022-03-04 14:28:08+00:00</td>\n      <td>paul hiett</td>\n      <td>pah1974</td>\n      <td>ship spotter.posting pics and video's of ships...</td>\n      <td></td>\n      <td>Small tug/workboat ASSASSIN makes her way up t...</td>\n      <td>en</td>\n      <td>None</td>\n      <td>[https://pbs.twimg.com/media/FNAxx_AXoAMyNH2.jpg]</td>\n      <td>Twitter Web App</td>\n      <td>None</td>\n      <td>None</td>\n      <td>None</td>\n    </tr>\n    <tr>\n      <th>1</th>\n      <td>2022-03-04 14:25:52+00:00</td>\n      <td>paul hiett</td>\n      <td>pah1974</td>\n      <td>ship spotter.posting pics and video's of ships...</td>\n      <td></td>\n      <td>Dredger SAND FULMAR on approach to the port of...</td>\n      <td>en</td>\n      <td>None</td>\n      <td>[https://pbs.twimg.com/media/FNAwsF6XoAUKGnP.jpg]</td>\n      <td>Twitter Web App</td>\n      <td>None</td>\n      <td>None</td>\n      <td>None</td>\n    </tr>\n    <tr>\n      <th>2</th>\n      <td>2022-02-28 17:00:41+00:00</td>\n      <td>paul hiett</td>\n      <td>pah1974</td>\n      <td>ship spotter.posting pics and video's of ships...</td>\n      <td></td>\n      <td>Vehicles carrier RCC ANTWERP heading for Tilbu...</td>\n      <td>en</td>\n      <td>None</td>\n      <td>[https://pbs.twimg.com/media/FMsuHvLX0AEiiFV.jpg]</td>\n      <td>Twitter Web App</td>\n      <td>None</td>\n      <td>None</td>\n      <td>None</td>\n    </tr>\n    <tr>\n      <th>3</th>\n      <td>2022-02-28 16:33:27+00:00</td>\n      <td>paul hiett</td>\n      <td>pah1974</td>\n      <td>ship spotter.posting pics and video's of ships...</td>\n      <td></td>\n      <td>Ro-Ro cargo ship VESPERTINE passing Tilbury in...</td>\n      <td>en</td>\n      <td>None</td>\n      <td>[https://pbs.twimg.com/media/FMsoMKgXMAYgkG1.jpg]</td>\n      <td>Twitter Web App</td>\n      <td>None</td>\n      <td>None</td>\n      <td>None</td>\n    </tr>\n    <tr>\n      <th>4</th>\n      <td>2022-02-28 16:27:30+00:00</td>\n      <td>paul hiett</td>\n      <td>pah1974</td>\n      <td>ship spotter.posting pics and video's of ships...</td>\n      <td></td>\n      <td>General cargo ship KATE C passing Tilbury inbo...</td>\n      <td>en</td>\n      <td>None</td>\n      <td>[https://pbs.twimg.com/media/FMsmpCXXIAEvLLR.jpg]</td>\n      <td>Twitter Web App</td>\n      <td>None</td>\n      <td>None</td>\n      <td>None</td>\n    </tr>\n  </tbody>\n</table>\n</div>"
     },
     "execution_count": 18,
     "metadata": {},
     "output_type": "execute_result"
    }
   ],
   "source": [
    "# Use getUserTweets function (screen_name = 'pah1974', count = 1000)\n",
    "user8 = getUserTweets('pah1974', 1000)\n",
    "\n",
    "# show total number of tweets\n",
    "print(\"Total Tweets fetched:\", len(user8))\n",
    "\n",
    "# show the dataframe\n",
    "user8.head()"
   ],
   "metadata": {
    "collapsed": false,
    "pycharm": {
     "name": "#%%\n"
    }
   }
  },
  {
   "cell_type": "code",
   "execution_count": 30,
   "outputs": [],
   "source": [
    "# export dataframe to csv file\n",
    "user8.to_csv('C:/Users/tivon/projects/twitter_project/data/user_tweets_pah1974.csv')"
   ],
   "metadata": {
    "collapsed": false,
    "pycharm": {
     "name": "#%%\n"
    }
   }
  },
  {
   "cell_type": "markdown",
   "source": [
    "### user9\n",
    "screen_name = @johnmorgan726"
   ],
   "metadata": {
    "collapsed": false,
    "pycharm": {
     "name": "#%% md\n"
    }
   }
  },
  {
   "cell_type": "code",
   "execution_count": 20,
   "outputs": [
    {
     "name": "stdout",
     "output_type": "stream",
     "text": [
      "Total Tweets fetched: 109\n"
     ]
    },
    {
     "data": {
      "text/plain": "                 created_at    user_name    screen_name  \\\n0 2022-03-07 20:19:08+00:00  John Morgan  johnmorgan726   \n1 2022-03-07 19:39:23+00:00  John Morgan  johnmorgan726   \n2 2022-03-06 21:34:01+00:00  John Morgan  johnmorgan726   \n3 2022-03-05 18:20:00+00:00  John Morgan  johnmorgan726   \n4 2022-03-05 16:01:42+00:00  John Morgan  johnmorgan726   \n\n                                         description       user_location  \\\n0  I enjoy HAM radio, fishing, and maritime traff...  Virginia Beach, VA   \n1  I enjoy HAM radio, fishing, and maritime traff...  Virginia Beach, VA   \n2  I enjoy HAM radio, fishing, and maritime traff...  Virginia Beach, VA   \n3  I enjoy HAM radio, fishing, and maritime traff...  Virginia Beach, VA   \n4  I enjoy HAM radio, fishing, and maritime traff...  Virginia Beach, VA   \n\n                                                text language  \\\n0  RT @Visita_Cortesia: Crucero AIDAmar atracado ...       es   \n1  RT @Fotogmike: Since Upstate NY is trending I ...       en   \n2  With a particularly heavy load the #HopperDred...       en   \n3  RT @Visita_Cortesia: Ferry Golden Bridge de pr...       es   \n4  The BREMEN, IMO:9450387 en route to New York, ...       en   \n\n                                 hashtags  \\\n0                                    None   \n1                                    None   \n2  [HopperDredger, Stuyvesant, dumpsight]   \n3                                    None   \n4    [Bremen, ContainerShip, ShipsInPics]   \n\n                                           media_url              source  \\\n0  [https://pbs.twimg.com/media/FNRe1cqWQAAOcO6.jpg]    Twitter for iPad   \n1  [https://pbs.twimg.com/media/FNN-tdiX0AAbz_o.jpg]    Twitter for iPad   \n2  [https://pbs.twimg.com/media/FNMmkujWYAU0z-3.jpg]    Twitter for iPad   \n3  [https://pbs.twimg.com/media/FNGwJHdXsAY5TWU.jpg]  Twitter for iPhone   \n4  [https://pbs.twimg.com/media/FNGQ69wX0AgbOvZ.jpg]    Twitter for iPad   \n\n  coordinates                                              place time_zone  \n0        None                                               None      None  \n1        None                                               None      None  \n2        None  Place(_api=<tweepy.api.API object at 0x000002C...      None  \n3        None                                               None      None  \n4        None  Place(_api=<tweepy.api.API object at 0x000002C...      None  ",
      "text/html": "<div>\n<style scoped>\n    .dataframe tbody tr th:only-of-type {\n        vertical-align: middle;\n    }\n\n    .dataframe tbody tr th {\n        vertical-align: top;\n    }\n\n    .dataframe thead th {\n        text-align: right;\n    }\n</style>\n<table border=\"1\" class=\"dataframe\">\n  <thead>\n    <tr style=\"text-align: right;\">\n      <th></th>\n      <th>created_at</th>\n      <th>user_name</th>\n      <th>screen_name</th>\n      <th>description</th>\n      <th>user_location</th>\n      <th>text</th>\n      <th>language</th>\n      <th>hashtags</th>\n      <th>media_url</th>\n      <th>source</th>\n      <th>coordinates</th>\n      <th>place</th>\n      <th>time_zone</th>\n    </tr>\n  </thead>\n  <tbody>\n    <tr>\n      <th>0</th>\n      <td>2022-03-07 20:19:08+00:00</td>\n      <td>John Morgan</td>\n      <td>johnmorgan726</td>\n      <td>I enjoy HAM radio, fishing, and maritime traff...</td>\n      <td>Virginia Beach, VA</td>\n      <td>RT @Visita_Cortesia: Crucero AIDAmar atracado ...</td>\n      <td>es</td>\n      <td>None</td>\n      <td>[https://pbs.twimg.com/media/FNRe1cqWQAAOcO6.jpg]</td>\n      <td>Twitter for iPad</td>\n      <td>None</td>\n      <td>None</td>\n      <td>None</td>\n    </tr>\n    <tr>\n      <th>1</th>\n      <td>2022-03-07 19:39:23+00:00</td>\n      <td>John Morgan</td>\n      <td>johnmorgan726</td>\n      <td>I enjoy HAM radio, fishing, and maritime traff...</td>\n      <td>Virginia Beach, VA</td>\n      <td>RT @Fotogmike: Since Upstate NY is trending I ...</td>\n      <td>en</td>\n      <td>None</td>\n      <td>[https://pbs.twimg.com/media/FNN-tdiX0AAbz_o.jpg]</td>\n      <td>Twitter for iPad</td>\n      <td>None</td>\n      <td>None</td>\n      <td>None</td>\n    </tr>\n    <tr>\n      <th>2</th>\n      <td>2022-03-06 21:34:01+00:00</td>\n      <td>John Morgan</td>\n      <td>johnmorgan726</td>\n      <td>I enjoy HAM radio, fishing, and maritime traff...</td>\n      <td>Virginia Beach, VA</td>\n      <td>With a particularly heavy load the #HopperDred...</td>\n      <td>en</td>\n      <td>[HopperDredger, Stuyvesant, dumpsight]</td>\n      <td>[https://pbs.twimg.com/media/FNMmkujWYAU0z-3.jpg]</td>\n      <td>Twitter for iPad</td>\n      <td>None</td>\n      <td>Place(_api=&lt;tweepy.api.API object at 0x000002C...</td>\n      <td>None</td>\n    </tr>\n    <tr>\n      <th>3</th>\n      <td>2022-03-05 18:20:00+00:00</td>\n      <td>John Morgan</td>\n      <td>johnmorgan726</td>\n      <td>I enjoy HAM radio, fishing, and maritime traff...</td>\n      <td>Virginia Beach, VA</td>\n      <td>RT @Visita_Cortesia: Ferry Golden Bridge de pr...</td>\n      <td>es</td>\n      <td>None</td>\n      <td>[https://pbs.twimg.com/media/FNGwJHdXsAY5TWU.jpg]</td>\n      <td>Twitter for iPhone</td>\n      <td>None</td>\n      <td>None</td>\n      <td>None</td>\n    </tr>\n    <tr>\n      <th>4</th>\n      <td>2022-03-05 16:01:42+00:00</td>\n      <td>John Morgan</td>\n      <td>johnmorgan726</td>\n      <td>I enjoy HAM radio, fishing, and maritime traff...</td>\n      <td>Virginia Beach, VA</td>\n      <td>The BREMEN, IMO:9450387 en route to New York, ...</td>\n      <td>en</td>\n      <td>[Bremen, ContainerShip, ShipsInPics]</td>\n      <td>[https://pbs.twimg.com/media/FNGQ69wX0AgbOvZ.jpg]</td>\n      <td>Twitter for iPad</td>\n      <td>None</td>\n      <td>Place(_api=&lt;tweepy.api.API object at 0x000002C...</td>\n      <td>None</td>\n    </tr>\n  </tbody>\n</table>\n</div>"
     },
     "execution_count": 20,
     "metadata": {},
     "output_type": "execute_result"
    }
   ],
   "source": [
    "# Use getUserTweets function (screen_name = 'johnmorgan726', count = 1000)\n",
    "user9 = getUserTweets('johnmorgan726', 1000)\n",
    "\n",
    "# show total number of tweets\n",
    "print(\"Total Tweets fetched:\", len(user9))\n",
    "\n",
    "# show the dataframe\n",
    "user9.head()"
   ],
   "metadata": {
    "collapsed": false,
    "pycharm": {
     "name": "#%%\n"
    }
   }
  },
  {
   "cell_type": "code",
   "execution_count": 21,
   "outputs": [],
   "source": [
    "# export dataframe to csv file\n",
    "user9.to_csv('C:/Users/tivon/projects/twitter_project/data/user_tweets_johnmorgan726.csv')"
   ],
   "metadata": {
    "collapsed": false,
    "pycharm": {
     "name": "#%%\n"
    }
   }
  },
  {
   "cell_type": "markdown",
   "source": [
    "### user10\n",
    "screen_name = @MaritimePhotos"
   ],
   "metadata": {
    "collapsed": false,
    "pycharm": {
     "name": "#%% md\n"
    }
   }
  },
  {
   "cell_type": "code",
   "execution_count": 22,
   "outputs": [
    {
     "name": "stdout",
     "output_type": "stream",
     "text": [
      "Total Tweets fetched: 407\n"
     ]
    },
    {
     "data": {
      "text/plain": "                 created_at    user_name     screen_name  \\\n0 2022-03-01 09:04:13+00:00  Gary Davies  MaritimePhotos   \n1 2022-02-25 13:40:54+00:00  Gary Davies  MaritimePhotos   \n2 2022-02-24 18:18:22+00:00  Gary Davies  MaritimePhotos   \n3 2022-02-04 15:34:56+00:00  Gary Davies  MaritimePhotos   \n4 2022-01-30 19:51:06+00:00  Gary Davies  MaritimePhotos   \n\n                                         description        user_location  \\\n0  Freelance photographer providing creative imag...  Portsmouth, England   \n1  Freelance photographer providing creative imag...  Portsmouth, England   \n2  Freelance photographer providing creative imag...  Portsmouth, England   \n3  Freelance photographer providing creative imag...  Portsmouth, England   \n4  Freelance photographer providing creative imag...  Portsmouth, England   \n\n                                                text language  \\\n0  Maiden UK call of @VirginVoyages #ValiantLady ...       en   \n1  That's @hmsdiamond deploying for the eastern M...       en   \n2  Nice to see @BrittanyFerries #Barfleur back in...       en   \n3  The @NATO Response Force Task Group flagship @...       en   \n4  Maiden UK call of #EverAlp one of the world's ...       en   \n\n                                           hashtags  \\\n0  [ValiantLady, cruise, newcruiseship, Portsmouth]   \n1                                      [Portsmouth]   \n2                                        [Barfleur]   \n3                                      [Portsmouth]   \n4                              [EverAlp, Evergreen]   \n\n                                           media_url           source  \\\n0  [https://pbs.twimg.com/media/FMwKncUXwAILGbi.jpg]  Twitter Web App   \n1  [https://pbs.twimg.com/media/FMcjfvhXMAI-rcg.jpg]  Twitter Web App   \n2  [https://pbs.twimg.com/media/FMYZY3qWYAIrQ29.jpg]  Twitter Web App   \n3  [https://pbs.twimg.com/media/FKw0U20XwAobvqU.jpg]  Twitter Web App   \n4  [https://pbs.twimg.com/media/FKX-VQpXoAA_zTy.jpg]  Twitter Web App   \n\n  coordinates place time_zone  \n0        None  None      None  \n1        None  None      None  \n2        None  None      None  \n3        None  None      None  \n4        None  None      None  ",
      "text/html": "<div>\n<style scoped>\n    .dataframe tbody tr th:only-of-type {\n        vertical-align: middle;\n    }\n\n    .dataframe tbody tr th {\n        vertical-align: top;\n    }\n\n    .dataframe thead th {\n        text-align: right;\n    }\n</style>\n<table border=\"1\" class=\"dataframe\">\n  <thead>\n    <tr style=\"text-align: right;\">\n      <th></th>\n      <th>created_at</th>\n      <th>user_name</th>\n      <th>screen_name</th>\n      <th>description</th>\n      <th>user_location</th>\n      <th>text</th>\n      <th>language</th>\n      <th>hashtags</th>\n      <th>media_url</th>\n      <th>source</th>\n      <th>coordinates</th>\n      <th>place</th>\n      <th>time_zone</th>\n    </tr>\n  </thead>\n  <tbody>\n    <tr>\n      <th>0</th>\n      <td>2022-03-01 09:04:13+00:00</td>\n      <td>Gary Davies</td>\n      <td>MaritimePhotos</td>\n      <td>Freelance photographer providing creative imag...</td>\n      <td>Portsmouth, England</td>\n      <td>Maiden UK call of @VirginVoyages #ValiantLady ...</td>\n      <td>en</td>\n      <td>[ValiantLady, cruise, newcruiseship, Portsmouth]</td>\n      <td>[https://pbs.twimg.com/media/FMwKncUXwAILGbi.jpg]</td>\n      <td>Twitter Web App</td>\n      <td>None</td>\n      <td>None</td>\n      <td>None</td>\n    </tr>\n    <tr>\n      <th>1</th>\n      <td>2022-02-25 13:40:54+00:00</td>\n      <td>Gary Davies</td>\n      <td>MaritimePhotos</td>\n      <td>Freelance photographer providing creative imag...</td>\n      <td>Portsmouth, England</td>\n      <td>That's @hmsdiamond deploying for the eastern M...</td>\n      <td>en</td>\n      <td>[Portsmouth]</td>\n      <td>[https://pbs.twimg.com/media/FMcjfvhXMAI-rcg.jpg]</td>\n      <td>Twitter Web App</td>\n      <td>None</td>\n      <td>None</td>\n      <td>None</td>\n    </tr>\n    <tr>\n      <th>2</th>\n      <td>2022-02-24 18:18:22+00:00</td>\n      <td>Gary Davies</td>\n      <td>MaritimePhotos</td>\n      <td>Freelance photographer providing creative imag...</td>\n      <td>Portsmouth, England</td>\n      <td>Nice to see @BrittanyFerries #Barfleur back in...</td>\n      <td>en</td>\n      <td>[Barfleur]</td>\n      <td>[https://pbs.twimg.com/media/FMYZY3qWYAIrQ29.jpg]</td>\n      <td>Twitter Web App</td>\n      <td>None</td>\n      <td>None</td>\n      <td>None</td>\n    </tr>\n    <tr>\n      <th>3</th>\n      <td>2022-02-04 15:34:56+00:00</td>\n      <td>Gary Davies</td>\n      <td>MaritimePhotos</td>\n      <td>Freelance photographer providing creative imag...</td>\n      <td>Portsmouth, England</td>\n      <td>The @NATO Response Force Task Group flagship @...</td>\n      <td>en</td>\n      <td>[Portsmouth]</td>\n      <td>[https://pbs.twimg.com/media/FKw0U20XwAobvqU.jpg]</td>\n      <td>Twitter Web App</td>\n      <td>None</td>\n      <td>None</td>\n      <td>None</td>\n    </tr>\n    <tr>\n      <th>4</th>\n      <td>2022-01-30 19:51:06+00:00</td>\n      <td>Gary Davies</td>\n      <td>MaritimePhotos</td>\n      <td>Freelance photographer providing creative imag...</td>\n      <td>Portsmouth, England</td>\n      <td>Maiden UK call of #EverAlp one of the world's ...</td>\n      <td>en</td>\n      <td>[EverAlp, Evergreen]</td>\n      <td>[https://pbs.twimg.com/media/FKX-VQpXoAA_zTy.jpg]</td>\n      <td>Twitter Web App</td>\n      <td>None</td>\n      <td>None</td>\n      <td>None</td>\n    </tr>\n  </tbody>\n</table>\n</div>"
     },
     "execution_count": 22,
     "metadata": {},
     "output_type": "execute_result"
    }
   ],
   "source": [
    "# Use getUserTweets function (screen_name = 'MaritimePhotos', count = 1000)\n",
    "user10 = getUserTweets('MaritimePhotos', 1000)\n",
    "\n",
    "# show total number of tweets\n",
    "print(\"Total Tweets fetched:\", len(user10))\n",
    "\n",
    "# show the dataframe\n",
    "user10.head()"
   ],
   "metadata": {
    "collapsed": false,
    "pycharm": {
     "name": "#%%\n"
    }
   }
  },
  {
   "cell_type": "code",
   "execution_count": 31,
   "outputs": [],
   "source": [
    "# export dataframe to csv file\n",
    "user10.to_csv('C:/Users/tivon/projects/twitter_project/data/user_tweets_maritimephotos.csv')"
   ],
   "metadata": {
    "collapsed": false,
    "pycharm": {
     "name": "#%%\n"
    }
   }
  },
  {
   "cell_type": "markdown",
   "source": [
    "## Query Tweets\n",
    "Use getQueryTweets() function to fetch query tweets"
   ],
   "metadata": {
    "collapsed": false,
    "pycharm": {
     "name": "#%% md\n"
    }
   }
  },
  {
   "cell_type": "markdown",
   "source": [
    "### query1\n",
    "search_query = warship"
   ],
   "metadata": {
    "collapsed": false,
    "pycharm": {
     "name": "#%% md\n"
    }
   }
  },
  {
   "cell_type": "code",
   "execution_count": 24,
   "outputs": [
    {
     "name": "stdout",
     "output_type": "stream",
     "text": [
      "Total Tweets fetched: 41\n"
     ]
    },
    {
     "data": {
      "text/plain": "                 created_at              user_name      screen_name  \\\n0 2022-03-08 00:11:02+00:00     軍艦を偏見とガバガバ知識で語るbot  warship_hengaba   \n1 2022-03-08 00:08:52+00:00          💙 Jane 🇺🇦 🕊️🌱      localnotail   \n2 2022-03-08 00:08:39+00:00  хроніки незабаром 🦚🇺🇦        shurioque   \n3 2022-03-07 23:40:56+00:00     軍艦を偏見とガバガバ知識で語るbot  warship_hengaba   \n4 2022-03-07 23:11:36+00:00     軍艦を偏見とガバガバ知識で語るbot  warship_hengaba   \n\n                                         description  \\\n0  その名の通り軍艦を偏見とガバガバ知識で語るbotです。30分に1回はつぶやきます。  艦これ...   \n1  Local. Bit Gonzo\\nMostly harmless Library Assi...   \n2  файний хлопець з котом; живу у Вашингтоні, пра...   \n3  その名の通り軍艦を偏見とガバガバ知識で語るbotです。30分に1回はつぶやきます。  艦これ...   \n4  その名の通り軍艦を偏見とガバガバ知識で語るbotです。30分に1回はつぶやきます。  艦これ...   \n\n               user_location  \\\n0                        どこか   \n1  Birmingham, Europe, Earth   \n2             Washington, DC   \n3                        どこか   \n4                        どこか   \n\n                                                text language hashtags  \\\n0  1号型ミサイル艇/日本/ミサイル艇\\n旧式化した魚雷艇をミサイル艇に置き換えたい→分かる\\n...       ja     None   \n1  Looks like that Russian Warship got served 👍\\n...       en     None   \n2  Russian warship, go fuck yourself! https://t.c...       en     None   \n3  ワスプ/アメリカ/空母\\nヨークタウン級建造の際に余った排水量を埋めるために作った空母　アメ...       ja     None   \n4  天龍型軽巡洋艦/日本/軽巡洋艦\\nイギリスのアリシューザ級を参考に建造した日本初の軽巡洋艦　...       ja     None   \n\n                                           media_url              source  \\\n0  [https://pbs.twimg.com/media/D1JeHtYUYAAzlYW.jpg]        twittbot.net   \n1  [https://pbs.twimg.com/media/FNSTR-PXoAgvFbI.jpg]     Twitter Web App   \n2  [https://pbs.twimg.com/media/FNSTjlqWYAQ32KC.jpg]  Twitter for iPhone   \n3  [https://pbs.twimg.com/media/Dz2-U8RVAAAKSkb.jpg]        twittbot.net   \n4  [https://pbs.twimg.com/media/DDDU-J4UAAAzYM0.jpg]        twittbot.net   \n\n  coordinates place time_zone  \n0        None  None      None  \n1        None  None      None  \n2        None  None      None  \n3        None  None      None  \n4        None  None      None  ",
      "text/html": "<div>\n<style scoped>\n    .dataframe tbody tr th:only-of-type {\n        vertical-align: middle;\n    }\n\n    .dataframe tbody tr th {\n        vertical-align: top;\n    }\n\n    .dataframe thead th {\n        text-align: right;\n    }\n</style>\n<table border=\"1\" class=\"dataframe\">\n  <thead>\n    <tr style=\"text-align: right;\">\n      <th></th>\n      <th>created_at</th>\n      <th>user_name</th>\n      <th>screen_name</th>\n      <th>description</th>\n      <th>user_location</th>\n      <th>text</th>\n      <th>language</th>\n      <th>hashtags</th>\n      <th>media_url</th>\n      <th>source</th>\n      <th>coordinates</th>\n      <th>place</th>\n      <th>time_zone</th>\n    </tr>\n  </thead>\n  <tbody>\n    <tr>\n      <th>0</th>\n      <td>2022-03-08 00:11:02+00:00</td>\n      <td>軍艦を偏見とガバガバ知識で語るbot</td>\n      <td>warship_hengaba</td>\n      <td>その名の通り軍艦を偏見とガバガバ知識で語るbotです。30分に1回はつぶやきます。  艦これ...</td>\n      <td>どこか</td>\n      <td>1号型ミサイル艇/日本/ミサイル艇\\n旧式化した魚雷艇をミサイル艇に置き換えたい→分かる\\n...</td>\n      <td>ja</td>\n      <td>None</td>\n      <td>[https://pbs.twimg.com/media/D1JeHtYUYAAzlYW.jpg]</td>\n      <td>twittbot.net</td>\n      <td>None</td>\n      <td>None</td>\n      <td>None</td>\n    </tr>\n    <tr>\n      <th>1</th>\n      <td>2022-03-08 00:08:52+00:00</td>\n      <td>💙 Jane 🇺🇦 🕊️🌱</td>\n      <td>localnotail</td>\n      <td>Local. Bit Gonzo\\nMostly harmless Library Assi...</td>\n      <td>Birmingham, Europe, Earth</td>\n      <td>Looks like that Russian Warship got served 👍\\n...</td>\n      <td>en</td>\n      <td>None</td>\n      <td>[https://pbs.twimg.com/media/FNSTR-PXoAgvFbI.jpg]</td>\n      <td>Twitter Web App</td>\n      <td>None</td>\n      <td>None</td>\n      <td>None</td>\n    </tr>\n    <tr>\n      <th>2</th>\n      <td>2022-03-08 00:08:39+00:00</td>\n      <td>хроніки незабаром 🦚🇺🇦</td>\n      <td>shurioque</td>\n      <td>файний хлопець з котом; живу у Вашингтоні, пра...</td>\n      <td>Washington, DC</td>\n      <td>Russian warship, go fuck yourself! https://t.c...</td>\n      <td>en</td>\n      <td>None</td>\n      <td>[https://pbs.twimg.com/media/FNSTjlqWYAQ32KC.jpg]</td>\n      <td>Twitter for iPhone</td>\n      <td>None</td>\n      <td>None</td>\n      <td>None</td>\n    </tr>\n    <tr>\n      <th>3</th>\n      <td>2022-03-07 23:40:56+00:00</td>\n      <td>軍艦を偏見とガバガバ知識で語るbot</td>\n      <td>warship_hengaba</td>\n      <td>その名の通り軍艦を偏見とガバガバ知識で語るbotです。30分に1回はつぶやきます。  艦これ...</td>\n      <td>どこか</td>\n      <td>ワスプ/アメリカ/空母\\nヨークタウン級建造の際に余った排水量を埋めるために作った空母　アメ...</td>\n      <td>ja</td>\n      <td>None</td>\n      <td>[https://pbs.twimg.com/media/Dz2-U8RVAAAKSkb.jpg]</td>\n      <td>twittbot.net</td>\n      <td>None</td>\n      <td>None</td>\n      <td>None</td>\n    </tr>\n    <tr>\n      <th>4</th>\n      <td>2022-03-07 23:11:36+00:00</td>\n      <td>軍艦を偏見とガバガバ知識で語るbot</td>\n      <td>warship_hengaba</td>\n      <td>その名の通り軍艦を偏見とガバガバ知識で語るbotです。30分に1回はつぶやきます。  艦これ...</td>\n      <td>どこか</td>\n      <td>天龍型軽巡洋艦/日本/軽巡洋艦\\nイギリスのアリシューザ級を参考に建造した日本初の軽巡洋艦　...</td>\n      <td>ja</td>\n      <td>None</td>\n      <td>[https://pbs.twimg.com/media/DDDU-J4UAAAzYM0.jpg]</td>\n      <td>twittbot.net</td>\n      <td>None</td>\n      <td>None</td>\n      <td>None</td>\n    </tr>\n  </tbody>\n</table>\n</div>"
     },
     "execution_count": 24,
     "metadata": {},
     "output_type": "execute_result"
    }
   ],
   "source": [
    "# Use getQueryTweets function (search_query = 'warship', count = 500)\n",
    "query1 = getQueryTweets('warship -filter:retweets', 500) # -filter:retweets excludes RT from query\n",
    "\n",
    "# show total number of tweets fetched\n",
    "print(\"Total Tweets fetched:\", len(query1))\n",
    "\n",
    "# show the dataframe\n",
    "query1.head()"
   ],
   "metadata": {
    "collapsed": false,
    "pycharm": {
     "name": "#%%\n"
    }
   }
  },
  {
   "cell_type": "code",
   "execution_count": 25,
   "outputs": [],
   "source": [
    "# export dataframe to csv file\n",
    "query1.to_csv('C:/Users/tivon/projects/twitter_project/data/query_tweets_warship.csv')"
   ],
   "metadata": {
    "collapsed": false,
    "pycharm": {
     "name": "#%%\n"
    }
   }
  },
  {
   "cell_type": "markdown",
   "source": [
    "### query2\n",
    "search_query = containership"
   ],
   "metadata": {
    "collapsed": false,
    "pycharm": {
     "name": "#%% md\n"
    }
   }
  },
  {
   "cell_type": "code",
   "execution_count": 26,
   "outputs": [
    {
     "name": "stdout",
     "output_type": "stream",
     "text": [
      "Total Tweets fetched: 13\n"
     ]
    },
    {
     "data": {
      "text/plain": "                 created_at     user_name    screen_name  \\\n0 2022-03-07 20:02:03+00:00  TheEazyCadet      EazyCadet   \n1 2022-03-07 10:23:06+00:00  TheEazyCadet      EazyCadet   \n2 2022-03-05 16:01:42+00:00   John Morgan  johnmorgan726   \n3 2022-03-03 07:18:29+00:00        Færder      faerder46   \n4 2022-03-02 08:40:07+00:00    Adis Ajdin      AdisAjdin   \n\n                                         description            user_location  \\\n0  'The Eazy Cadet' is an online resource centre ...  England, United Kingdom   \n1  'The Eazy Cadet' is an online resource centre ...  England, United Kingdom   \n2  I enjoy HAM radio, fishing, and maritime traff...       Virginia Beach, VA   \n3  Ships, ferries, life.... enjoy listening to th...                      UK    \n4  Chief Correspondent at Splash Maritime and Off...                            \n\n                                                text language  \\\n0  Incident Video: Dinghy Operator Nearly Run Ove...       en   \n1  LNG-fueled containership MSC Washington wraps ...       en   \n2  The BREMEN, IMO:9450387 en route to New York, ...       en   \n3  The JSP Rover @DublinPortCo @BgFreightLine #co...       en   \n4  Containership orderbook closes in on all-time ...       en   \n\n                                            hashtags  \\\n0                                               None   \n1                                               None   \n2               [Bremen, ContainerShip, ShipsInPics]   \n3  [containership, dublin, freight, supplychain, ...   \n4                                               None   \n\n                                           media_url              source  \\\n0  [https://pbs.twimg.com/media/FNRbHhPVgAM0u_-.png]             dlvr.it   \n1  [https://pbs.twimg.com/media/FNPWmoyUYAElRjN.jpg]             dlvr.it   \n2  [https://pbs.twimg.com/media/FNGQ69wX0AgbOvZ.jpg]    Twitter for iPad   \n3  [https://pbs.twimg.com/media/FM6F_OEWYAEXq5w.jpg]  Twitter for iPhone   \n4  [https://pbs.twimg.com/media/FM1PFgMVUAcACMz.jpg]             dlvr.it   \n\n  coordinates                                              place time_zone  \n0        None                                               None      None  \n1        None                                               None      None  \n2        None  Place(_api=<tweepy.api.API object at 0x000002C...      None  \n3        None                                               None      None  \n4        None                                               None      None  ",
      "text/html": "<div>\n<style scoped>\n    .dataframe tbody tr th:only-of-type {\n        vertical-align: middle;\n    }\n\n    .dataframe tbody tr th {\n        vertical-align: top;\n    }\n\n    .dataframe thead th {\n        text-align: right;\n    }\n</style>\n<table border=\"1\" class=\"dataframe\">\n  <thead>\n    <tr style=\"text-align: right;\">\n      <th></th>\n      <th>created_at</th>\n      <th>user_name</th>\n      <th>screen_name</th>\n      <th>description</th>\n      <th>user_location</th>\n      <th>text</th>\n      <th>language</th>\n      <th>hashtags</th>\n      <th>media_url</th>\n      <th>source</th>\n      <th>coordinates</th>\n      <th>place</th>\n      <th>time_zone</th>\n    </tr>\n  </thead>\n  <tbody>\n    <tr>\n      <th>0</th>\n      <td>2022-03-07 20:02:03+00:00</td>\n      <td>TheEazyCadet</td>\n      <td>EazyCadet</td>\n      <td>'The Eazy Cadet' is an online resource centre ...</td>\n      <td>England, United Kingdom</td>\n      <td>Incident Video: Dinghy Operator Nearly Run Ove...</td>\n      <td>en</td>\n      <td>None</td>\n      <td>[https://pbs.twimg.com/media/FNRbHhPVgAM0u_-.png]</td>\n      <td>dlvr.it</td>\n      <td>None</td>\n      <td>None</td>\n      <td>None</td>\n    </tr>\n    <tr>\n      <th>1</th>\n      <td>2022-03-07 10:23:06+00:00</td>\n      <td>TheEazyCadet</td>\n      <td>EazyCadet</td>\n      <td>'The Eazy Cadet' is an online resource centre ...</td>\n      <td>England, United Kingdom</td>\n      <td>LNG-fueled containership MSC Washington wraps ...</td>\n      <td>en</td>\n      <td>None</td>\n      <td>[https://pbs.twimg.com/media/FNPWmoyUYAElRjN.jpg]</td>\n      <td>dlvr.it</td>\n      <td>None</td>\n      <td>None</td>\n      <td>None</td>\n    </tr>\n    <tr>\n      <th>2</th>\n      <td>2022-03-05 16:01:42+00:00</td>\n      <td>John Morgan</td>\n      <td>johnmorgan726</td>\n      <td>I enjoy HAM radio, fishing, and maritime traff...</td>\n      <td>Virginia Beach, VA</td>\n      <td>The BREMEN, IMO:9450387 en route to New York, ...</td>\n      <td>en</td>\n      <td>[Bremen, ContainerShip, ShipsInPics]</td>\n      <td>[https://pbs.twimg.com/media/FNGQ69wX0AgbOvZ.jpg]</td>\n      <td>Twitter for iPad</td>\n      <td>None</td>\n      <td>Place(_api=&lt;tweepy.api.API object at 0x000002C...</td>\n      <td>None</td>\n    </tr>\n    <tr>\n      <th>3</th>\n      <td>2022-03-03 07:18:29+00:00</td>\n      <td>Færder</td>\n      <td>faerder46</td>\n      <td>Ships, ferries, life.... enjoy listening to th...</td>\n      <td>UK</td>\n      <td>The JSP Rover @DublinPortCo @BgFreightLine #co...</td>\n      <td>en</td>\n      <td>[containership, dublin, freight, supplychain, ...</td>\n      <td>[https://pbs.twimg.com/media/FM6F_OEWYAEXq5w.jpg]</td>\n      <td>Twitter for iPhone</td>\n      <td>None</td>\n      <td>None</td>\n      <td>None</td>\n    </tr>\n    <tr>\n      <th>4</th>\n      <td>2022-03-02 08:40:07+00:00</td>\n      <td>Adis Ajdin</td>\n      <td>AdisAjdin</td>\n      <td>Chief Correspondent at Splash Maritime and Off...</td>\n      <td></td>\n      <td>Containership orderbook closes in on all-time ...</td>\n      <td>en</td>\n      <td>None</td>\n      <td>[https://pbs.twimg.com/media/FM1PFgMVUAcACMz.jpg]</td>\n      <td>dlvr.it</td>\n      <td>None</td>\n      <td>None</td>\n      <td>None</td>\n    </tr>\n  </tbody>\n</table>\n</div>"
     },
     "execution_count": 26,
     "metadata": {},
     "output_type": "execute_result"
    }
   ],
   "source": [
    "# Use getQueryTweets function (search_query = 'containership', count = 500)\n",
    "query2 = getQueryTweets('containership -filter:retweets', 500) # -filter:retweets excludes RT from query\n",
    "\n",
    "# show total number of tweets fetched\n",
    "print(\"Total Tweets fetched:\", len(query2))\n",
    "\n",
    "# show the dataframe\n",
    "query2.head()"
   ],
   "metadata": {
    "collapsed": false,
    "pycharm": {
     "name": "#%%\n"
    }
   }
  },
  {
   "cell_type": "code",
   "execution_count": 27,
   "outputs": [],
   "source": [
    "# export dataframe to csv file\n",
    "query2.to_csv('C:/Users/tivon/projects/twitter_project/data/query_tweets_containership.csv')"
   ],
   "metadata": {
    "collapsed": false,
    "pycharm": {
     "name": "#%%\n"
    }
   }
  },
  {
   "cell_type": "markdown",
   "source": [
    "### query3\n",
    "search_query = navylookout"
   ],
   "metadata": {
    "collapsed": false,
    "pycharm": {
     "name": "#%% md\n"
    }
   }
  },
  {
   "cell_type": "code",
   "execution_count": 28,
   "outputs": [
    {
     "name": "stdout",
     "output_type": "stream",
     "text": [
      "Total Tweets fetched: 32\n"
     ]
    },
    {
     "data": {
      "text/plain": "                 created_at            user_name     screen_name  \\\n0 2022-03-07 20:57:01+00:00           Bill Smith        Bill3294   \n1 2022-03-07 20:26:30+00:00             Jonathan          JonoCC   \n2 2022-03-07 20:25:15+00:00             Jonathan          JonoCC   \n3 2022-03-07 18:07:50+00:00  TomLeachPhotography  TomLeachPhotos   \n4 2022-03-07 17:49:25+00:00           Chris C 🇬🇧      scottyc298   \n\n                                         description     user_location  \\\n0                                                                        \n1                                                     Dundee, Scotland   \n2                                                     Dundee, Scotland   \n3  18 Year old Photographer.\\n\\nLiverpool and Glo...                     \n4  Focus on 🇬🇧 Navy and covers all branches inc 🇺...  Fareham, England   \n\n                                                text language hashtags  \\\n0  @NavyLookout @COM_SNMG1 @dcullen_photo I watch...       en     None   \n1  @NavyLookout @UKDefJournal @geoallison https:/...      und     None   \n2  @NavyLookout @UKDefJournal @geoallison https:/...      und     None   \n3  @HMSLANCASTER inbound to a cold and windy @HMN...       en     None   \n4  @HMSQNLZ and @HMS_Richmond. @RNPics_ @SouthCoa...      und     None   \n\n                                           media_url               source  \\\n0  [https://pbs.twimg.com/media/FNRnqa1XMAEvT9f.jpg]      Twitter Web App   \n1  [https://pbs.twimg.com/ext_tw_video_thumb/1500...      Twitter Web App   \n2  [https://pbs.twimg.com/ext_tw_video_thumb/1500...      Twitter Web App   \n3  [https://pbs.twimg.com/media/FNRAtc2XMAIS-0Z.jpg]  Twitter for Android   \n4  [https://pbs.twimg.com/media/FNQ8wc3XIAIgkgC.jpg]   Twitter for iPhone   \n\n  coordinates place time_zone  \n0        None  None      None  \n1        None  None      None  \n2        None  None      None  \n3        None  None      None  \n4        None  None      None  ",
      "text/html": "<div>\n<style scoped>\n    .dataframe tbody tr th:only-of-type {\n        vertical-align: middle;\n    }\n\n    .dataframe tbody tr th {\n        vertical-align: top;\n    }\n\n    .dataframe thead th {\n        text-align: right;\n    }\n</style>\n<table border=\"1\" class=\"dataframe\">\n  <thead>\n    <tr style=\"text-align: right;\">\n      <th></th>\n      <th>created_at</th>\n      <th>user_name</th>\n      <th>screen_name</th>\n      <th>description</th>\n      <th>user_location</th>\n      <th>text</th>\n      <th>language</th>\n      <th>hashtags</th>\n      <th>media_url</th>\n      <th>source</th>\n      <th>coordinates</th>\n      <th>place</th>\n      <th>time_zone</th>\n    </tr>\n  </thead>\n  <tbody>\n    <tr>\n      <th>0</th>\n      <td>2022-03-07 20:57:01+00:00</td>\n      <td>Bill Smith</td>\n      <td>Bill3294</td>\n      <td></td>\n      <td></td>\n      <td>@NavyLookout @COM_SNMG1 @dcullen_photo I watch...</td>\n      <td>en</td>\n      <td>None</td>\n      <td>[https://pbs.twimg.com/media/FNRnqa1XMAEvT9f.jpg]</td>\n      <td>Twitter Web App</td>\n      <td>None</td>\n      <td>None</td>\n      <td>None</td>\n    </tr>\n    <tr>\n      <th>1</th>\n      <td>2022-03-07 20:26:30+00:00</td>\n      <td>Jonathan</td>\n      <td>JonoCC</td>\n      <td></td>\n      <td>Dundee, Scotland</td>\n      <td>@NavyLookout @UKDefJournal @geoallison https:/...</td>\n      <td>und</td>\n      <td>None</td>\n      <td>[https://pbs.twimg.com/ext_tw_video_thumb/1500...</td>\n      <td>Twitter Web App</td>\n      <td>None</td>\n      <td>None</td>\n      <td>None</td>\n    </tr>\n    <tr>\n      <th>2</th>\n      <td>2022-03-07 20:25:15+00:00</td>\n      <td>Jonathan</td>\n      <td>JonoCC</td>\n      <td></td>\n      <td>Dundee, Scotland</td>\n      <td>@NavyLookout @UKDefJournal @geoallison https:/...</td>\n      <td>und</td>\n      <td>None</td>\n      <td>[https://pbs.twimg.com/ext_tw_video_thumb/1500...</td>\n      <td>Twitter Web App</td>\n      <td>None</td>\n      <td>None</td>\n      <td>None</td>\n    </tr>\n    <tr>\n      <th>3</th>\n      <td>2022-03-07 18:07:50+00:00</td>\n      <td>TomLeachPhotography</td>\n      <td>TomLeachPhotos</td>\n      <td>18 Year old Photographer.\\n\\nLiverpool and Glo...</td>\n      <td></td>\n      <td>@HMSLANCASTER inbound to a cold and windy @HMN...</td>\n      <td>en</td>\n      <td>None</td>\n      <td>[https://pbs.twimg.com/media/FNRAtc2XMAIS-0Z.jpg]</td>\n      <td>Twitter for Android</td>\n      <td>None</td>\n      <td>None</td>\n      <td>None</td>\n    </tr>\n    <tr>\n      <th>4</th>\n      <td>2022-03-07 17:49:25+00:00</td>\n      <td>Chris C 🇬🇧</td>\n      <td>scottyc298</td>\n      <td>Focus on 🇬🇧 Navy and covers all branches inc 🇺...</td>\n      <td>Fareham, England</td>\n      <td>@HMSQNLZ and @HMS_Richmond. @RNPics_ @SouthCoa...</td>\n      <td>und</td>\n      <td>None</td>\n      <td>[https://pbs.twimg.com/media/FNQ8wc3XIAIgkgC.jpg]</td>\n      <td>Twitter for iPhone</td>\n      <td>None</td>\n      <td>None</td>\n      <td>None</td>\n    </tr>\n  </tbody>\n</table>\n</div>"
     },
     "execution_count": 28,
     "metadata": {},
     "output_type": "execute_result"
    }
   ],
   "source": [
    "# Use getQueryTweets function (search_query = 'navylookout', count = 500)\n",
    "query3 = getQueryTweets('navylookout -filter:retweets', 500) # -filter:retweets excludes RT from query\n",
    "\n",
    "# show total number of tweets fetched\n",
    "print(\"Total Tweets fetched:\", len(query3))\n",
    "\n",
    "# show the dataframe\n",
    "query3.head()"
   ],
   "metadata": {
    "collapsed": false,
    "pycharm": {
     "name": "#%%\n"
    }
   }
  },
  {
   "cell_type": "code",
   "execution_count": 29,
   "outputs": [],
   "source": [
    "# export dataframe to csv file\n",
    "query3.to_csv('C:/Users/tivon/projects/twitter_project/data/query_tweets_navylookout.csv')"
   ],
   "metadata": {
    "collapsed": false,
    "pycharm": {
     "name": "#%%\n"
    }
   }
  }
 ],
 "metadata": {
  "kernelspec": {
   "display_name": "Python 3",
   "language": "python",
   "name": "python3"
  },
  "language_info": {
   "codemirror_mode": {
    "name": "ipython",
    "version": 2
   },
   "file_extension": ".py",
   "mimetype": "text/x-python",
   "name": "python",
   "nbconvert_exporter": "python",
   "pygments_lexer": "ipython2",
   "version": "2.7.6"
  }
 },
 "nbformat": 4,
 "nbformat_minor": 0
}