{
 "cells": [
  {
   "cell_type": "code",
   "execution_count": 3,
   "metadata": {
    "collapsed": true
   },
   "outputs": [],
   "source": [
    "import config\n",
    "import tweepy\n",
    "import pandas as pd\n",
    "\n",
    "api_key = ''\n",
    "api_key_secret = ''\n",
    "\n",
    "access_token = ''\n",
    "access_secret_token = ''\n",
    "\n",
    "auth = tweepy.OAuthHandler(config.api_key, config.api_key_secret)\n",
    "auth.set_access_token(config.access_token, config.access_secret_token)\n",
    "\n",
    "api = tweepy.API(auth, wait_on_rate_limit=True)"
   ]
  },
  {
   "cell_type": "code",
   "execution_count": 4,
   "outputs": [],
   "source": [
    "def getUserTweets(screen_name, count):\n",
    "\n",
    "\n",
    "    # get tweets from the API\n",
    "    tweets = tweepy.Cursor(api.user_timeline, screen_name=screen_name).items(count)\n",
    "\n",
    "    # store the API responses in a list\n",
    "    tweets_copy = []\n",
    "    for tweet in tweets:\n",
    "        if 'media' in tweet.entities: # and 'RT @' not in tweet.text:\n",
    "            tweets_copy.append(tweet)\n",
    "\n",
    "    # initialize the dataframe\n",
    "    tweets_df = pd.DataFrame()\n",
    "    # populate the dataframe\n",
    "    for tweet in tweets_copy:\n",
    "        hashtags = []\n",
    "        media_url = []\n",
    "        try:\n",
    "            for hashtag in tweet.entities[\"hashtags\"]:\n",
    "                pd.concat([hashtags, hashtag[\"text\"]])\n",
    "            for media in tweet.entities['media']:\n",
    "                pd.concat([media_url, media[\"media_url_https\"]])\n",
    "        except:\n",
    "            pass\n",
    "        tweets_df = pd.concat([tweets_df, pd.DataFrame({'created_at': tweet.created_at,\n",
    "                                                        'user_name': tweet.user.name,\n",
    "                                                        'screen_name': tweet.user.screen_name,\n",
    "                                                        'description': tweet.user.description,\n",
    "                                                        'user_location': tweet.user.location,\n",
    "                                                        'text': tweet.text,\n",
    "                                                        'language': tweet.lang,\n",
    "                                                        'hashtags': [hashtags if hashtags else None],\n",
    "                                                        'media_url':[media_url if media_url else None],\n",
    "                                                        'source': tweet.source,\n",
    "                                                        'coordinates': tweet.coordinates,\n",
    "                                                        'place': tweet.place,\n",
    "                                                        'time_zone': tweet.user.time_zone,\n",
    "                                                        })])\n",
    "        tweets_df = tweets_df.reset_index(drop=True)\n",
    "\n",
    "    return tweets_df"
   ],
   "metadata": {
    "collapsed": false,
    "pycharm": {
     "name": "#%%\n"
    }
   }
  },
  {
   "cell_type": "code",
   "execution_count": 5,
   "outputs": [],
   "source": [
    "def getQueryTweets(search_query, count):\n",
    "\n",
    "    # get tweets from the API\n",
    "    tweets = tweepy.Cursor(api.search_tweets, q=search_query).items(count)\n",
    "\n",
    "    # store the API responses in a list\n",
    "    tweets_copy = []\n",
    "    for tweet in tweets:\n",
    "        if 'media' in tweet.entities:\n",
    "            tweets_copy.append(tweet)\n",
    "\n",
    "    # initialize the dataframe\n",
    "    tweets_df = pd.DataFrame()\n",
    "    # populate the dataframe\n",
    "    for tweet in tweets_copy:\n",
    "        hashtags = []\n",
    "        media_url = []\n",
    "        try:\n",
    "            for hashtag in tweet.entities[\"hashtags\"]:\n",
    "                pd.concat([hashtags, hashtag[\"text\"]])\n",
    "            for media in tweet.entities['media']:\n",
    "                pd.concat([media_url, media[\"media_url_https\"]])\n",
    "        except:\n",
    "            pass\n",
    "        tweets_df = pd.concat([tweets_df, pd.DataFrame({'created_at': tweet.created_at,\n",
    "                                                        'user_name': tweet.user.name,\n",
    "                                                        'screen_name': tweet.user.screen_name,\n",
    "                                                        'description': tweet.user.description,\n",
    "                                                        'user_location': tweet.user.location,\n",
    "                                                        'text': tweet.text,\n",
    "                                                        'language': tweet.lang,\n",
    "                                                        'hashtags': [hashtags if hashtags else None],\n",
    "                                                        'media_url':[media_url if media_url else None],\n",
    "                                                        'source': tweet.source,\n",
    "                                                        'coordinates': tweet.coordinates,\n",
    "                                                        'place': tweet.place,\n",
    "                                                        'time_zone': tweet.user.time_zone,\n",
    "                                                        })])\n",
    "        tweets_df = tweets_df.reset_index(drop=True)\n",
    "\n",
    "    return tweets_df"
   ],
   "metadata": {
    "collapsed": false,
    "pycharm": {
     "name": "#%%\n"
    }
   }
  },
  {
   "cell_type": "markdown",
   "source": [
    "## User Tweets\n",
    "Use getUserTweets() function to fetch user tweets"
   ],
   "metadata": {
    "collapsed": false,
    "pycharm": {
     "name": "#%% md\n"
    }
   }
  },
  {
   "cell_type": "markdown",
   "source": [
    "### user1\n",
    "screen_name = @PilotHarbour"
   ],
   "metadata": {
    "collapsed": false,
    "pycharm": {
     "name": "#%% md\n"
    }
   }
  },
  {
   "cell_type": "code",
   "execution_count": 6,
   "outputs": [
    {
     "name": "stdout",
     "output_type": "stream",
     "text": [
      "Total Tweets fetched: 782\n"
     ]
    },
    {
     "data": {
      "text/plain": "                 created_at      user_name   screen_name  \\\n0 2022-03-03 10:48:55+00:00  Harbour Pilot  PilotHarbour   \n1 2022-03-02 11:39:35+00:00  Harbour Pilot  PilotHarbour   \n2 2022-03-02 11:05:12+00:00  Harbour Pilot  PilotHarbour   \n3 2022-03-02 10:49:45+00:00  Harbour Pilot  PilotHarbour   \n4 2022-03-02 10:36:02+00:00  Harbour Pilot  PilotHarbour   \n\n                            description    user_location  \\\n0  Ports and pilots maritime photograpy  Valencia, Spain   \n1  Ports and pilots maritime photograpy  Valencia, Spain   \n2  Ports and pilots maritime photograpy  Valencia, Spain   \n3  Ports and pilots maritime photograpy  Valencia, Spain   \n4  Ports and pilots maritime photograpy  Valencia, Spain   \n\n                                                text language hashtags  \\\n0  Pilot disembark MSC Adelaide, Valencia port. \\...       in     None   \n1  MSC Alix 3 assisted tugs outbound Odessa port....       en     None   \n2  Selamet assisted tugs inbound Odessa port. \\nh...       en     None   \n3  Odessa port. \\nhttps://t.co/ottUyK6gDi https:/...       pt     None   \n4  Big return station, Odessa port. \\nhttps://t.c...       en     None   \n\n  media_url           source coordinates place time_zone  \n0      None  Twitter Web App        None  None      None  \n1      None  Twitter Web App        None  None      None  \n2      None  Twitter Web App        None  None      None  \n3      None  Twitter Web App        None  None      None  \n4      None  Twitter Web App        None  None      None  ",
      "text/html": "<div>\n<style scoped>\n    .dataframe tbody tr th:only-of-type {\n        vertical-align: middle;\n    }\n\n    .dataframe tbody tr th {\n        vertical-align: top;\n    }\n\n    .dataframe thead th {\n        text-align: right;\n    }\n</style>\n<table border=\"1\" class=\"dataframe\">\n  <thead>\n    <tr style=\"text-align: right;\">\n      <th></th>\n      <th>created_at</th>\n      <th>user_name</th>\n      <th>screen_name</th>\n      <th>description</th>\n      <th>user_location</th>\n      <th>text</th>\n      <th>language</th>\n      <th>hashtags</th>\n      <th>media_url</th>\n      <th>source</th>\n      <th>coordinates</th>\n      <th>place</th>\n      <th>time_zone</th>\n    </tr>\n  </thead>\n  <tbody>\n    <tr>\n      <th>0</th>\n      <td>2022-03-03 10:48:55+00:00</td>\n      <td>Harbour Pilot</td>\n      <td>PilotHarbour</td>\n      <td>Ports and pilots maritime photograpy</td>\n      <td>Valencia, Spain</td>\n      <td>Pilot disembark MSC Adelaide, Valencia port. \\...</td>\n      <td>in</td>\n      <td>None</td>\n      <td>None</td>\n      <td>Twitter Web App</td>\n      <td>None</td>\n      <td>None</td>\n      <td>None</td>\n    </tr>\n    <tr>\n      <th>1</th>\n      <td>2022-03-02 11:39:35+00:00</td>\n      <td>Harbour Pilot</td>\n      <td>PilotHarbour</td>\n      <td>Ports and pilots maritime photograpy</td>\n      <td>Valencia, Spain</td>\n      <td>MSC Alix 3 assisted tugs outbound Odessa port....</td>\n      <td>en</td>\n      <td>None</td>\n      <td>None</td>\n      <td>Twitter Web App</td>\n      <td>None</td>\n      <td>None</td>\n      <td>None</td>\n    </tr>\n    <tr>\n      <th>2</th>\n      <td>2022-03-02 11:05:12+00:00</td>\n      <td>Harbour Pilot</td>\n      <td>PilotHarbour</td>\n      <td>Ports and pilots maritime photograpy</td>\n      <td>Valencia, Spain</td>\n      <td>Selamet assisted tugs inbound Odessa port. \\nh...</td>\n      <td>en</td>\n      <td>None</td>\n      <td>None</td>\n      <td>Twitter Web App</td>\n      <td>None</td>\n      <td>None</td>\n      <td>None</td>\n    </tr>\n    <tr>\n      <th>3</th>\n      <td>2022-03-02 10:49:45+00:00</td>\n      <td>Harbour Pilot</td>\n      <td>PilotHarbour</td>\n      <td>Ports and pilots maritime photograpy</td>\n      <td>Valencia, Spain</td>\n      <td>Odessa port. \\nhttps://t.co/ottUyK6gDi https:/...</td>\n      <td>pt</td>\n      <td>None</td>\n      <td>None</td>\n      <td>Twitter Web App</td>\n      <td>None</td>\n      <td>None</td>\n      <td>None</td>\n    </tr>\n    <tr>\n      <th>4</th>\n      <td>2022-03-02 10:36:02+00:00</td>\n      <td>Harbour Pilot</td>\n      <td>PilotHarbour</td>\n      <td>Ports and pilots maritime photograpy</td>\n      <td>Valencia, Spain</td>\n      <td>Big return station, Odessa port. \\nhttps://t.c...</td>\n      <td>en</td>\n      <td>None</td>\n      <td>None</td>\n      <td>Twitter Web App</td>\n      <td>None</td>\n      <td>None</td>\n      <td>None</td>\n    </tr>\n  </tbody>\n</table>\n</div>"
     },
     "execution_count": 6,
     "metadata": {},
     "output_type": "execute_result"
    }
   ],
   "source": [
    "# Use getUserTweets function (screen_name = 'PilotHarbour', count = 1000)\n",
    "user1 = getUserTweets('PilotHarbour', 1000)\n",
    "\n",
    "# show total number of tweets\n",
    "print(\"Total Tweets fetched:\", len(user1))\n",
    "\n",
    "# show the dataframe\n",
    "user1.head()"
   ],
   "metadata": {
    "collapsed": false,
    "pycharm": {
     "name": "#%%\n"
    }
   }
  },
  {
   "cell_type": "code",
   "execution_count": 9,
   "outputs": [],
   "source": [
    "# export dataframe to csv file\n",
    "user1.to_csv('C:/Users/tivon/projects/twitter_project/data/user_tweets_pilotharbour.csv')"
   ],
   "metadata": {
    "collapsed": false,
    "pycharm": {
     "name": "#%%\n"
    }
   }
  },
  {
   "cell_type": "code",
   "execution_count": null,
   "outputs": [],
   "source": [],
   "metadata": {
    "collapsed": false,
    "pycharm": {
     "name": "#%%\n"
    }
   }
  }
 ],
 "metadata": {
  "kernelspec": {
   "display_name": "Python 3",
   "language": "python",
   "name": "python3"
  },
  "language_info": {
   "codemirror_mode": {
    "name": "ipython",
    "version": 2
   },
   "file_extension": ".py",
   "mimetype": "text/x-python",
   "name": "python",
   "nbconvert_exporter": "python",
   "pygments_lexer": "ipython2",
   "version": "2.7.6"
  }
 },
 "nbformat": 4,
 "nbformat_minor": 0
}