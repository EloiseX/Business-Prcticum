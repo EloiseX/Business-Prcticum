{
 "cells": [
  {
   "cell_type": "code",
   "execution_count": 3,
   "metadata": {
    "collapsed": true
   },
   "outputs": [],
   "source": [
    "import config\n",
    "import tweepy\n",
    "import pandas as pd\n",
    "\n",
    "api_key = ''\n",
    "api_key_secret = ''\n",
    "\n",
    "access_token = ''\n",
    "access_secret_token = ''\n",
    "\n",
    "auth = tweepy.OAuthHandler(config.api_key, config.api_key_secret)\n",
    "auth.set_access_token(config.access_token, config.access_secret_token)\n",
    "\n",
    "api = tweepy.API(auth, wait_on_rate_limit=True)"
   ]
  },
  {
   "cell_type": "code",
   "execution_count": 34,
   "outputs": [],
   "source": [
    "def getUserTweets(screen_name, count):\n",
    "\n",
    "\n",
    "    # get tweets from the API\n",
    "    tweets = tweepy.Cursor(api.user_timeline, screen_name=screen_name).items(count)\n",
    "\n",
    "    # store the API responses in a list\n",
    "    tweets_copy = []\n",
    "    for tweet in tweets:\n",
    "        if 'media' in tweet.entities: # and 'RT @' not in tweet.text:\n",
    "            tweets_copy.append(tweet)\n",
    "\n",
    "    # initialize the dataframe\n",
    "    tweets_df = pd.DataFrame()\n",
    "    # populate the dataframe\n",
    "    for tweet in tweets_copy:\n",
    "        hashtags = []\n",
    "        media_url = []\n",
    "        try:\n",
    "            for hashtag in tweet.entities[\"hashtags\"]:\n",
    "                hashtags.append(hashtag[\"text\"])\n",
    "            for media in tweet.entities['media']:\n",
    "                media_url.append(media[\"media_url_https\"])\n",
    "        except:\n",
    "            pass\n",
    "        tweets_df = pd.concat([tweets_df, pd.DataFrame({'created_at': tweet.created_at,\n",
    "                                                        'user_name': tweet.user.name,\n",
    "                                                        'screen_name': tweet.user.screen_name,\n",
    "                                                        'description': tweet.user.description,\n",
    "                                                        'user_location': tweet.user.location,\n",
    "                                                        'text': tweet.text,\n",
    "                                                        'language': tweet.lang,\n",
    "                                                        'hashtags': [hashtags if hashtags else None],\n",
    "                                                        'media_url': [media_url if media_url else None],\n",
    "                                                        'source': tweet.source,\n",
    "                                                        'coordinates': tweet.coordinates,\n",
    "                                                        'place': tweet.place,\n",
    "                                                        'time_zone': tweet.user.time_zone,\n",
    "                                                        })])\n",
    "        tweets_df = tweets_df.reset_index(drop=True)\n",
    "\n",
    "    return tweets_df"
   ],
   "metadata": {
    "collapsed": false,
    "pycharm": {
     "name": "#%%\n"
    }
   }
  },
  {
   "cell_type": "code",
   "execution_count": 37,
   "outputs": [],
   "source": [
    "def getQueryTweets(search_query, count):\n",
    "\n",
    "    # get tweets from the API\n",
    "    tweets = tweepy.Cursor(api.search_tweets, q=search_query).items(count)\n",
    "\n",
    "    # store the API responses in a list\n",
    "    tweets_copy = []\n",
    "    for tweet in tweets:\n",
    "        if 'media' in tweet.entities:\n",
    "            tweets_copy.append(tweet)\n",
    "\n",
    "    # initialize the dataframe\n",
    "    tweets_df = pd.DataFrame()\n",
    "    # populate the dataframe\n",
    "    for tweet in tweets_copy:\n",
    "        hashtags = []\n",
    "        media_url = []\n",
    "        try:\n",
    "            for hashtag in tweet.entities[\"hashtags\"]:\n",
    "                hashtags.append(hashtag[\"text\"])\n",
    "            for media in tweet.entities['media']:\n",
    "                media_url.append(media[\"media_url_https\"])\n",
    "        except:\n",
    "            pass\n",
    "        tweets_df = pd.concat([tweets_df, pd.DataFrame({'created_at': tweet.created_at,\n",
    "                                                        'user_name': tweet.user.name,\n",
    "                                                        'screen_name': tweet.user.screen_name,\n",
    "                                                        'description': tweet.user.description,\n",
    "                                                        'user_location': tweet.user.location,\n",
    "                                                        'text': tweet.text,\n",
    "                                                        'language': tweet.lang,\n",
    "                                                        'hashtags': [hashtags if hashtags else None],\n",
    "                                                        'media_url':[media_url if media_url else None],\n",
    "                                                        'source': tweet.source,\n",
    "                                                        'coordinates': tweet.coordinates,\n",
    "                                                        'place': tweet.place,\n",
    "                                                        'time_zone': tweet.user.time_zone,\n",
    "                                                        })])\n",
    "        tweets_df = tweets_df.reset_index(drop=True)\n",
    "\n",
    "    return tweets_df"
   ],
   "metadata": {
    "collapsed": false,
    "pycharm": {
     "name": "#%%\n"
    }
   }
  },
  {
   "cell_type": "markdown",
   "source": [
    "## User Tweets\n",
    "Use getUserTweets() function to fetch user tweets"
   ],
   "metadata": {
    "collapsed": false,
    "pycharm": {
     "name": "#%% md\n"
    }
   }
  },
  {
   "cell_type": "markdown",
   "source": [
    "### user1\n",
    "screen_name = @PilotHarbour"
   ],
   "metadata": {
    "collapsed": false,
    "pycharm": {
     "name": "#%% md\n"
    }
   }
  },
  {
   "cell_type": "code",
   "execution_count": 35,
   "outputs": [
    {
     "name": "stdout",
     "output_type": "stream",
     "text": [
      "Total Tweets fetched: 783\n"
     ]
    },
    {
     "data": {
      "text/plain": "                 created_at      user_name   screen_name  \\\n0 2022-03-04 11:51:46+00:00  Harbour Pilot  PilotHarbour   \n1 2022-03-04 11:26:55+00:00  Harbour Pilot  PilotHarbour   \n2 2022-03-04 11:04:49+00:00  Harbour Pilot  PilotHarbour   \n3 2022-03-04 10:39:32+00:00  Harbour Pilot  PilotHarbour   \n4 2022-03-04 10:21:45+00:00  Harbour Pilot  PilotHarbour   \n\n                            description    user_location  \\\n0  Ports and pilots maritime photograpy  Valencia, Spain   \n1  Ports and pilots maritime photograpy  Valencia, Spain   \n2  Ports and pilots maritime photograpy  Valencia, Spain   \n3  Ports and pilots maritime photograpy  Valencia, Spain   \n4  Ports and pilots maritime photograpy  Valencia, Spain   \n\n                                                text language hashtags  \\\n0  Al Aamriya anchored and bunker operations, Gib...       en     None   \n1  Marina R anchored and bunker operations, Gibra...       en     None   \n2  MSC Lucy and Maersk Denver berthed APM Termina...       en     None   \n3  Maersk Hanoi berthed APM Terminal, Algeciras p...       cy     None   \n4  VB Braco waiting next service, Algeciras port....       en     None   \n\n                                           media_url           source  \\\n0  [https://pbs.twimg.com/media/FNAOIJEWYAQ787B.jpg]  Twitter Web App   \n1  [https://pbs.twimg.com/media/FNAIaCpXMAMmDDy.jpg]  Twitter Web App   \n2  [https://pbs.twimg.com/media/FNADWRTXoAAISX1.jpg]  Twitter Web App   \n3  [https://pbs.twimg.com/media/FM_9lwzWYAAMzIi.jpg]  Twitter Web App   \n4  [https://pbs.twimg.com/media/FM_5haeWQAgoEUu.jpg]  Twitter Web App   \n\n  coordinates place time_zone  \n0        None  None      None  \n1        None  None      None  \n2        None  None      None  \n3        None  None      None  \n4        None  None      None  ",
      "text/html": "<div>\n<style scoped>\n    .dataframe tbody tr th:only-of-type {\n        vertical-align: middle;\n    }\n\n    .dataframe tbody tr th {\n        vertical-align: top;\n    }\n\n    .dataframe thead th {\n        text-align: right;\n    }\n</style>\n<table border=\"1\" class=\"dataframe\">\n  <thead>\n    <tr style=\"text-align: right;\">\n      <th></th>\n      <th>created_at</th>\n      <th>user_name</th>\n      <th>screen_name</th>\n      <th>description</th>\n      <th>user_location</th>\n      <th>text</th>\n      <th>language</th>\n      <th>hashtags</th>\n      <th>media_url</th>\n      <th>source</th>\n      <th>coordinates</th>\n      <th>place</th>\n      <th>time_zone</th>\n    </tr>\n  </thead>\n  <tbody>\n    <tr>\n      <th>0</th>\n      <td>2022-03-04 11:51:46+00:00</td>\n      <td>Harbour Pilot</td>\n      <td>PilotHarbour</td>\n      <td>Ports and pilots maritime photograpy</td>\n      <td>Valencia, Spain</td>\n      <td>Al Aamriya anchored and bunker operations, Gib...</td>\n      <td>en</td>\n      <td>None</td>\n      <td>[https://pbs.twimg.com/media/FNAOIJEWYAQ787B.jpg]</td>\n      <td>Twitter Web App</td>\n      <td>None</td>\n      <td>None</td>\n      <td>None</td>\n    </tr>\n    <tr>\n      <th>1</th>\n      <td>2022-03-04 11:26:55+00:00</td>\n      <td>Harbour Pilot</td>\n      <td>PilotHarbour</td>\n      <td>Ports and pilots maritime photograpy</td>\n      <td>Valencia, Spain</td>\n      <td>Marina R anchored and bunker operations, Gibra...</td>\n      <td>en</td>\n      <td>None</td>\n      <td>[https://pbs.twimg.com/media/FNAIaCpXMAMmDDy.jpg]</td>\n      <td>Twitter Web App</td>\n      <td>None</td>\n      <td>None</td>\n      <td>None</td>\n    </tr>\n    <tr>\n      <th>2</th>\n      <td>2022-03-04 11:04:49+00:00</td>\n      <td>Harbour Pilot</td>\n      <td>PilotHarbour</td>\n      <td>Ports and pilots maritime photograpy</td>\n      <td>Valencia, Spain</td>\n      <td>MSC Lucy and Maersk Denver berthed APM Termina...</td>\n      <td>en</td>\n      <td>None</td>\n      <td>[https://pbs.twimg.com/media/FNADWRTXoAAISX1.jpg]</td>\n      <td>Twitter Web App</td>\n      <td>None</td>\n      <td>None</td>\n      <td>None</td>\n    </tr>\n    <tr>\n      <th>3</th>\n      <td>2022-03-04 10:39:32+00:00</td>\n      <td>Harbour Pilot</td>\n      <td>PilotHarbour</td>\n      <td>Ports and pilots maritime photograpy</td>\n      <td>Valencia, Spain</td>\n      <td>Maersk Hanoi berthed APM Terminal, Algeciras p...</td>\n      <td>cy</td>\n      <td>None</td>\n      <td>[https://pbs.twimg.com/media/FM_9lwzWYAAMzIi.jpg]</td>\n      <td>Twitter Web App</td>\n      <td>None</td>\n      <td>None</td>\n      <td>None</td>\n    </tr>\n    <tr>\n      <th>4</th>\n      <td>2022-03-04 10:21:45+00:00</td>\n      <td>Harbour Pilot</td>\n      <td>PilotHarbour</td>\n      <td>Ports and pilots maritime photograpy</td>\n      <td>Valencia, Spain</td>\n      <td>VB Braco waiting next service, Algeciras port....</td>\n      <td>en</td>\n      <td>None</td>\n      <td>[https://pbs.twimg.com/media/FM_5haeWQAgoEUu.jpg]</td>\n      <td>Twitter Web App</td>\n      <td>None</td>\n      <td>None</td>\n      <td>None</td>\n    </tr>\n  </tbody>\n</table>\n</div>"
     },
     "execution_count": 35,
     "metadata": {},
     "output_type": "execute_result"
    }
   ],
   "source": [
    "# Use getUserTweets function (screen_name = 'PilotHarbour', count = 1000)\n",
    "user1 = getUserTweets('PilotHarbour', 1000)\n",
    "\n",
    "# show total number of tweets\n",
    "print(\"Total Tweets fetched:\", len(user1))\n",
    "\n",
    "# show the dataframe\n",
    "user1.head()"
   ],
   "metadata": {
    "collapsed": false,
    "pycharm": {
     "name": "#%%\n"
    }
   }
  },
  {
   "cell_type": "code",
   "execution_count": 36,
   "outputs": [],
   "source": [
    "# export dataframe to csv file\n",
    "user1.to_csv('C:/Users/tivon/projects/twitter_project/data/user_tweets_pilotharbour.csv')"
   ],
   "metadata": {
    "collapsed": false,
    "pycharm": {
     "name": "#%%\n"
    }
   }
  },
  {
   "cell_type": "markdown",
   "source": [
    "### user2\n",
    "screen_name = @ShippingMag"
   ],
   "metadata": {
    "collapsed": false,
    "pycharm": {
     "name": "#%% md\n"
    }
   }
  },
  {
   "cell_type": "code",
   "execution_count": 38,
   "outputs": [
    {
     "name": "stdout",
     "output_type": "stream",
     "text": [
      "Total Tweets fetched: 202\n"
     ]
    },
    {
     "data": {
      "text/plain": "                 created_at     user_name  screen_name  \\\n0 2022-03-03 05:40:50+00:00  Shipping Mag  ShippingMag   \n1 2022-03-01 05:47:57+00:00  Shipping Mag  ShippingMag   \n2 2022-02-28 18:02:38+00:00  Shipping Mag  ShippingMag   \n3 2022-02-28 18:01:39+00:00  Shipping Mag  ShippingMag   \n4 2022-02-28 07:09:38+00:00  Shipping Mag  ShippingMag   \n\n                                         description   user_location  \\\n0  Shipping Today & Yesterday - the monthly magaz...  United Kingdom   \n1  Shipping Today & Yesterday - the monthly magaz...  United Kingdom   \n2  Shipping Today & Yesterday - the monthly magaz...  United Kingdom   \n3  Shipping Today & Yesterday - the monthly magaz...  United Kingdom   \n4  Shipping Today & Yesterday - the monthly magaz...  United Kingdom   \n\n                                                text language hashtags  \\\n0  RT @JuanGMata: Ferry \"Bahama Mama\" saliendo de...       es     None   \n1  RT @BShipspotting: Container ship Lori and bul...       en     None   \n2  RT @MaritimeSocialM: Container Lines Suspend R...       en     None   \n3  RT @ABPSouthampton: Lovely to welcome AIDAcosm...       en     None   \n4  RT @TankerTimelapse: Escape from Fawley https:...       en     None   \n\n                                           media_url               source  \\\n0  [https://pbs.twimg.com/media/FM4CiZiWQAMtiUO.jpg]  Twitter for Android   \n1  [https://pbs.twimg.com/media/FMuAYQqXMAUqqrm.jpg]  Twitter for Android   \n2  [https://pbs.twimg.com/media/FMs1tIzVUAMw8kS.jpg]  Twitter for Android   \n3  [https://pbs.twimg.com/media/FMsyoEeXsAYE0tI.jpg]  Twitter for Android   \n4  [https://pbs.twimg.com/ext_tw_video_thumb/1497...  Twitter for Android   \n\n  coordinates place time_zone  \n0        None  None      None  \n1        None  None      None  \n2        None  None      None  \n3        None  None      None  \n4        None  None      None  ",
      "text/html": "<div>\n<style scoped>\n    .dataframe tbody tr th:only-of-type {\n        vertical-align: middle;\n    }\n\n    .dataframe tbody tr th {\n        vertical-align: top;\n    }\n\n    .dataframe thead th {\n        text-align: right;\n    }\n</style>\n<table border=\"1\" class=\"dataframe\">\n  <thead>\n    <tr style=\"text-align: right;\">\n      <th></th>\n      <th>created_at</th>\n      <th>user_name</th>\n      <th>screen_name</th>\n      <th>description</th>\n      <th>user_location</th>\n      <th>text</th>\n      <th>language</th>\n      <th>hashtags</th>\n      <th>media_url</th>\n      <th>source</th>\n      <th>coordinates</th>\n      <th>place</th>\n      <th>time_zone</th>\n    </tr>\n  </thead>\n  <tbody>\n    <tr>\n      <th>0</th>\n      <td>2022-03-03 05:40:50+00:00</td>\n      <td>Shipping Mag</td>\n      <td>ShippingMag</td>\n      <td>Shipping Today &amp; Yesterday - the monthly magaz...</td>\n      <td>United Kingdom</td>\n      <td>RT @JuanGMata: Ferry \"Bahama Mama\" saliendo de...</td>\n      <td>es</td>\n      <td>None</td>\n      <td>[https://pbs.twimg.com/media/FM4CiZiWQAMtiUO.jpg]</td>\n      <td>Twitter for Android</td>\n      <td>None</td>\n      <td>None</td>\n      <td>None</td>\n    </tr>\n    <tr>\n      <th>1</th>\n      <td>2022-03-01 05:47:57+00:00</td>\n      <td>Shipping Mag</td>\n      <td>ShippingMag</td>\n      <td>Shipping Today &amp; Yesterday - the monthly magaz...</td>\n      <td>United Kingdom</td>\n      <td>RT @BShipspotting: Container ship Lori and bul...</td>\n      <td>en</td>\n      <td>None</td>\n      <td>[https://pbs.twimg.com/media/FMuAYQqXMAUqqrm.jpg]</td>\n      <td>Twitter for Android</td>\n      <td>None</td>\n      <td>None</td>\n      <td>None</td>\n    </tr>\n    <tr>\n      <th>2</th>\n      <td>2022-02-28 18:02:38+00:00</td>\n      <td>Shipping Mag</td>\n      <td>ShippingMag</td>\n      <td>Shipping Today &amp; Yesterday - the monthly magaz...</td>\n      <td>United Kingdom</td>\n      <td>RT @MaritimeSocialM: Container Lines Suspend R...</td>\n      <td>en</td>\n      <td>None</td>\n      <td>[https://pbs.twimg.com/media/FMs1tIzVUAMw8kS.jpg]</td>\n      <td>Twitter for Android</td>\n      <td>None</td>\n      <td>None</td>\n      <td>None</td>\n    </tr>\n    <tr>\n      <th>3</th>\n      <td>2022-02-28 18:01:39+00:00</td>\n      <td>Shipping Mag</td>\n      <td>ShippingMag</td>\n      <td>Shipping Today &amp; Yesterday - the monthly magaz...</td>\n      <td>United Kingdom</td>\n      <td>RT @ABPSouthampton: Lovely to welcome AIDAcosm...</td>\n      <td>en</td>\n      <td>None</td>\n      <td>[https://pbs.twimg.com/media/FMsyoEeXsAYE0tI.jpg]</td>\n      <td>Twitter for Android</td>\n      <td>None</td>\n      <td>None</td>\n      <td>None</td>\n    </tr>\n    <tr>\n      <th>4</th>\n      <td>2022-02-28 07:09:38+00:00</td>\n      <td>Shipping Mag</td>\n      <td>ShippingMag</td>\n      <td>Shipping Today &amp; Yesterday - the monthly magaz...</td>\n      <td>United Kingdom</td>\n      <td>RT @TankerTimelapse: Escape from Fawley https:...</td>\n      <td>en</td>\n      <td>None</td>\n      <td>[https://pbs.twimg.com/ext_tw_video_thumb/1497...</td>\n      <td>Twitter for Android</td>\n      <td>None</td>\n      <td>None</td>\n      <td>None</td>\n    </tr>\n  </tbody>\n</table>\n</div>"
     },
     "execution_count": 38,
     "metadata": {},
     "output_type": "execute_result"
    }
   ],
   "source": [
    "# Use getUserTweets function (screen_name = 'ShippingMag', count = 1000)\n",
    "user2 = getUserTweets('ShippingMag', 1000)\n",
    "\n",
    "# show total number of tweets\n",
    "print(\"Total Tweets fetched:\", len(user2))\n",
    "\n",
    "# show the dataframe\n",
    "user2.head()"
   ],
   "metadata": {
    "collapsed": false,
    "pycharm": {
     "name": "#%%\n"
    }
   }
  },
  {
   "cell_type": "code",
   "execution_count": 39,
   "outputs": [],
   "source": [
    "# export dataframe to csv file\n",
    "user2.to_csv('C:/Users/tivon/projects/twitter_project/data/user_tweets_shippingmag.csv')"
   ],
   "metadata": {
    "collapsed": false,
    "pycharm": {
     "name": "#%%\n"
    }
   }
  },
  {
   "cell_type": "markdown",
   "source": [
    "### user3\n",
    "screen_name = @ShipsInPics"
   ],
   "metadata": {
    "collapsed": false,
    "pycharm": {
     "name": "#%% md\n"
    }
   }
  },
  {
   "cell_type": "code",
   "execution_count": 40,
   "outputs": [
    {
     "name": "stdout",
     "output_type": "stream",
     "text": [
      "Total Tweets fetched: 112\n"
     ]
    },
    {
     "data": {
      "text/plain": "                 created_at             user_name  screen_name  \\\n0 2022-03-03 18:10:38+00:00  Ships In Pictures ⚓️  ShipsInPics   \n1 2022-03-01 00:10:56+00:00  Ships In Pictures ⚓️  ShipsInPics   \n2 2022-03-01 00:10:50+00:00  Ships In Pictures ⚓️  ShipsInPics   \n3 2022-02-28 22:10:34+00:00  Ships In Pictures ⚓️  ShipsInPics   \n4 2022-02-28 18:10:55+00:00  Ships In Pictures ⚓️  ShipsInPics   \n\n                                         description  \\\n0  Sharing the best ship photos 📷 around. Tweets ...   \n1  Sharing the best ship photos 📷 around. Tweets ...   \n2  Sharing the best ship photos 📷 around. Tweets ...   \n3  Sharing the best ship photos 📷 around. Tweets ...   \n4  Sharing the best ship photos 📷 around. Tweets ...   \n\n                  user_location  \\\n0  Email: shipsinpics@gmail.com   \n1  Email: shipsinpics@gmail.com   \n2  Email: shipsinpics@gmail.com   \n3  Email: shipsinpics@gmail.com   \n4  Email: shipsinpics@gmail.com   \n\n                                                text language  \\\n0  RT @AfricaUya: KARIM ALLAH anchored⚓️  #Ship #...       in   \n1  RT @peterlenderink: Nordic Ace - IMO 9386225 -...       en   \n2  RT @peterlenderink: Odda Marie - IMO 9123570 -...       it   \n3  RT @Apez140: #Instantes\\nDe una Arribada a #La...       es   \n4  RT @Apez140: #Instantes\\nDe una Dársena Pesque...       es   \n\n                                            hashtags  \\\n0  [Ship, port, shipsinpics, maritime, VTS, ships...   \n1                            [shipsinpics, ijmuiden]   \n2                            [shipsinpics, ijmuiden]   \n3       [Instantes, LaBahíaDeSantander, ShipsInPics]   \n4       [Instantes, LaBahíaDeSantander, ShipsInPics]   \n\n                                           media_url          source  \\\n0  [https://pbs.twimg.com/media/FM8Z3YkX0AM4vW4.jpg]  RT #shipinpics   \n1  [https://pbs.twimg.com/media/FMuPG7wX0AoEKJL.jpg]  RT #shipinpics   \n2  [https://pbs.twimg.com/media/FMuOnbNWQAUktrE.jpg]  RT #shipinpics   \n3  [https://pbs.twimg.com/media/FMtpw48XoAEmRBv.jpg]  RT #shipinpics   \n4  [https://pbs.twimg.com/media/FMs9GqMXwAAeF2o.jpg]  RT #shipinpics   \n\n  coordinates place time_zone  \n0        None  None      None  \n1        None  None      None  \n2        None  None      None  \n3        None  None      None  \n4        None  None      None  ",
      "text/html": "<div>\n<style scoped>\n    .dataframe tbody tr th:only-of-type {\n        vertical-align: middle;\n    }\n\n    .dataframe tbody tr th {\n        vertical-align: top;\n    }\n\n    .dataframe thead th {\n        text-align: right;\n    }\n</style>\n<table border=\"1\" class=\"dataframe\">\n  <thead>\n    <tr style=\"text-align: right;\">\n      <th></th>\n      <th>created_at</th>\n      <th>user_name</th>\n      <th>screen_name</th>\n      <th>description</th>\n      <th>user_location</th>\n      <th>text</th>\n      <th>language</th>\n      <th>hashtags</th>\n      <th>media_url</th>\n      <th>source</th>\n      <th>coordinates</th>\n      <th>place</th>\n      <th>time_zone</th>\n    </tr>\n  </thead>\n  <tbody>\n    <tr>\n      <th>0</th>\n      <td>2022-03-03 18:10:38+00:00</td>\n      <td>Ships In Pictures ⚓️</td>\n      <td>ShipsInPics</td>\n      <td>Sharing the best ship photos 📷 around. Tweets ...</td>\n      <td>Email: shipsinpics@gmail.com</td>\n      <td>RT @AfricaUya: KARIM ALLAH anchored⚓️  #Ship #...</td>\n      <td>in</td>\n      <td>[Ship, port, shipsinpics, maritime, VTS, ships...</td>\n      <td>[https://pbs.twimg.com/media/FM8Z3YkX0AM4vW4.jpg]</td>\n      <td>RT #shipinpics</td>\n      <td>None</td>\n      <td>None</td>\n      <td>None</td>\n    </tr>\n    <tr>\n      <th>1</th>\n      <td>2022-03-01 00:10:56+00:00</td>\n      <td>Ships In Pictures ⚓️</td>\n      <td>ShipsInPics</td>\n      <td>Sharing the best ship photos 📷 around. Tweets ...</td>\n      <td>Email: shipsinpics@gmail.com</td>\n      <td>RT @peterlenderink: Nordic Ace - IMO 9386225 -...</td>\n      <td>en</td>\n      <td>[shipsinpics, ijmuiden]</td>\n      <td>[https://pbs.twimg.com/media/FMuPG7wX0AoEKJL.jpg]</td>\n      <td>RT #shipinpics</td>\n      <td>None</td>\n      <td>None</td>\n      <td>None</td>\n    </tr>\n    <tr>\n      <th>2</th>\n      <td>2022-03-01 00:10:50+00:00</td>\n      <td>Ships In Pictures ⚓️</td>\n      <td>ShipsInPics</td>\n      <td>Sharing the best ship photos 📷 around. Tweets ...</td>\n      <td>Email: shipsinpics@gmail.com</td>\n      <td>RT @peterlenderink: Odda Marie - IMO 9123570 -...</td>\n      <td>it</td>\n      <td>[shipsinpics, ijmuiden]</td>\n      <td>[https://pbs.twimg.com/media/FMuOnbNWQAUktrE.jpg]</td>\n      <td>RT #shipinpics</td>\n      <td>None</td>\n      <td>None</td>\n      <td>None</td>\n    </tr>\n    <tr>\n      <th>3</th>\n      <td>2022-02-28 22:10:34+00:00</td>\n      <td>Ships In Pictures ⚓️</td>\n      <td>ShipsInPics</td>\n      <td>Sharing the best ship photos 📷 around. Tweets ...</td>\n      <td>Email: shipsinpics@gmail.com</td>\n      <td>RT @Apez140: #Instantes\\nDe una Arribada a #La...</td>\n      <td>es</td>\n      <td>[Instantes, LaBahíaDeSantander, ShipsInPics]</td>\n      <td>[https://pbs.twimg.com/media/FMtpw48XoAEmRBv.jpg]</td>\n      <td>RT #shipinpics</td>\n      <td>None</td>\n      <td>None</td>\n      <td>None</td>\n    </tr>\n    <tr>\n      <th>4</th>\n      <td>2022-02-28 18:10:55+00:00</td>\n      <td>Ships In Pictures ⚓️</td>\n      <td>ShipsInPics</td>\n      <td>Sharing the best ship photos 📷 around. Tweets ...</td>\n      <td>Email: shipsinpics@gmail.com</td>\n      <td>RT @Apez140: #Instantes\\nDe una Dársena Pesque...</td>\n      <td>es</td>\n      <td>[Instantes, LaBahíaDeSantander, ShipsInPics]</td>\n      <td>[https://pbs.twimg.com/media/FMs9GqMXwAAeF2o.jpg]</td>\n      <td>RT #shipinpics</td>\n      <td>None</td>\n      <td>None</td>\n      <td>None</td>\n    </tr>\n  </tbody>\n</table>\n</div>"
     },
     "execution_count": 40,
     "metadata": {},
     "output_type": "execute_result"
    }
   ],
   "source": [
    "# Use getUserTweets function (screen_name = 'ShipsInPics', count = 1000)\n",
    "user3 = getUserTweets('ShipsInPics', 1000)\n",
    "\n",
    "# show total number of tweets\n",
    "print(\"Total Tweets fetched:\", len(user3))\n",
    "\n",
    "# show the dataframe\n",
    "user3.head()"
   ],
   "metadata": {
    "collapsed": false,
    "pycharm": {
     "name": "#%%\n"
    }
   }
  },
  {
   "cell_type": "code",
   "execution_count": 41,
   "outputs": [],
   "source": [
    "# export dataframe to csv file\n",
    "user3.to_csv('C:/Users/tivon/projects/twitter_project/data/user_tweets_shipsinpics.csv')"
   ],
   "metadata": {
    "collapsed": false,
    "pycharm": {
     "name": "#%%\n"
    }
   }
  },
  {
   "cell_type": "markdown",
   "source": [
    "## Query Tweets\n",
    "Use getQueryTweets() function to fetch query tweets"
   ],
   "metadata": {
    "collapsed": false,
    "pycharm": {
     "name": "#%% md\n"
    }
   }
  },
  {
   "cell_type": "markdown",
   "source": [
    "### query1\n",
    "search_query = warship"
   ],
   "metadata": {
    "collapsed": false,
    "pycharm": {
     "name": "#%% md\n"
    }
   }
  },
  {
   "cell_type": "code",
   "execution_count": 42,
   "outputs": [
    {
     "name": "stdout",
     "output_type": "stream",
     "text": [
      "Total Tweets fetched: 66\n"
     ]
    },
    {
     "data": {
      "text/plain": "                 created_at           user_name      screen_name  \\\n0 2022-03-04 12:54:40+00:00      Luc  Paulussen         PLucien1   \n1 2022-03-04 12:41:00+00:00  軍艦を偏見とガバガバ知識で語るbot  warship_hengaba   \n2 2022-03-04 12:37:20+00:00          stereo_cat       stereo_cat   \n3 2022-03-04 12:11:01+00:00  軍艦を偏見とガバガバ知識で語るbot  warship_hengaba   \n4 2022-03-04 11:56:57+00:00       Jeni Balseiro    jeni_balseiro   \n\n                                         description user_location  \\\n0                                Tweets are personal       Belgium   \n1  その名の通り軍艦を偏見とガバガバ知識で語るbotです。30分に1回はつぶやきます。  艦これ...           どこか   \n2  Воистину, я выше всякой меры витиеват и выспре...          Киев   \n3  その名の通り軍艦を偏見とガバガバ知識で語るbotです。30分に1回はつぶやきます。  艦これ...           どこか   \n4  BA History - \\nIntercultural Relations MA student                 \n\n                                                text language  \\\n0  Ukrainians sank the best warship - but their o...       en   \n1  定遠型戦艦/中国/戦艦\\n今中国国産空母とかで色々と騒いでるけど、110年前の定遠鎮遠来日に...       ja   \n2  @cocacola go fuck yourself! russian warship al...       en   \n3  インディアナポリス/アメリカ/重巡洋艦\\n原爆の材料を運んだ軍艦として有名\\n救助が遅れて乗...       ja   \n4  @Armsman47 @millerrmoi @Jon_Wolf_ @VanessaBeel...       en   \n\n                    hashtags  \\\n0                       None   \n1                       None   \n2  [StopWar, GloryToUkraine]   \n3                       None   \n4                       None   \n\n                                           media_url               source  \\\n0  [https://pbs.twimg.com/media/FNAchnQVcAAPui6.jpg]              dlvr.it   \n1  [https://pbs.twimg.com/media/DA-FlCSUIAAtOYJ.jpg]         twittbot.net   \n2  [https://pbs.twimg.com/media/FNAYaNuXoAQ1ebI.png]      Twitter Web App   \n3  [https://pbs.twimg.com/media/DKvFkLiV4AEhJf0.jpg]         twittbot.net   \n4  [https://pbs.twimg.com/media/FNAPUTLXIAMCWo4.jpg]  Twitter for Android   \n\n  coordinates place time_zone  \n0        None  None      None  \n1        None  None      None  \n2        None  None      None  \n3        None  None      None  \n4        None  None      None  ",
      "text/html": "<div>\n<style scoped>\n    .dataframe tbody tr th:only-of-type {\n        vertical-align: middle;\n    }\n\n    .dataframe tbody tr th {\n        vertical-align: top;\n    }\n\n    .dataframe thead th {\n        text-align: right;\n    }\n</style>\n<table border=\"1\" class=\"dataframe\">\n  <thead>\n    <tr style=\"text-align: right;\">\n      <th></th>\n      <th>created_at</th>\n      <th>user_name</th>\n      <th>screen_name</th>\n      <th>description</th>\n      <th>user_location</th>\n      <th>text</th>\n      <th>language</th>\n      <th>hashtags</th>\n      <th>media_url</th>\n      <th>source</th>\n      <th>coordinates</th>\n      <th>place</th>\n      <th>time_zone</th>\n    </tr>\n  </thead>\n  <tbody>\n    <tr>\n      <th>0</th>\n      <td>2022-03-04 12:54:40+00:00</td>\n      <td>Luc  Paulussen</td>\n      <td>PLucien1</td>\n      <td>Tweets are personal</td>\n      <td>Belgium</td>\n      <td>Ukrainians sank the best warship - but their o...</td>\n      <td>en</td>\n      <td>None</td>\n      <td>[https://pbs.twimg.com/media/FNAchnQVcAAPui6.jpg]</td>\n      <td>dlvr.it</td>\n      <td>None</td>\n      <td>None</td>\n      <td>None</td>\n    </tr>\n    <tr>\n      <th>1</th>\n      <td>2022-03-04 12:41:00+00:00</td>\n      <td>軍艦を偏見とガバガバ知識で語るbot</td>\n      <td>warship_hengaba</td>\n      <td>その名の通り軍艦を偏見とガバガバ知識で語るbotです。30分に1回はつぶやきます。  艦これ...</td>\n      <td>どこか</td>\n      <td>定遠型戦艦/中国/戦艦\\n今中国国産空母とかで色々と騒いでるけど、110年前の定遠鎮遠来日に...</td>\n      <td>ja</td>\n      <td>None</td>\n      <td>[https://pbs.twimg.com/media/DA-FlCSUIAAtOYJ.jpg]</td>\n      <td>twittbot.net</td>\n      <td>None</td>\n      <td>None</td>\n      <td>None</td>\n    </tr>\n    <tr>\n      <th>2</th>\n      <td>2022-03-04 12:37:20+00:00</td>\n      <td>stereo_cat</td>\n      <td>stereo_cat</td>\n      <td>Воистину, я выше всякой меры витиеват и выспре...</td>\n      <td>Киев</td>\n      <td>@cocacola go fuck yourself! russian warship al...</td>\n      <td>en</td>\n      <td>[StopWar, GloryToUkraine]</td>\n      <td>[https://pbs.twimg.com/media/FNAYaNuXoAQ1ebI.png]</td>\n      <td>Twitter Web App</td>\n      <td>None</td>\n      <td>None</td>\n      <td>None</td>\n    </tr>\n    <tr>\n      <th>3</th>\n      <td>2022-03-04 12:11:01+00:00</td>\n      <td>軍艦を偏見とガバガバ知識で語るbot</td>\n      <td>warship_hengaba</td>\n      <td>その名の通り軍艦を偏見とガバガバ知識で語るbotです。30分に1回はつぶやきます。  艦これ...</td>\n      <td>どこか</td>\n      <td>インディアナポリス/アメリカ/重巡洋艦\\n原爆の材料を運んだ軍艦として有名\\n救助が遅れて乗...</td>\n      <td>ja</td>\n      <td>None</td>\n      <td>[https://pbs.twimg.com/media/DKvFkLiV4AEhJf0.jpg]</td>\n      <td>twittbot.net</td>\n      <td>None</td>\n      <td>None</td>\n      <td>None</td>\n    </tr>\n    <tr>\n      <th>4</th>\n      <td>2022-03-04 11:56:57+00:00</td>\n      <td>Jeni Balseiro</td>\n      <td>jeni_balseiro</td>\n      <td>BA History - \\nIntercultural Relations MA student</td>\n      <td></td>\n      <td>@Armsman47 @millerrmoi @Jon_Wolf_ @VanessaBeel...</td>\n      <td>en</td>\n      <td>None</td>\n      <td>[https://pbs.twimg.com/media/FNAPUTLXIAMCWo4.jpg]</td>\n      <td>Twitter for Android</td>\n      <td>None</td>\n      <td>None</td>\n      <td>None</td>\n    </tr>\n  </tbody>\n</table>\n</div>"
     },
     "execution_count": 42,
     "metadata": {},
     "output_type": "execute_result"
    }
   ],
   "source": [
    "# Use getQueryTweets function (search_query = 'warship', count = 500)\n",
    "query1 = getQueryTweets('warship -filter:retweets', 500) # -filter:retweets excludes RT from query\n",
    "\n",
    "# show total number of tweets fetched\n",
    "print(\"Total Tweets fetched:\", len(query1))\n",
    "\n",
    "# show the dataframe\n",
    "query1.head()"
   ],
   "metadata": {
    "collapsed": false,
    "pycharm": {
     "name": "#%%\n"
    }
   }
  },
  {
   "cell_type": "code",
   "execution_count": 43,
   "outputs": [],
   "source": [
    "# export dataframe to csv file\n",
    "query1.to_csv('C:/Users/tivon/projects/twitter_project/data/query_tweets_warship.csv')"
   ],
   "metadata": {
    "collapsed": false,
    "pycharm": {
     "name": "#%%\n"
    }
   }
  },
  {
   "cell_type": "markdown",
   "source": [
    "### query2\n",
    "search_query = containership"
   ],
   "metadata": {
    "collapsed": false,
    "pycharm": {
     "name": "#%% md\n"
    }
   }
  },
  {
   "cell_type": "code",
   "execution_count": 44,
   "outputs": [
    {
     "name": "stdout",
     "output_type": "stream",
     "text": [
      "Total Tweets fetched: 12\n"
     ]
    },
    {
     "data": {
      "text/plain": "                 created_at                 user_name      screen_name  \\\n0 2022-03-03 07:18:29+00:00                    Færder        faerder46   \n1 2022-03-02 08:40:07+00:00                Adis Ajdin        AdisAjdin   \n2 2022-03-02 06:33:04+00:00                    Splash       Splash_247   \n3 2022-03-02 02:58:39+00:00  Jason Mosley Photography  JasonMosleyPho1   \n4 2022-03-01 21:45:06+00:00              TheEazyCadet        EazyCadet   \n\n                                         description            user_location  \\\n0  Ships, ferries, life.... enjoy listening to th...                      UK    \n1  Chief Correspondent at Splash Maritime and Off...                            \n2  Splash is the site for incisive, exclusive mar...                Singapore   \n3  Maritime industry, landscapes, photography  Av...         Port Angeles WA.   \n4  'The Eazy Cadet' is an online resource centre ...  England, United Kingdom   \n\n                                                text language  \\\n0  The JSP Rover @DublinPortCo @BgFreightLine #co...       en   \n1  Containership orderbook closes in on all-time ...       en   \n2  Containership orderbook closes in on all-time ...       en   \n3  Port of Seattle WA.    containership offloatin...       en   \n4  Industry Leaders Get AiP from BV for Container...       en   \n\n                                            hashtags  \\\n0  [containership, dublin, freight, supplychain, ...   \n1                                               None   \n2                                               None   \n3                                               None   \n4                                               None   \n\n                                           media_url              source  \\\n0  [https://pbs.twimg.com/media/FM6F_OEWYAEXq5w.jpg]  Twitter for iPhone   \n1  [https://pbs.twimg.com/media/FM1PFgMVUAcACMz.jpg]             dlvr.it   \n2  [https://pbs.twimg.com/media/FM0yAX_VQAEk8VL.jpg]             dlvr.it   \n3  [https://pbs.twimg.com/media/FM0A7jbXoAgovbu.jpg]      Smart Post App   \n4  [https://pbs.twimg.com/media/FMy5KW3UcAU9LyZ.jpg]             dlvr.it   \n\n  coordinates place time_zone  \n0        None  None      None  \n1        None  None      None  \n2        None  None      None  \n3        None  None      None  \n4        None  None      None  ",
      "text/html": "<div>\n<style scoped>\n    .dataframe tbody tr th:only-of-type {\n        vertical-align: middle;\n    }\n\n    .dataframe tbody tr th {\n        vertical-align: top;\n    }\n\n    .dataframe thead th {\n        text-align: right;\n    }\n</style>\n<table border=\"1\" class=\"dataframe\">\n  <thead>\n    <tr style=\"text-align: right;\">\n      <th></th>\n      <th>created_at</th>\n      <th>user_name</th>\n      <th>screen_name</th>\n      <th>description</th>\n      <th>user_location</th>\n      <th>text</th>\n      <th>language</th>\n      <th>hashtags</th>\n      <th>media_url</th>\n      <th>source</th>\n      <th>coordinates</th>\n      <th>place</th>\n      <th>time_zone</th>\n    </tr>\n  </thead>\n  <tbody>\n    <tr>\n      <th>0</th>\n      <td>2022-03-03 07:18:29+00:00</td>\n      <td>Færder</td>\n      <td>faerder46</td>\n      <td>Ships, ferries, life.... enjoy listening to th...</td>\n      <td>UK</td>\n      <td>The JSP Rover @DublinPortCo @BgFreightLine #co...</td>\n      <td>en</td>\n      <td>[containership, dublin, freight, supplychain, ...</td>\n      <td>[https://pbs.twimg.com/media/FM6F_OEWYAEXq5w.jpg]</td>\n      <td>Twitter for iPhone</td>\n      <td>None</td>\n      <td>None</td>\n      <td>None</td>\n    </tr>\n    <tr>\n      <th>1</th>\n      <td>2022-03-02 08:40:07+00:00</td>\n      <td>Adis Ajdin</td>\n      <td>AdisAjdin</td>\n      <td>Chief Correspondent at Splash Maritime and Off...</td>\n      <td></td>\n      <td>Containership orderbook closes in on all-time ...</td>\n      <td>en</td>\n      <td>None</td>\n      <td>[https://pbs.twimg.com/media/FM1PFgMVUAcACMz.jpg]</td>\n      <td>dlvr.it</td>\n      <td>None</td>\n      <td>None</td>\n      <td>None</td>\n    </tr>\n    <tr>\n      <th>2</th>\n      <td>2022-03-02 06:33:04+00:00</td>\n      <td>Splash</td>\n      <td>Splash_247</td>\n      <td>Splash is the site for incisive, exclusive mar...</td>\n      <td>Singapore</td>\n      <td>Containership orderbook closes in on all-time ...</td>\n      <td>en</td>\n      <td>None</td>\n      <td>[https://pbs.twimg.com/media/FM0yAX_VQAEk8VL.jpg]</td>\n      <td>dlvr.it</td>\n      <td>None</td>\n      <td>None</td>\n      <td>None</td>\n    </tr>\n    <tr>\n      <th>3</th>\n      <td>2022-03-02 02:58:39+00:00</td>\n      <td>Jason Mosley Photography</td>\n      <td>JasonMosleyPho1</td>\n      <td>Maritime industry, landscapes, photography  Av...</td>\n      <td>Port Angeles WA.</td>\n      <td>Port of Seattle WA.    containership offloatin...</td>\n      <td>en</td>\n      <td>None</td>\n      <td>[https://pbs.twimg.com/media/FM0A7jbXoAgovbu.jpg]</td>\n      <td>Smart Post App</td>\n      <td>None</td>\n      <td>None</td>\n      <td>None</td>\n    </tr>\n    <tr>\n      <th>4</th>\n      <td>2022-03-01 21:45:06+00:00</td>\n      <td>TheEazyCadet</td>\n      <td>EazyCadet</td>\n      <td>'The Eazy Cadet' is an online resource centre ...</td>\n      <td>England, United Kingdom</td>\n      <td>Industry Leaders Get AiP from BV for Container...</td>\n      <td>en</td>\n      <td>None</td>\n      <td>[https://pbs.twimg.com/media/FMy5KW3UcAU9LyZ.jpg]</td>\n      <td>dlvr.it</td>\n      <td>None</td>\n      <td>None</td>\n      <td>None</td>\n    </tr>\n  </tbody>\n</table>\n</div>"
     },
     "execution_count": 44,
     "metadata": {},
     "output_type": "execute_result"
    }
   ],
   "source": [
    "# Use getQueryTweets function (search_query = 'containership', count = 500)\n",
    "query2 = getQueryTweets('containership -filter:retweets', 500) # -filter:retweets excludes RT from query\n",
    "\n",
    "# show total number of tweets fetched\n",
    "print(\"Total Tweets fetched:\", len(query2))\n",
    "\n",
    "# show the dataframe\n",
    "query2.head()"
   ],
   "metadata": {
    "collapsed": false,
    "pycharm": {
     "name": "#%%\n"
    }
   }
  },
  {
   "cell_type": "code",
   "execution_count": 45,
   "outputs": [],
   "source": [
    "# export dataframe to csv file\n",
    "query2.to_csv('C:/Users/tivon/projects/twitter_project/data/query_tweets_containership.csv')"
   ],
   "metadata": {
    "collapsed": false,
    "pycharm": {
     "name": "#%%\n"
    }
   }
  },
  {
   "cell_type": "markdown",
   "source": [
    "### query3\n",
    "search_query = navylookout"
   ],
   "metadata": {
    "collapsed": false,
    "pycharm": {
     "name": "#%% md\n"
    }
   }
  },
  {
   "cell_type": "code",
   "execution_count": 46,
   "outputs": [
    {
     "name": "stdout",
     "output_type": "stream",
     "text": [
      "Total Tweets fetched: 20\n"
     ]
    },
    {
     "data": {
      "text/plain": "                 created_at        user_name      screen_name  \\\n0 2022-03-04 11:32:58+00:00  Mark H. Pearson       abumax1963   \n1 2022-03-04 10:36:01+00:00      Conchobar Ó  GogleddIwerddon   \n2 2022-03-04 09:39:44+00:00       RandomKiwi      RandomKiwi_   \n3 2022-03-04 08:19:22+00:00   Marneus Calgar         burakykl   \n4 2022-03-03 22:22:25+00:00    The Artificer    artificer_the   \n\n                                         description           user_location  \\\n0  Digital Transformation Office @AirbusDefence -...  Immenstaad am Bodensee   \n1                             @YesCymru member #2355       Gweriniaeth Cymru   \n2  Husband, father, helicopter pilot, car enthusi...             New Zealand   \n3  Little lion tamer, scifi-fantasy fiction enthu...              Holy Terra   \n4   18+ NSFW Infamous in certain online communities.                           \n\n                                                text language hashtags  \\\n0  News from Odessa reminds me of our 1986 HMY Ad...       en     None   \n1  @NavyLookout Just about to shift Tidespring fr...       en     None   \n2  @seanleicester1 @nottheshipQE @NavyLookout @RA...      und     None   \n3  @NavyLookout @Rotorfocus @RAF_Marham As a Turk...       en     None   \n4  @bdc_1234 @NavyLookout This is the Yasa Jupite...       en     None   \n\n                                           media_url              source  \\\n0  [https://pbs.twimg.com/media/FNAJ0r6XIAQlqHI.jpg]  Twitter for iPhone   \n1  [https://pbs.twimg.com/media/FM_8yQgXEAQPwaK.jpg]  Twitter for iPhone   \n2  [https://pbs.twimg.com/media/FM_vwACaUAUEuMM.jpg]     Twitter Web App   \n3  [https://pbs.twimg.com/tweet_video_thumb/FM_dg...  Twitter for iPhone   \n4  [https://pbs.twimg.com/media/FM9U17fX0AYKQ9f.jpg]     Twitter Web App   \n\n  coordinates                                              place time_zone  \n0        None  Place(_api=<tweepy.api.API object at 0x0000026...      None  \n1        None                                               None      None  \n2        None                                               None      None  \n3        None                                               None      None  \n4        None                                               None      None  ",
      "text/html": "<div>\n<style scoped>\n    .dataframe tbody tr th:only-of-type {\n        vertical-align: middle;\n    }\n\n    .dataframe tbody tr th {\n        vertical-align: top;\n    }\n\n    .dataframe thead th {\n        text-align: right;\n    }\n</style>\n<table border=\"1\" class=\"dataframe\">\n  <thead>\n    <tr style=\"text-align: right;\">\n      <th></th>\n      <th>created_at</th>\n      <th>user_name</th>\n      <th>screen_name</th>\n      <th>description</th>\n      <th>user_location</th>\n      <th>text</th>\n      <th>language</th>\n      <th>hashtags</th>\n      <th>media_url</th>\n      <th>source</th>\n      <th>coordinates</th>\n      <th>place</th>\n      <th>time_zone</th>\n    </tr>\n  </thead>\n  <tbody>\n    <tr>\n      <th>0</th>\n      <td>2022-03-04 11:32:58+00:00</td>\n      <td>Mark H. Pearson</td>\n      <td>abumax1963</td>\n      <td>Digital Transformation Office @AirbusDefence -...</td>\n      <td>Immenstaad am Bodensee</td>\n      <td>News from Odessa reminds me of our 1986 HMY Ad...</td>\n      <td>en</td>\n      <td>None</td>\n      <td>[https://pbs.twimg.com/media/FNAJ0r6XIAQlqHI.jpg]</td>\n      <td>Twitter for iPhone</td>\n      <td>None</td>\n      <td>Place(_api=&lt;tweepy.api.API object at 0x0000026...</td>\n      <td>None</td>\n    </tr>\n    <tr>\n      <th>1</th>\n      <td>2022-03-04 10:36:01+00:00</td>\n      <td>Conchobar Ó</td>\n      <td>GogleddIwerddon</td>\n      <td>@YesCymru member #2355</td>\n      <td>Gweriniaeth Cymru</td>\n      <td>@NavyLookout Just about to shift Tidespring fr...</td>\n      <td>en</td>\n      <td>None</td>\n      <td>[https://pbs.twimg.com/media/FM_8yQgXEAQPwaK.jpg]</td>\n      <td>Twitter for iPhone</td>\n      <td>None</td>\n      <td>None</td>\n      <td>None</td>\n    </tr>\n    <tr>\n      <th>2</th>\n      <td>2022-03-04 09:39:44+00:00</td>\n      <td>RandomKiwi</td>\n      <td>RandomKiwi_</td>\n      <td>Husband, father, helicopter pilot, car enthusi...</td>\n      <td>New Zealand</td>\n      <td>@seanleicester1 @nottheshipQE @NavyLookout @RA...</td>\n      <td>und</td>\n      <td>None</td>\n      <td>[https://pbs.twimg.com/media/FM_vwACaUAUEuMM.jpg]</td>\n      <td>Twitter Web App</td>\n      <td>None</td>\n      <td>None</td>\n      <td>None</td>\n    </tr>\n    <tr>\n      <th>3</th>\n      <td>2022-03-04 08:19:22+00:00</td>\n      <td>Marneus Calgar</td>\n      <td>burakykl</td>\n      <td>Little lion tamer, scifi-fantasy fiction enthu...</td>\n      <td>Holy Terra</td>\n      <td>@NavyLookout @Rotorfocus @RAF_Marham As a Turk...</td>\n      <td>en</td>\n      <td>None</td>\n      <td>[https://pbs.twimg.com/tweet_video_thumb/FM_dg...</td>\n      <td>Twitter for iPhone</td>\n      <td>None</td>\n      <td>None</td>\n      <td>None</td>\n    </tr>\n    <tr>\n      <th>4</th>\n      <td>2022-03-03 22:22:25+00:00</td>\n      <td>The Artificer</td>\n      <td>artificer_the</td>\n      <td>18+ NSFW Infamous in certain online communities.</td>\n      <td></td>\n      <td>@bdc_1234 @NavyLookout This is the Yasa Jupite...</td>\n      <td>en</td>\n      <td>None</td>\n      <td>[https://pbs.twimg.com/media/FM9U17fX0AYKQ9f.jpg]</td>\n      <td>Twitter Web App</td>\n      <td>None</td>\n      <td>None</td>\n      <td>None</td>\n    </tr>\n  </tbody>\n</table>\n</div>"
     },
     "execution_count": 46,
     "metadata": {},
     "output_type": "execute_result"
    }
   ],
   "source": [
    "# Use getQueryTweets function (search_query = 'navylookout', count = 500)\n",
    "query3 = getQueryTweets('navylookout -filter:retweets', 500) # -filter:retweets excludes RT from query\n",
    "\n",
    "# show total number of tweets fetched\n",
    "print(\"Total Tweets fetched:\", len(query3))\n",
    "\n",
    "# show the dataframe\n",
    "query3.head()"
   ],
   "metadata": {
    "collapsed": false,
    "pycharm": {
     "name": "#%%\n"
    }
   }
  },
  {
   "cell_type": "code",
   "execution_count": 47,
   "outputs": [],
   "source": [
    "# export dataframe to csv file\n",
    "query3.to_csv('C:/Users/tivon/projects/twitter_project/data/query_tweets_navylookout.csv')"
   ],
   "metadata": {
    "collapsed": false,
    "pycharm": {
     "name": "#%%\n"
    }
   }
  }
 ],
 "metadata": {
  "kernelspec": {
   "display_name": "Python 3",
   "language": "python",
   "name": "python3"
  },
  "language_info": {
   "codemirror_mode": {
    "name": "ipython",
    "version": 2
   },
   "file_extension": ".py",
   "mimetype": "text/x-python",
   "name": "python",
   "nbconvert_exporter": "python",
   "pygments_lexer": "ipython2",
   "version": "2.7.6"
  }
 },
 "nbformat": 4,
 "nbformat_minor": 0
}